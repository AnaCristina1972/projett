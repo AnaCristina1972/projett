{
  "cells": [
    {
      "cell_type": "markdown",
      "metadata": {
        "id": "view-in-github",
        "colab_type": "text"
      },
      "source": [
        "<a href=\"https://colab.research.google.com/github/AnaCristina1972/projett/blob/master/Atividade_2_Diabetes.ipynb\" target=\"_parent\"><img src=\"https://colab.research.google.com/assets/colab-badge.svg\" alt=\"Open In Colab\"/></a>"
      ]
    },
    {
      "cell_type": "markdown",
      "id": "asian-request",
      "metadata": {
        "id": "asian-request"
      },
      "source": [
        "# Atividade 2"
      ]
    },
    {
      "cell_type": "markdown",
      "id": "aggressive-antigua",
      "metadata": {
        "id": "aggressive-antigua"
      },
      "source": [
        "**Índice**"
      ]
    },
    {
      "cell_type": "markdown",
      "id": "technological-economy",
      "metadata": {
        "id": "technological-economy"
      },
      "source": [
        "  - [Contexto](#Contexto)\n",
        "  - [Instruções (leia até o fim)](#Instruções-(leia-até-o-fim))\n",
        "  - [Configurações](#Configurações)\n",
        "  - [Carregando a base](#Carregando-a-base)\n",
        "      - [Exercício 1](#Exercício-1)\n",
        "      - [Exercício 2](#Exercício-2)\n",
        "  - [Conversão de símbolos `?`](#Conversão-de-símbolos-?)\n",
        "      - [Exercício 3](#Exercício-3)\n",
        "      - [Exercício 4](#Exercício-4)\n",
        "  - [Remoção de atributos](#Remoção-de-atributos)\n",
        "      - [Exercício 5](#Exercício-5)\n",
        "      - [Exercício 6](#Exercício-6)\n",
        "  - [Valores ausentes que não removeremos](#Valores-ausentes-que-não-removeremos)\n",
        "      - [Exercício 7](#Exercício-7)\n",
        "      - [Exercício 8](#Exercício-8)\n",
        "      - [Exercício 9](#Exercício-9)\n",
        "      - [Exercício 10](#Exercício-10)\n",
        "      - [Exercício 11](#Exercício-11)\n",
        "      - [Exercício 12](#Exercício-12)\n",
        "  - [Atributos com pouca informação](#Atributos-com-pouca-informação)\n",
        "      - [Exercício 13](#Exercício-13)\n",
        "      - [Exercício 14](#Exercício-14)\n",
        "      - [Exercício 15](#Exercício-15)\n",
        "      - [Exercício 16](#Exercício-16)\n",
        "      - [Exercício 17](#Exercício-17)\n",
        "  - [Últimos passos: atributos numéricos](#Últimos-passos:-atributos-numéricos)\n",
        "      - [Exercício 18](#Exercício-18)\n",
        "      - [Exercício 19](#Exercício-19)\n",
        "  - [Separação e codificação dos dados](#Separação-e-codificação-dos-dados)\n",
        "      - [Exercício 20](#Exercício-20)\n",
        "      - [Exercício 21](#Exercício-21)\n",
        "      - [Exercício 22](#Exercício-22)\n",
        "      - [Exercício 23](#Exercício-23)\n",
        "      - [Exercício 24](#Exercício-24)\n",
        "      - [Exercício 25](#Exercício-25)"
      ]
    },
    {
      "cell_type": "markdown",
      "id": "dominant-security",
      "metadata": {
        "id": "dominant-security"
      },
      "source": [
        "## Contexto\n",
        "\n",
        "Em Aprendizado de Máquina e em Mineração de Dados, os dados são muito valiosos, mas também podem ser… irritantes. Antes de empregar algoritmos para induzir modelos e depois usar esses modelos para fazer previsões, existe um importante e, às vezes, longo trabalho de coletar, compreender, limpar, filtrar, transformar e preparar os dados.\n",
        "\n",
        "Vários desses passos podem ser feitos com o conhecimento que você está adquirindo na disciplina. Outros podem exigir um pouco de intuição, conhecimento do domínio de aplicação ou até mesmo a opinião de especialistas na área.\n",
        "\n",
        "Nesta aula, vamos falar especificamente dessas etapas.\n",
        "\n",
        "Está disponível no ColabWeb um conjunto de dados “do mundo real”, `Diabetes130`, que você deverá baixar para utilizar nesta prática. Se quiser, o conjunto também pode ser encontrado no Google Drive. Dizemos que esse conjunto é “do mundo real” porque é composto por dados coletados no mundo real, sem muito controle. Eles foram coletados de pacientes que visitaram hospitais nos EUA por complicações causadas por diabetes. Você verá que, diferentemente de conjuntos *toy* que vimos antes, tanto os criados artificialmente (como `play_tennis`) quanto os coletados de maneira bem simples e controlada (`iris`), conjuntos “do mundo real” podem ser bem desafiadores.\n",
        "\n",
        "Nesta prática, vamos fazer algumas etapas de pré-processamento dos dados, mas não necessariamente todos os passos que você preciaria fazer para utilizar um conjunto como este em uma aplicação real. Você verá que, mesmo após **vários** passos de filtragem e transformação, o conjunto ainda assim não será o ideal."
      ]
    },
    {
      "cell_type": "markdown",
      "id": "neural-princeton",
      "metadata": {
        "id": "neural-princeton"
      },
      "source": [
        "## Instruções (leia até o fim)"
      ]
    },
    {
      "cell_type": "markdown",
      "id": "better-chance",
      "metadata": {
        "id": "better-chance"
      },
      "source": [
        "1. Este *notebook* é uma atividade prática para vocês fazerem “solo”;\n",
        "1. Você pode solicitar ajuda para o professor, o estagiário em docência e seus colegas. Mande mensagens no nosso grupo no Telegram. Pode ser que sua dúvida seja a mesma de seus colegas;\n",
        "1. Antes de pedir ajuda, tente usar o que você aprendeu nas aulas anteriores e faça buscas no Google;\n",
        "1. Preencha todas as células que contêm o **TODO** (*to do* ou \"para fazer\");\n",
        "1. Ao terminar, envie o *notebook* <span style=\"text-decoration: underline\">completo</span>, incluindo as saídas das células, por meio do ColabWeb;\n",
        "1. A versão disponivel no Colaboratory também deve ser enviada pelo ColabWeb.\n",
        "\n",
        "**Esta atividade será sua primeira nota na disciplina.**"
      ]
    },
    {
      "cell_type": "markdown",
      "id": "human-cattle",
      "metadata": {
        "id": "human-cattle"
      },
      "source": [
        "## Configurações"
      ]
    },
    {
      "cell_type": "markdown",
      "id": "tender-culture",
      "metadata": {
        "id": "tender-culture"
      },
      "source": [
        "Diretório onde se encontram os dados."
      ]
    },
    {
      "cell_type": "code",
      "execution_count": 1,
      "id": "laughing-central",
      "metadata": {
        "id": "laughing-central"
      },
      "outputs": [],
      "source": [
        "DIR_DADOS = './'"
      ]
    },
    {
      "cell_type": "markdown",
      "id": "interesting-romance",
      "metadata": {
        "id": "interesting-romance"
      },
      "source": [
        "Um link para o conjunto `Diabetes 130-US` está disponível no ColabWeb como um arquivo ZIP (3,1&nbsp;MiB). Você também pode fazer o download diretamente do Google Drive como um arquivo CSV (19&nbsp;MiB)."
      ]
    },
    {
      "cell_type": "markdown",
      "id": "institutional-vaccine",
      "metadata": {
        "id": "institutional-vaccine"
      },
      "source": [
        "**Opcional:** descomente e execute a célula abaixo para baixar do Google Drive (19&nbsp;MiB) — esse comando pode só estar disponível no Google Colaboratory."
      ]
    },
    {
      "cell_type": "code",
      "execution_count": 2,
      "id": "exciting-characteristic",
      "metadata": {
        "id": "exciting-characteristic",
        "outputId": "8b82552a-988c-404b-ab19-b7b8cb0628d7",
        "colab": {
          "base_uri": "https://localhost:8080/"
        }
      },
      "outputs": [
        {
          "output_type": "stream",
          "name": "stdout",
          "text": [
            "Downloading...\n",
            "From: https://drive.google.com/uc?id=12-kdoeMWDC0iQPVIg_JBdK4H0SViYSMQ\n",
            "To: /content/diabetes130us.csv\n",
            "100% 19.2M/19.2M [00:00<00:00, 63.0MB/s]\n"
          ]
        }
      ],
      "source": [
        "!gdown 'https://drive.google.com/uc?id=12-kdoeMWDC0iQPVIg_JBdK4H0SViYSMQ'"
      ]
    },
    {
      "cell_type": "markdown",
      "id": "ahead-latvia",
      "metadata": {
        "id": "ahead-latvia"
      },
      "source": [
        "## Carregando a base"
      ]
    },
    {
      "cell_type": "markdown",
      "id": "behavioral-commander",
      "metadata": {
        "id": "behavioral-commander"
      },
      "source": [
        "A base `Diabetes 130-US` é uma base real que contém dados de casos clínicos em hospitais dos Estados Unidos. A base foi disponibilizada no [repositório de Aprendizado de Máquina da Universidade da Califória em Irvine](https://archive.ics.uci.edu/ml/datasets/Diabetes+130-US+hospitals+for+years+1999-2008) (UCI) em 2014 e está associada ao seguinte artigo:\n",
        "\n",
        "> Beata Strack, Jonathan P. DeShazo, Chris Gennings, Juan L. Olmo, Sebastian Ventura, Krzysztof J. Cios, and John N. Clore, “Impact of HbA1c Measurement on Hospital Readmission Rates: Analysis of 70,000 Clinical Database Patient Records,” BioMed Research International, vol. 2014, Article ID 781670, 11 pages, 2014.\n",
        "\n",
        "A leitura do artigo é recomendada. Em síntese, o problema proposto é prever se um paciente ou uma paciente (daqui pra frente apenas “o paciente”, pra simplificar) precisará de um novo atendimento após uma ter passado por uma consulta por alguma complicação de diabtes. O conjunto possui 101.766 instâncias e  65 atributos, vários dos quais vamos remover.\n",
        "\n",
        "A lista completa de atributos e os seus significados pode ser verificada no artigo. É essencial conhecer os dados antes de trabalhar com eles. Mas, antes de parar a tarefa e ler o artigo, vamos tentar ir por partes, um atributo por vez."
      ]
    },
    {
      "cell_type": "markdown",
      "id": "former-diabetes",
      "metadata": {
        "id": "former-diabetes"
      },
      "source": [
        "#### Exercício 1\n",
        "\n",
        "**TODO**: comece importando a biblioteca Pandas (`as pd`) e use `pd.read_csv()` para carregar o arquivo CSV como um *data frame*."
      ]
    },
    {
      "cell_type": "code",
      "execution_count": 3,
      "id": "nominated-implementation",
      "metadata": {
        "id": "nominated-implementation"
      },
      "outputs": [],
      "source": [
        "import pandas as pd"
      ]
    },
    {
      "cell_type": "code",
      "execution_count": 4,
      "id": "continuing-dietary",
      "metadata": {
        "id": "continuing-dietary"
      },
      "outputs": [],
      "source": [
        "data = pd.read_csv(\"/content/diabetes130us.csv\")"
      ]
    },
    {
      "cell_type": "markdown",
      "id": "cosmetic-inflation",
      "metadata": {
        "id": "cosmetic-inflation"
      },
      "source": [
        "Não mude o nome da variável. Ao longo do restante deste notebook haverá várias menções à variável `data`."
      ]
    },
    {
      "cell_type": "code",
      "execution_count": 5,
      "id": "suited-colony",
      "metadata": {
        "id": "suited-colony",
        "colab": {
          "base_uri": "https://localhost:8080/",
          "height": 635
        },
        "outputId": "b132f1e2-6b20-4c71-c2eb-54591f422364"
      },
      "outputs": [
        {
          "output_type": "execute_result",
          "data": {
            "text/plain": [
              "        encounter_id  patient_nbr             race  gender      age weight  \\\n",
              "0            2278392      8222157        Caucasian  Female   [0-10)      ?   \n",
              "1             149190     55629189        Caucasian  Female  [10-20)      ?   \n",
              "2              64410     86047875  AfricanAmerican  Female  [20-30)      ?   \n",
              "3             500364     82442376        Caucasian    Male  [30-40)      ?   \n",
              "4              16680     42519267        Caucasian    Male  [40-50)      ?   \n",
              "...              ...          ...              ...     ...      ...    ...   \n",
              "101761     443847548    100162476  AfricanAmerican    Male  [70-80)      ?   \n",
              "101762     443847782     74694222  AfricanAmerican  Female  [80-90)      ?   \n",
              "101763     443854148     41088789        Caucasian    Male  [70-80)      ?   \n",
              "101764     443857166     31693671        Caucasian  Female  [80-90)      ?   \n",
              "101765     443867222    175429310        Caucasian    Male  [70-80)      ?   \n",
              "\n",
              "        admission_type_id  discharge_disposition_id  admission_source_id  \\\n",
              "0                       6                        25                    1   \n",
              "1                       1                         1                    7   \n",
              "2                       1                         1                    7   \n",
              "3                       1                         1                    7   \n",
              "4                       1                         1                    7   \n",
              "...                   ...                       ...                  ...   \n",
              "101761                  1                         3                    7   \n",
              "101762                  1                         4                    5   \n",
              "101763                  1                         1                    7   \n",
              "101764                  2                         3                    7   \n",
              "101765                  1                         1                    7   \n",
              "\n",
              "        time_in_hospital  ... citoglipton insulin  glyburide-metformin  \\\n",
              "0                      1  ...          No      No                   No   \n",
              "1                      3  ...          No      Up                   No   \n",
              "2                      2  ...          No      No                   No   \n",
              "3                      2  ...          No      Up                   No   \n",
              "4                      1  ...          No  Steady                   No   \n",
              "...                  ...  ...         ...     ...                  ...   \n",
              "101761                 3  ...          No    Down                   No   \n",
              "101762                 5  ...          No  Steady                   No   \n",
              "101763                 1  ...          No    Down                   No   \n",
              "101764                10  ...          No      Up                   No   \n",
              "101765                 6  ...          No      No                   No   \n",
              "\n",
              "        glipizide-metformin  glimepiride-pioglitazone  \\\n",
              "0                        No                        No   \n",
              "1                        No                        No   \n",
              "2                        No                        No   \n",
              "3                        No                        No   \n",
              "4                        No                        No   \n",
              "...                     ...                       ...   \n",
              "101761                   No                        No   \n",
              "101762                   No                        No   \n",
              "101763                   No                        No   \n",
              "101764                   No                        No   \n",
              "101765                   No                        No   \n",
              "\n",
              "        metformin-rosiglitazone  metformin-pioglitazone  change diabetesMed  \\\n",
              "0                            No                      No      No          No   \n",
              "1                            No                      No      Ch         Yes   \n",
              "2                            No                      No      No         Yes   \n",
              "3                            No                      No      Ch         Yes   \n",
              "4                            No                      No      Ch         Yes   \n",
              "...                         ...                     ...     ...         ...   \n",
              "101761                       No                      No      Ch         Yes   \n",
              "101762                       No                      No      No         Yes   \n",
              "101763                       No                      No      Ch         Yes   \n",
              "101764                       No                      No      Ch         Yes   \n",
              "101765                       No                      No      No          No   \n",
              "\n",
              "       readmitted  \n",
              "0              NO  \n",
              "1             >30  \n",
              "2              NO  \n",
              "3              NO  \n",
              "4              NO  \n",
              "...           ...  \n",
              "101761        >30  \n",
              "101762         NO  \n",
              "101763         NO  \n",
              "101764         NO  \n",
              "101765         NO  \n",
              "\n",
              "[101766 rows x 50 columns]"
            ],
            "text/html": [
              "\n",
              "  <div id=\"df-52b80f1e-cee8-4244-bb08-756b1507bf41\" class=\"colab-df-container\">\n",
              "    <div>\n",
              "<style scoped>\n",
              "    .dataframe tbody tr th:only-of-type {\n",
              "        vertical-align: middle;\n",
              "    }\n",
              "\n",
              "    .dataframe tbody tr th {\n",
              "        vertical-align: top;\n",
              "    }\n",
              "\n",
              "    .dataframe thead th {\n",
              "        text-align: right;\n",
              "    }\n",
              "</style>\n",
              "<table border=\"1\" class=\"dataframe\">\n",
              "  <thead>\n",
              "    <tr style=\"text-align: right;\">\n",
              "      <th></th>\n",
              "      <th>encounter_id</th>\n",
              "      <th>patient_nbr</th>\n",
              "      <th>race</th>\n",
              "      <th>gender</th>\n",
              "      <th>age</th>\n",
              "      <th>weight</th>\n",
              "      <th>admission_type_id</th>\n",
              "      <th>discharge_disposition_id</th>\n",
              "      <th>admission_source_id</th>\n",
              "      <th>time_in_hospital</th>\n",
              "      <th>...</th>\n",
              "      <th>citoglipton</th>\n",
              "      <th>insulin</th>\n",
              "      <th>glyburide-metformin</th>\n",
              "      <th>glipizide-metformin</th>\n",
              "      <th>glimepiride-pioglitazone</th>\n",
              "      <th>metformin-rosiglitazone</th>\n",
              "      <th>metformin-pioglitazone</th>\n",
              "      <th>change</th>\n",
              "      <th>diabetesMed</th>\n",
              "      <th>readmitted</th>\n",
              "    </tr>\n",
              "  </thead>\n",
              "  <tbody>\n",
              "    <tr>\n",
              "      <th>0</th>\n",
              "      <td>2278392</td>\n",
              "      <td>8222157</td>\n",
              "      <td>Caucasian</td>\n",
              "      <td>Female</td>\n",
              "      <td>[0-10)</td>\n",
              "      <td>?</td>\n",
              "      <td>6</td>\n",
              "      <td>25</td>\n",
              "      <td>1</td>\n",
              "      <td>1</td>\n",
              "      <td>...</td>\n",
              "      <td>No</td>\n",
              "      <td>No</td>\n",
              "      <td>No</td>\n",
              "      <td>No</td>\n",
              "      <td>No</td>\n",
              "      <td>No</td>\n",
              "      <td>No</td>\n",
              "      <td>No</td>\n",
              "      <td>No</td>\n",
              "      <td>NO</td>\n",
              "    </tr>\n",
              "    <tr>\n",
              "      <th>1</th>\n",
              "      <td>149190</td>\n",
              "      <td>55629189</td>\n",
              "      <td>Caucasian</td>\n",
              "      <td>Female</td>\n",
              "      <td>[10-20)</td>\n",
              "      <td>?</td>\n",
              "      <td>1</td>\n",
              "      <td>1</td>\n",
              "      <td>7</td>\n",
              "      <td>3</td>\n",
              "      <td>...</td>\n",
              "      <td>No</td>\n",
              "      <td>Up</td>\n",
              "      <td>No</td>\n",
              "      <td>No</td>\n",
              "      <td>No</td>\n",
              "      <td>No</td>\n",
              "      <td>No</td>\n",
              "      <td>Ch</td>\n",
              "      <td>Yes</td>\n",
              "      <td>&gt;30</td>\n",
              "    </tr>\n",
              "    <tr>\n",
              "      <th>2</th>\n",
              "      <td>64410</td>\n",
              "      <td>86047875</td>\n",
              "      <td>AfricanAmerican</td>\n",
              "      <td>Female</td>\n",
              "      <td>[20-30)</td>\n",
              "      <td>?</td>\n",
              "      <td>1</td>\n",
              "      <td>1</td>\n",
              "      <td>7</td>\n",
              "      <td>2</td>\n",
              "      <td>...</td>\n",
              "      <td>No</td>\n",
              "      <td>No</td>\n",
              "      <td>No</td>\n",
              "      <td>No</td>\n",
              "      <td>No</td>\n",
              "      <td>No</td>\n",
              "      <td>No</td>\n",
              "      <td>No</td>\n",
              "      <td>Yes</td>\n",
              "      <td>NO</td>\n",
              "    </tr>\n",
              "    <tr>\n",
              "      <th>3</th>\n",
              "      <td>500364</td>\n",
              "      <td>82442376</td>\n",
              "      <td>Caucasian</td>\n",
              "      <td>Male</td>\n",
              "      <td>[30-40)</td>\n",
              "      <td>?</td>\n",
              "      <td>1</td>\n",
              "      <td>1</td>\n",
              "      <td>7</td>\n",
              "      <td>2</td>\n",
              "      <td>...</td>\n",
              "      <td>No</td>\n",
              "      <td>Up</td>\n",
              "      <td>No</td>\n",
              "      <td>No</td>\n",
              "      <td>No</td>\n",
              "      <td>No</td>\n",
              "      <td>No</td>\n",
              "      <td>Ch</td>\n",
              "      <td>Yes</td>\n",
              "      <td>NO</td>\n",
              "    </tr>\n",
              "    <tr>\n",
              "      <th>4</th>\n",
              "      <td>16680</td>\n",
              "      <td>42519267</td>\n",
              "      <td>Caucasian</td>\n",
              "      <td>Male</td>\n",
              "      <td>[40-50)</td>\n",
              "      <td>?</td>\n",
              "      <td>1</td>\n",
              "      <td>1</td>\n",
              "      <td>7</td>\n",
              "      <td>1</td>\n",
              "      <td>...</td>\n",
              "      <td>No</td>\n",
              "      <td>Steady</td>\n",
              "      <td>No</td>\n",
              "      <td>No</td>\n",
              "      <td>No</td>\n",
              "      <td>No</td>\n",
              "      <td>No</td>\n",
              "      <td>Ch</td>\n",
              "      <td>Yes</td>\n",
              "      <td>NO</td>\n",
              "    </tr>\n",
              "    <tr>\n",
              "      <th>...</th>\n",
              "      <td>...</td>\n",
              "      <td>...</td>\n",
              "      <td>...</td>\n",
              "      <td>...</td>\n",
              "      <td>...</td>\n",
              "      <td>...</td>\n",
              "      <td>...</td>\n",
              "      <td>...</td>\n",
              "      <td>...</td>\n",
              "      <td>...</td>\n",
              "      <td>...</td>\n",
              "      <td>...</td>\n",
              "      <td>...</td>\n",
              "      <td>...</td>\n",
              "      <td>...</td>\n",
              "      <td>...</td>\n",
              "      <td>...</td>\n",
              "      <td>...</td>\n",
              "      <td>...</td>\n",
              "      <td>...</td>\n",
              "      <td>...</td>\n",
              "    </tr>\n",
              "    <tr>\n",
              "      <th>101761</th>\n",
              "      <td>443847548</td>\n",
              "      <td>100162476</td>\n",
              "      <td>AfricanAmerican</td>\n",
              "      <td>Male</td>\n",
              "      <td>[70-80)</td>\n",
              "      <td>?</td>\n",
              "      <td>1</td>\n",
              "      <td>3</td>\n",
              "      <td>7</td>\n",
              "      <td>3</td>\n",
              "      <td>...</td>\n",
              "      <td>No</td>\n",
              "      <td>Down</td>\n",
              "      <td>No</td>\n",
              "      <td>No</td>\n",
              "      <td>No</td>\n",
              "      <td>No</td>\n",
              "      <td>No</td>\n",
              "      <td>Ch</td>\n",
              "      <td>Yes</td>\n",
              "      <td>&gt;30</td>\n",
              "    </tr>\n",
              "    <tr>\n",
              "      <th>101762</th>\n",
              "      <td>443847782</td>\n",
              "      <td>74694222</td>\n",
              "      <td>AfricanAmerican</td>\n",
              "      <td>Female</td>\n",
              "      <td>[80-90)</td>\n",
              "      <td>?</td>\n",
              "      <td>1</td>\n",
              "      <td>4</td>\n",
              "      <td>5</td>\n",
              "      <td>5</td>\n",
              "      <td>...</td>\n",
              "      <td>No</td>\n",
              "      <td>Steady</td>\n",
              "      <td>No</td>\n",
              "      <td>No</td>\n",
              "      <td>No</td>\n",
              "      <td>No</td>\n",
              "      <td>No</td>\n",
              "      <td>No</td>\n",
              "      <td>Yes</td>\n",
              "      <td>NO</td>\n",
              "    </tr>\n",
              "    <tr>\n",
              "      <th>101763</th>\n",
              "      <td>443854148</td>\n",
              "      <td>41088789</td>\n",
              "      <td>Caucasian</td>\n",
              "      <td>Male</td>\n",
              "      <td>[70-80)</td>\n",
              "      <td>?</td>\n",
              "      <td>1</td>\n",
              "      <td>1</td>\n",
              "      <td>7</td>\n",
              "      <td>1</td>\n",
              "      <td>...</td>\n",
              "      <td>No</td>\n",
              "      <td>Down</td>\n",
              "      <td>No</td>\n",
              "      <td>No</td>\n",
              "      <td>No</td>\n",
              "      <td>No</td>\n",
              "      <td>No</td>\n",
              "      <td>Ch</td>\n",
              "      <td>Yes</td>\n",
              "      <td>NO</td>\n",
              "    </tr>\n",
              "    <tr>\n",
              "      <th>101764</th>\n",
              "      <td>443857166</td>\n",
              "      <td>31693671</td>\n",
              "      <td>Caucasian</td>\n",
              "      <td>Female</td>\n",
              "      <td>[80-90)</td>\n",
              "      <td>?</td>\n",
              "      <td>2</td>\n",
              "      <td>3</td>\n",
              "      <td>7</td>\n",
              "      <td>10</td>\n",
              "      <td>...</td>\n",
              "      <td>No</td>\n",
              "      <td>Up</td>\n",
              "      <td>No</td>\n",
              "      <td>No</td>\n",
              "      <td>No</td>\n",
              "      <td>No</td>\n",
              "      <td>No</td>\n",
              "      <td>Ch</td>\n",
              "      <td>Yes</td>\n",
              "      <td>NO</td>\n",
              "    </tr>\n",
              "    <tr>\n",
              "      <th>101765</th>\n",
              "      <td>443867222</td>\n",
              "      <td>175429310</td>\n",
              "      <td>Caucasian</td>\n",
              "      <td>Male</td>\n",
              "      <td>[70-80)</td>\n",
              "      <td>?</td>\n",
              "      <td>1</td>\n",
              "      <td>1</td>\n",
              "      <td>7</td>\n",
              "      <td>6</td>\n",
              "      <td>...</td>\n",
              "      <td>No</td>\n",
              "      <td>No</td>\n",
              "      <td>No</td>\n",
              "      <td>No</td>\n",
              "      <td>No</td>\n",
              "      <td>No</td>\n",
              "      <td>No</td>\n",
              "      <td>No</td>\n",
              "      <td>No</td>\n",
              "      <td>NO</td>\n",
              "    </tr>\n",
              "  </tbody>\n",
              "</table>\n",
              "<p>101766 rows × 50 columns</p>\n",
              "</div>\n",
              "    <div class=\"colab-df-buttons\">\n",
              "\n",
              "  <div class=\"colab-df-container\">\n",
              "    <button class=\"colab-df-convert\" onclick=\"convertToInteractive('df-52b80f1e-cee8-4244-bb08-756b1507bf41')\"\n",
              "            title=\"Convert this dataframe to an interactive table.\"\n",
              "            style=\"display:none;\">\n",
              "\n",
              "  <svg xmlns=\"http://www.w3.org/2000/svg\" height=\"24px\" viewBox=\"0 -960 960 960\">\n",
              "    <path d=\"M120-120v-720h720v720H120Zm60-500h600v-160H180v160Zm220 220h160v-160H400v160Zm0 220h160v-160H400v160ZM180-400h160v-160H180v160Zm440 0h160v-160H620v160ZM180-180h160v-160H180v160Zm440 0h160v-160H620v160Z\"/>\n",
              "  </svg>\n",
              "    </button>\n",
              "\n",
              "  <style>\n",
              "    .colab-df-container {\n",
              "      display:flex;\n",
              "      gap: 12px;\n",
              "    }\n",
              "\n",
              "    .colab-df-convert {\n",
              "      background-color: #E8F0FE;\n",
              "      border: none;\n",
              "      border-radius: 50%;\n",
              "      cursor: pointer;\n",
              "      display: none;\n",
              "      fill: #1967D2;\n",
              "      height: 32px;\n",
              "      padding: 0 0 0 0;\n",
              "      width: 32px;\n",
              "    }\n",
              "\n",
              "    .colab-df-convert:hover {\n",
              "      background-color: #E2EBFA;\n",
              "      box-shadow: 0px 1px 2px rgba(60, 64, 67, 0.3), 0px 1px 3px 1px rgba(60, 64, 67, 0.15);\n",
              "      fill: #174EA6;\n",
              "    }\n",
              "\n",
              "    .colab-df-buttons div {\n",
              "      margin-bottom: 4px;\n",
              "    }\n",
              "\n",
              "    [theme=dark] .colab-df-convert {\n",
              "      background-color: #3B4455;\n",
              "      fill: #D2E3FC;\n",
              "    }\n",
              "\n",
              "    [theme=dark] .colab-df-convert:hover {\n",
              "      background-color: #434B5C;\n",
              "      box-shadow: 0px 1px 3px 1px rgba(0, 0, 0, 0.15);\n",
              "      filter: drop-shadow(0px 1px 2px rgba(0, 0, 0, 0.3));\n",
              "      fill: #FFFFFF;\n",
              "    }\n",
              "  </style>\n",
              "\n",
              "    <script>\n",
              "      const buttonEl =\n",
              "        document.querySelector('#df-52b80f1e-cee8-4244-bb08-756b1507bf41 button.colab-df-convert');\n",
              "      buttonEl.style.display =\n",
              "        google.colab.kernel.accessAllowed ? 'block' : 'none';\n",
              "\n",
              "      async function convertToInteractive(key) {\n",
              "        const element = document.querySelector('#df-52b80f1e-cee8-4244-bb08-756b1507bf41');\n",
              "        const dataTable =\n",
              "          await google.colab.kernel.invokeFunction('convertToInteractive',\n",
              "                                                    [key], {});\n",
              "        if (!dataTable) return;\n",
              "\n",
              "        const docLinkHtml = 'Like what you see? Visit the ' +\n",
              "          '<a target=\"_blank\" href=https://colab.research.google.com/notebooks/data_table.ipynb>data table notebook</a>'\n",
              "          + ' to learn more about interactive tables.';\n",
              "        element.innerHTML = '';\n",
              "        dataTable['output_type'] = 'display_data';\n",
              "        await google.colab.output.renderOutput(dataTable, element);\n",
              "        const docLink = document.createElement('div');\n",
              "        docLink.innerHTML = docLinkHtml;\n",
              "        element.appendChild(docLink);\n",
              "      }\n",
              "    </script>\n",
              "  </div>\n",
              "\n",
              "\n",
              "<div id=\"df-cc607363-b151-4394-ac7c-80f6f402ad3e\">\n",
              "  <button class=\"colab-df-quickchart\" onclick=\"quickchart('df-cc607363-b151-4394-ac7c-80f6f402ad3e')\"\n",
              "            title=\"Suggest charts\"\n",
              "            style=\"display:none;\">\n",
              "\n",
              "<svg xmlns=\"http://www.w3.org/2000/svg\" height=\"24px\"viewBox=\"0 0 24 24\"\n",
              "     width=\"24px\">\n",
              "    <g>\n",
              "        <path d=\"M19 3H5c-1.1 0-2 .9-2 2v14c0 1.1.9 2 2 2h14c1.1 0 2-.9 2-2V5c0-1.1-.9-2-2-2zM9 17H7v-7h2v7zm4 0h-2V7h2v10zm4 0h-2v-4h2v4z\"/>\n",
              "    </g>\n",
              "</svg>\n",
              "  </button>\n",
              "\n",
              "<style>\n",
              "  .colab-df-quickchart {\n",
              "      --bg-color: #E8F0FE;\n",
              "      --fill-color: #1967D2;\n",
              "      --hover-bg-color: #E2EBFA;\n",
              "      --hover-fill-color: #174EA6;\n",
              "      --disabled-fill-color: #AAA;\n",
              "      --disabled-bg-color: #DDD;\n",
              "  }\n",
              "\n",
              "  [theme=dark] .colab-df-quickchart {\n",
              "      --bg-color: #3B4455;\n",
              "      --fill-color: #D2E3FC;\n",
              "      --hover-bg-color: #434B5C;\n",
              "      --hover-fill-color: #FFFFFF;\n",
              "      --disabled-bg-color: #3B4455;\n",
              "      --disabled-fill-color: #666;\n",
              "  }\n",
              "\n",
              "  .colab-df-quickchart {\n",
              "    background-color: var(--bg-color);\n",
              "    border: none;\n",
              "    border-radius: 50%;\n",
              "    cursor: pointer;\n",
              "    display: none;\n",
              "    fill: var(--fill-color);\n",
              "    height: 32px;\n",
              "    padding: 0;\n",
              "    width: 32px;\n",
              "  }\n",
              "\n",
              "  .colab-df-quickchart:hover {\n",
              "    background-color: var(--hover-bg-color);\n",
              "    box-shadow: 0 1px 2px rgba(60, 64, 67, 0.3), 0 1px 3px 1px rgba(60, 64, 67, 0.15);\n",
              "    fill: var(--button-hover-fill-color);\n",
              "  }\n",
              "\n",
              "  .colab-df-quickchart-complete:disabled,\n",
              "  .colab-df-quickchart-complete:disabled:hover {\n",
              "    background-color: var(--disabled-bg-color);\n",
              "    fill: var(--disabled-fill-color);\n",
              "    box-shadow: none;\n",
              "  }\n",
              "\n",
              "  .colab-df-spinner {\n",
              "    border: 2px solid var(--fill-color);\n",
              "    border-color: transparent;\n",
              "    border-bottom-color: var(--fill-color);\n",
              "    animation:\n",
              "      spin 1s steps(1) infinite;\n",
              "  }\n",
              "\n",
              "  @keyframes spin {\n",
              "    0% {\n",
              "      border-color: transparent;\n",
              "      border-bottom-color: var(--fill-color);\n",
              "      border-left-color: var(--fill-color);\n",
              "    }\n",
              "    20% {\n",
              "      border-color: transparent;\n",
              "      border-left-color: var(--fill-color);\n",
              "      border-top-color: var(--fill-color);\n",
              "    }\n",
              "    30% {\n",
              "      border-color: transparent;\n",
              "      border-left-color: var(--fill-color);\n",
              "      border-top-color: var(--fill-color);\n",
              "      border-right-color: var(--fill-color);\n",
              "    }\n",
              "    40% {\n",
              "      border-color: transparent;\n",
              "      border-right-color: var(--fill-color);\n",
              "      border-top-color: var(--fill-color);\n",
              "    }\n",
              "    60% {\n",
              "      border-color: transparent;\n",
              "      border-right-color: var(--fill-color);\n",
              "    }\n",
              "    80% {\n",
              "      border-color: transparent;\n",
              "      border-right-color: var(--fill-color);\n",
              "      border-bottom-color: var(--fill-color);\n",
              "    }\n",
              "    90% {\n",
              "      border-color: transparent;\n",
              "      border-bottom-color: var(--fill-color);\n",
              "    }\n",
              "  }\n",
              "</style>\n",
              "\n",
              "  <script>\n",
              "    async function quickchart(key) {\n",
              "      const quickchartButtonEl =\n",
              "        document.querySelector('#' + key + ' button');\n",
              "      quickchartButtonEl.disabled = true;  // To prevent multiple clicks.\n",
              "      quickchartButtonEl.classList.add('colab-df-spinner');\n",
              "      try {\n",
              "        const charts = await google.colab.kernel.invokeFunction(\n",
              "            'suggestCharts', [key], {});\n",
              "      } catch (error) {\n",
              "        console.error('Error during call to suggestCharts:', error);\n",
              "      }\n",
              "      quickchartButtonEl.classList.remove('colab-df-spinner');\n",
              "      quickchartButtonEl.classList.add('colab-df-quickchart-complete');\n",
              "    }\n",
              "    (() => {\n",
              "      let quickchartButtonEl =\n",
              "        document.querySelector('#df-cc607363-b151-4394-ac7c-80f6f402ad3e button');\n",
              "      quickchartButtonEl.style.display =\n",
              "        google.colab.kernel.accessAllowed ? 'block' : 'none';\n",
              "    })();\n",
              "  </script>\n",
              "</div>\n",
              "\n",
              "  <div id=\"id_5256a6a3-74f7-4f00-aa55-d34085286071\">\n",
              "    <style>\n",
              "      .colab-df-generate {\n",
              "        background-color: #E8F0FE;\n",
              "        border: none;\n",
              "        border-radius: 50%;\n",
              "        cursor: pointer;\n",
              "        display: none;\n",
              "        fill: #1967D2;\n",
              "        height: 32px;\n",
              "        padding: 0 0 0 0;\n",
              "        width: 32px;\n",
              "      }\n",
              "\n",
              "      .colab-df-generate:hover {\n",
              "        background-color: #E2EBFA;\n",
              "        box-shadow: 0px 1px 2px rgba(60, 64, 67, 0.3), 0px 1px 3px 1px rgba(60, 64, 67, 0.15);\n",
              "        fill: #174EA6;\n",
              "      }\n",
              "\n",
              "      [theme=dark] .colab-df-generate {\n",
              "        background-color: #3B4455;\n",
              "        fill: #D2E3FC;\n",
              "      }\n",
              "\n",
              "      [theme=dark] .colab-df-generate:hover {\n",
              "        background-color: #434B5C;\n",
              "        box-shadow: 0px 1px 3px 1px rgba(0, 0, 0, 0.15);\n",
              "        filter: drop-shadow(0px 1px 2px rgba(0, 0, 0, 0.3));\n",
              "        fill: #FFFFFF;\n",
              "      }\n",
              "    </style>\n",
              "    <button class=\"colab-df-generate\" onclick=\"generateWithVariable('data')\"\n",
              "            title=\"Generate code using this dataframe.\"\n",
              "            style=\"display:none;\">\n",
              "\n",
              "  <svg xmlns=\"http://www.w3.org/2000/svg\" height=\"24px\"viewBox=\"0 0 24 24\"\n",
              "       width=\"24px\">\n",
              "    <path d=\"M7,19H8.4L18.45,9,17,7.55,7,17.6ZM5,21V16.75L18.45,3.32a2,2,0,0,1,2.83,0l1.4,1.43a1.91,1.91,0,0,1,.58,1.4,1.91,1.91,0,0,1-.58,1.4L9.25,21ZM18.45,9,17,7.55Zm-12,3A5.31,5.31,0,0,0,4.9,8.1,5.31,5.31,0,0,0,1,6.5,5.31,5.31,0,0,0,4.9,4.9,5.31,5.31,0,0,0,6.5,1,5.31,5.31,0,0,0,8.1,4.9,5.31,5.31,0,0,0,12,6.5,5.46,5.46,0,0,0,6.5,12Z\"/>\n",
              "  </svg>\n",
              "    </button>\n",
              "    <script>\n",
              "      (() => {\n",
              "      const buttonEl =\n",
              "        document.querySelector('#id_5256a6a3-74f7-4f00-aa55-d34085286071 button.colab-df-generate');\n",
              "      buttonEl.style.display =\n",
              "        google.colab.kernel.accessAllowed ? 'block' : 'none';\n",
              "\n",
              "      buttonEl.onclick = () => {\n",
              "        google.colab.notebook.generateWithVariable('data');\n",
              "      }\n",
              "      })();\n",
              "    </script>\n",
              "  </div>\n",
              "\n",
              "    </div>\n",
              "  </div>\n"
            ],
            "application/vnd.google.colaboratory.intrinsic+json": {
              "type": "dataframe",
              "variable_name": "data"
            }
          },
          "metadata": {},
          "execution_count": 5
        }
      ],
      "source": [
        "data"
      ]
    },
    {
      "cell_type": "markdown",
      "id": "medieval-temperature",
      "metadata": {
        "id": "medieval-temperature"
      },
      "source": [
        "#### Exercício 2\n",
        "\n",
        "**TODO**: use `data.columns` para ver a lista completa de atributos."
      ]
    },
    {
      "cell_type": "code",
      "execution_count": 6,
      "id": "alert-glass",
      "metadata": {
        "id": "alert-glass",
        "colab": {
          "base_uri": "https://localhost:8080/"
        },
        "outputId": "351e158a-1dfd-428a-dad0-3245fa6dbbce"
      },
      "outputs": [
        {
          "output_type": "execute_result",
          "data": {
            "text/plain": [
              "Index(['encounter_id', 'patient_nbr', 'race', 'gender', 'age', 'weight',\n",
              "       'admission_type_id', 'discharge_disposition_id', 'admission_source_id',\n",
              "       'time_in_hospital', 'payer_code', 'medical_specialty',\n",
              "       'num_lab_procedures', 'num_procedures', 'num_medications',\n",
              "       'number_outpatient', 'number_emergency', 'number_inpatient', 'diag_1',\n",
              "       'diag_2', 'diag_3', 'number_diagnoses', 'max_glu_serum', 'A1Cresult',\n",
              "       'metformin', 'repaglinide', 'nateglinide', 'chlorpropamide',\n",
              "       'glimepiride', 'acetohexamide', 'glipizide', 'glyburide', 'tolbutamide',\n",
              "       'pioglitazone', 'rosiglitazone', 'acarbose', 'miglitol', 'troglitazone',\n",
              "       'tolazamide', 'examide', 'citoglipton', 'insulin',\n",
              "       'glyburide-metformin', 'glipizide-metformin',\n",
              "       'glimepiride-pioglitazone', 'metformin-rosiglitazone',\n",
              "       'metformin-pioglitazone', 'change', 'diabetesMed', 'readmitted'],\n",
              "      dtype='object')"
            ]
          },
          "metadata": {},
          "execution_count": 6
        }
      ],
      "source": [
        "data.columns"
      ]
    },
    {
      "cell_type": "markdown",
      "id": "excessive-apache",
      "metadata": {
        "id": "excessive-apache"
      },
      "source": [
        "### Conversão de símbolos `?`"
      ]
    },
    {
      "cell_type": "markdown",
      "id": "printable-timer",
      "metadata": {
        "id": "printable-timer"
      },
      "source": [
        "Uma característica desse conjunto é que os valores ausentes são representados com o símbolo `?`. Essa é, na verdade, a representação usual em Aprendizado de Máquina. A representação por meio de NAN ou `None` é uma característica de iplementação das biblioteas em Python.\n",
        "\n",
        "Para facilitar a manipulação dos dados, a primeira coisa a se fazer é substituir as ocorrências da string `'?'` por `np.nan`."
      ]
    },
    {
      "cell_type": "markdown",
      "id": "loved-welcome",
      "metadata": {
        "id": "loved-welcome"
      },
      "source": [
        "#### Exercício 3\n",
        "\n",
        "**TODO**: importe o NumPy (`as np`)."
      ]
    },
    {
      "cell_type": "code",
      "execution_count": 7,
      "id": "caroline-buddy",
      "metadata": {
        "id": "caroline-buddy"
      },
      "outputs": [],
      "source": [
        "import numpy as np"
      ]
    },
    {
      "cell_type": "markdown",
      "id": "searching-tiffany",
      "metadata": {
        "id": "searching-tiffany"
      },
      "source": [
        "Usando `data == '?'`, podemos obter todas as ocorrências dessa string."
      ]
    },
    {
      "cell_type": "code",
      "execution_count": 8,
      "id": "severe-practice",
      "metadata": {
        "id": "severe-practice",
        "colab": {
          "base_uri": "https://localhost:8080/",
          "height": 461
        },
        "outputId": "a63a46c6-23da-487b-f354-799d3873434f"
      },
      "outputs": [
        {
          "output_type": "execute_result",
          "data": {
            "text/plain": [
              "        encounter_id  patient_nbr   race  gender    age  weight  \\\n",
              "0              False        False  False   False  False    True   \n",
              "1              False        False  False   False  False    True   \n",
              "2              False        False  False   False  False    True   \n",
              "3              False        False  False   False  False    True   \n",
              "4              False        False  False   False  False    True   \n",
              "...              ...          ...    ...     ...    ...     ...   \n",
              "101761         False        False  False   False  False    True   \n",
              "101762         False        False  False   False  False    True   \n",
              "101763         False        False  False   False  False    True   \n",
              "101764         False        False  False   False  False    True   \n",
              "101765         False        False  False   False  False    True   \n",
              "\n",
              "        admission_type_id  discharge_disposition_id  admission_source_id  \\\n",
              "0                   False                     False                False   \n",
              "1                   False                     False                False   \n",
              "2                   False                     False                False   \n",
              "3                   False                     False                False   \n",
              "4                   False                     False                False   \n",
              "...                   ...                       ...                  ...   \n",
              "101761              False                     False                False   \n",
              "101762              False                     False                False   \n",
              "101763              False                     False                False   \n",
              "101764              False                     False                False   \n",
              "101765              False                     False                False   \n",
              "\n",
              "        time_in_hospital  ...  citoglipton  insulin  glyburide-metformin  \\\n",
              "0                  False  ...        False    False                False   \n",
              "1                  False  ...        False    False                False   \n",
              "2                  False  ...        False    False                False   \n",
              "3                  False  ...        False    False                False   \n",
              "4                  False  ...        False    False                False   \n",
              "...                  ...  ...          ...      ...                  ...   \n",
              "101761             False  ...        False    False                False   \n",
              "101762             False  ...        False    False                False   \n",
              "101763             False  ...        False    False                False   \n",
              "101764             False  ...        False    False                False   \n",
              "101765             False  ...        False    False                False   \n",
              "\n",
              "        glipizide-metformin  glimepiride-pioglitazone  \\\n",
              "0                     False                     False   \n",
              "1                     False                     False   \n",
              "2                     False                     False   \n",
              "3                     False                     False   \n",
              "4                     False                     False   \n",
              "...                     ...                       ...   \n",
              "101761                False                     False   \n",
              "101762                False                     False   \n",
              "101763                False                     False   \n",
              "101764                False                     False   \n",
              "101765                False                     False   \n",
              "\n",
              "        metformin-rosiglitazone  metformin-pioglitazone  change  diabetesMed  \\\n",
              "0                         False                   False   False        False   \n",
              "1                         False                   False   False        False   \n",
              "2                         False                   False   False        False   \n",
              "3                         False                   False   False        False   \n",
              "4                         False                   False   False        False   \n",
              "...                         ...                     ...     ...          ...   \n",
              "101761                    False                   False   False        False   \n",
              "101762                    False                   False   False        False   \n",
              "101763                    False                   False   False        False   \n",
              "101764                    False                   False   False        False   \n",
              "101765                    False                   False   False        False   \n",
              "\n",
              "        readmitted  \n",
              "0            False  \n",
              "1            False  \n",
              "2            False  \n",
              "3            False  \n",
              "4            False  \n",
              "...            ...  \n",
              "101761       False  \n",
              "101762       False  \n",
              "101763       False  \n",
              "101764       False  \n",
              "101765       False  \n",
              "\n",
              "[101766 rows x 50 columns]"
            ],
            "text/html": [
              "\n",
              "  <div id=\"df-4786d270-9036-4f53-807c-2e76c89da0a1\" class=\"colab-df-container\">\n",
              "    <div>\n",
              "<style scoped>\n",
              "    .dataframe tbody tr th:only-of-type {\n",
              "        vertical-align: middle;\n",
              "    }\n",
              "\n",
              "    .dataframe tbody tr th {\n",
              "        vertical-align: top;\n",
              "    }\n",
              "\n",
              "    .dataframe thead th {\n",
              "        text-align: right;\n",
              "    }\n",
              "</style>\n",
              "<table border=\"1\" class=\"dataframe\">\n",
              "  <thead>\n",
              "    <tr style=\"text-align: right;\">\n",
              "      <th></th>\n",
              "      <th>encounter_id</th>\n",
              "      <th>patient_nbr</th>\n",
              "      <th>race</th>\n",
              "      <th>gender</th>\n",
              "      <th>age</th>\n",
              "      <th>weight</th>\n",
              "      <th>admission_type_id</th>\n",
              "      <th>discharge_disposition_id</th>\n",
              "      <th>admission_source_id</th>\n",
              "      <th>time_in_hospital</th>\n",
              "      <th>...</th>\n",
              "      <th>citoglipton</th>\n",
              "      <th>insulin</th>\n",
              "      <th>glyburide-metformin</th>\n",
              "      <th>glipizide-metformin</th>\n",
              "      <th>glimepiride-pioglitazone</th>\n",
              "      <th>metformin-rosiglitazone</th>\n",
              "      <th>metformin-pioglitazone</th>\n",
              "      <th>change</th>\n",
              "      <th>diabetesMed</th>\n",
              "      <th>readmitted</th>\n",
              "    </tr>\n",
              "  </thead>\n",
              "  <tbody>\n",
              "    <tr>\n",
              "      <th>0</th>\n",
              "      <td>False</td>\n",
              "      <td>False</td>\n",
              "      <td>False</td>\n",
              "      <td>False</td>\n",
              "      <td>False</td>\n",
              "      <td>True</td>\n",
              "      <td>False</td>\n",
              "      <td>False</td>\n",
              "      <td>False</td>\n",
              "      <td>False</td>\n",
              "      <td>...</td>\n",
              "      <td>False</td>\n",
              "      <td>False</td>\n",
              "      <td>False</td>\n",
              "      <td>False</td>\n",
              "      <td>False</td>\n",
              "      <td>False</td>\n",
              "      <td>False</td>\n",
              "      <td>False</td>\n",
              "      <td>False</td>\n",
              "      <td>False</td>\n",
              "    </tr>\n",
              "    <tr>\n",
              "      <th>1</th>\n",
              "      <td>False</td>\n",
              "      <td>False</td>\n",
              "      <td>False</td>\n",
              "      <td>False</td>\n",
              "      <td>False</td>\n",
              "      <td>True</td>\n",
              "      <td>False</td>\n",
              "      <td>False</td>\n",
              "      <td>False</td>\n",
              "      <td>False</td>\n",
              "      <td>...</td>\n",
              "      <td>False</td>\n",
              "      <td>False</td>\n",
              "      <td>False</td>\n",
              "      <td>False</td>\n",
              "      <td>False</td>\n",
              "      <td>False</td>\n",
              "      <td>False</td>\n",
              "      <td>False</td>\n",
              "      <td>False</td>\n",
              "      <td>False</td>\n",
              "    </tr>\n",
              "    <tr>\n",
              "      <th>2</th>\n",
              "      <td>False</td>\n",
              "      <td>False</td>\n",
              "      <td>False</td>\n",
              "      <td>False</td>\n",
              "      <td>False</td>\n",
              "      <td>True</td>\n",
              "      <td>False</td>\n",
              "      <td>False</td>\n",
              "      <td>False</td>\n",
              "      <td>False</td>\n",
              "      <td>...</td>\n",
              "      <td>False</td>\n",
              "      <td>False</td>\n",
              "      <td>False</td>\n",
              "      <td>False</td>\n",
              "      <td>False</td>\n",
              "      <td>False</td>\n",
              "      <td>False</td>\n",
              "      <td>False</td>\n",
              "      <td>False</td>\n",
              "      <td>False</td>\n",
              "    </tr>\n",
              "    <tr>\n",
              "      <th>3</th>\n",
              "      <td>False</td>\n",
              "      <td>False</td>\n",
              "      <td>False</td>\n",
              "      <td>False</td>\n",
              "      <td>False</td>\n",
              "      <td>True</td>\n",
              "      <td>False</td>\n",
              "      <td>False</td>\n",
              "      <td>False</td>\n",
              "      <td>False</td>\n",
              "      <td>...</td>\n",
              "      <td>False</td>\n",
              "      <td>False</td>\n",
              "      <td>False</td>\n",
              "      <td>False</td>\n",
              "      <td>False</td>\n",
              "      <td>False</td>\n",
              "      <td>False</td>\n",
              "      <td>False</td>\n",
              "      <td>False</td>\n",
              "      <td>False</td>\n",
              "    </tr>\n",
              "    <tr>\n",
              "      <th>4</th>\n",
              "      <td>False</td>\n",
              "      <td>False</td>\n",
              "      <td>False</td>\n",
              "      <td>False</td>\n",
              "      <td>False</td>\n",
              "      <td>True</td>\n",
              "      <td>False</td>\n",
              "      <td>False</td>\n",
              "      <td>False</td>\n",
              "      <td>False</td>\n",
              "      <td>...</td>\n",
              "      <td>False</td>\n",
              "      <td>False</td>\n",
              "      <td>False</td>\n",
              "      <td>False</td>\n",
              "      <td>False</td>\n",
              "      <td>False</td>\n",
              "      <td>False</td>\n",
              "      <td>False</td>\n",
              "      <td>False</td>\n",
              "      <td>False</td>\n",
              "    </tr>\n",
              "    <tr>\n",
              "      <th>...</th>\n",
              "      <td>...</td>\n",
              "      <td>...</td>\n",
              "      <td>...</td>\n",
              "      <td>...</td>\n",
              "      <td>...</td>\n",
              "      <td>...</td>\n",
              "      <td>...</td>\n",
              "      <td>...</td>\n",
              "      <td>...</td>\n",
              "      <td>...</td>\n",
              "      <td>...</td>\n",
              "      <td>...</td>\n",
              "      <td>...</td>\n",
              "      <td>...</td>\n",
              "      <td>...</td>\n",
              "      <td>...</td>\n",
              "      <td>...</td>\n",
              "      <td>...</td>\n",
              "      <td>...</td>\n",
              "      <td>...</td>\n",
              "      <td>...</td>\n",
              "    </tr>\n",
              "    <tr>\n",
              "      <th>101761</th>\n",
              "      <td>False</td>\n",
              "      <td>False</td>\n",
              "      <td>False</td>\n",
              "      <td>False</td>\n",
              "      <td>False</td>\n",
              "      <td>True</td>\n",
              "      <td>False</td>\n",
              "      <td>False</td>\n",
              "      <td>False</td>\n",
              "      <td>False</td>\n",
              "      <td>...</td>\n",
              "      <td>False</td>\n",
              "      <td>False</td>\n",
              "      <td>False</td>\n",
              "      <td>False</td>\n",
              "      <td>False</td>\n",
              "      <td>False</td>\n",
              "      <td>False</td>\n",
              "      <td>False</td>\n",
              "      <td>False</td>\n",
              "      <td>False</td>\n",
              "    </tr>\n",
              "    <tr>\n",
              "      <th>101762</th>\n",
              "      <td>False</td>\n",
              "      <td>False</td>\n",
              "      <td>False</td>\n",
              "      <td>False</td>\n",
              "      <td>False</td>\n",
              "      <td>True</td>\n",
              "      <td>False</td>\n",
              "      <td>False</td>\n",
              "      <td>False</td>\n",
              "      <td>False</td>\n",
              "      <td>...</td>\n",
              "      <td>False</td>\n",
              "      <td>False</td>\n",
              "      <td>False</td>\n",
              "      <td>False</td>\n",
              "      <td>False</td>\n",
              "      <td>False</td>\n",
              "      <td>False</td>\n",
              "      <td>False</td>\n",
              "      <td>False</td>\n",
              "      <td>False</td>\n",
              "    </tr>\n",
              "    <tr>\n",
              "      <th>101763</th>\n",
              "      <td>False</td>\n",
              "      <td>False</td>\n",
              "      <td>False</td>\n",
              "      <td>False</td>\n",
              "      <td>False</td>\n",
              "      <td>True</td>\n",
              "      <td>False</td>\n",
              "      <td>False</td>\n",
              "      <td>False</td>\n",
              "      <td>False</td>\n",
              "      <td>...</td>\n",
              "      <td>False</td>\n",
              "      <td>False</td>\n",
              "      <td>False</td>\n",
              "      <td>False</td>\n",
              "      <td>False</td>\n",
              "      <td>False</td>\n",
              "      <td>False</td>\n",
              "      <td>False</td>\n",
              "      <td>False</td>\n",
              "      <td>False</td>\n",
              "    </tr>\n",
              "    <tr>\n",
              "      <th>101764</th>\n",
              "      <td>False</td>\n",
              "      <td>False</td>\n",
              "      <td>False</td>\n",
              "      <td>False</td>\n",
              "      <td>False</td>\n",
              "      <td>True</td>\n",
              "      <td>False</td>\n",
              "      <td>False</td>\n",
              "      <td>False</td>\n",
              "      <td>False</td>\n",
              "      <td>...</td>\n",
              "      <td>False</td>\n",
              "      <td>False</td>\n",
              "      <td>False</td>\n",
              "      <td>False</td>\n",
              "      <td>False</td>\n",
              "      <td>False</td>\n",
              "      <td>False</td>\n",
              "      <td>False</td>\n",
              "      <td>False</td>\n",
              "      <td>False</td>\n",
              "    </tr>\n",
              "    <tr>\n",
              "      <th>101765</th>\n",
              "      <td>False</td>\n",
              "      <td>False</td>\n",
              "      <td>False</td>\n",
              "      <td>False</td>\n",
              "      <td>False</td>\n",
              "      <td>True</td>\n",
              "      <td>False</td>\n",
              "      <td>False</td>\n",
              "      <td>False</td>\n",
              "      <td>False</td>\n",
              "      <td>...</td>\n",
              "      <td>False</td>\n",
              "      <td>False</td>\n",
              "      <td>False</td>\n",
              "      <td>False</td>\n",
              "      <td>False</td>\n",
              "      <td>False</td>\n",
              "      <td>False</td>\n",
              "      <td>False</td>\n",
              "      <td>False</td>\n",
              "      <td>False</td>\n",
              "    </tr>\n",
              "  </tbody>\n",
              "</table>\n",
              "<p>101766 rows × 50 columns</p>\n",
              "</div>\n",
              "    <div class=\"colab-df-buttons\">\n",
              "\n",
              "  <div class=\"colab-df-container\">\n",
              "    <button class=\"colab-df-convert\" onclick=\"convertToInteractive('df-4786d270-9036-4f53-807c-2e76c89da0a1')\"\n",
              "            title=\"Convert this dataframe to an interactive table.\"\n",
              "            style=\"display:none;\">\n",
              "\n",
              "  <svg xmlns=\"http://www.w3.org/2000/svg\" height=\"24px\" viewBox=\"0 -960 960 960\">\n",
              "    <path d=\"M120-120v-720h720v720H120Zm60-500h600v-160H180v160Zm220 220h160v-160H400v160Zm0 220h160v-160H400v160ZM180-400h160v-160H180v160Zm440 0h160v-160H620v160ZM180-180h160v-160H180v160Zm440 0h160v-160H620v160Z\"/>\n",
              "  </svg>\n",
              "    </button>\n",
              "\n",
              "  <style>\n",
              "    .colab-df-container {\n",
              "      display:flex;\n",
              "      gap: 12px;\n",
              "    }\n",
              "\n",
              "    .colab-df-convert {\n",
              "      background-color: #E8F0FE;\n",
              "      border: none;\n",
              "      border-radius: 50%;\n",
              "      cursor: pointer;\n",
              "      display: none;\n",
              "      fill: #1967D2;\n",
              "      height: 32px;\n",
              "      padding: 0 0 0 0;\n",
              "      width: 32px;\n",
              "    }\n",
              "\n",
              "    .colab-df-convert:hover {\n",
              "      background-color: #E2EBFA;\n",
              "      box-shadow: 0px 1px 2px rgba(60, 64, 67, 0.3), 0px 1px 3px 1px rgba(60, 64, 67, 0.15);\n",
              "      fill: #174EA6;\n",
              "    }\n",
              "\n",
              "    .colab-df-buttons div {\n",
              "      margin-bottom: 4px;\n",
              "    }\n",
              "\n",
              "    [theme=dark] .colab-df-convert {\n",
              "      background-color: #3B4455;\n",
              "      fill: #D2E3FC;\n",
              "    }\n",
              "\n",
              "    [theme=dark] .colab-df-convert:hover {\n",
              "      background-color: #434B5C;\n",
              "      box-shadow: 0px 1px 3px 1px rgba(0, 0, 0, 0.15);\n",
              "      filter: drop-shadow(0px 1px 2px rgba(0, 0, 0, 0.3));\n",
              "      fill: #FFFFFF;\n",
              "    }\n",
              "  </style>\n",
              "\n",
              "    <script>\n",
              "      const buttonEl =\n",
              "        document.querySelector('#df-4786d270-9036-4f53-807c-2e76c89da0a1 button.colab-df-convert');\n",
              "      buttonEl.style.display =\n",
              "        google.colab.kernel.accessAllowed ? 'block' : 'none';\n",
              "\n",
              "      async function convertToInteractive(key) {\n",
              "        const element = document.querySelector('#df-4786d270-9036-4f53-807c-2e76c89da0a1');\n",
              "        const dataTable =\n",
              "          await google.colab.kernel.invokeFunction('convertToInteractive',\n",
              "                                                    [key], {});\n",
              "        if (!dataTable) return;\n",
              "\n",
              "        const docLinkHtml = 'Like what you see? Visit the ' +\n",
              "          '<a target=\"_blank\" href=https://colab.research.google.com/notebooks/data_table.ipynb>data table notebook</a>'\n",
              "          + ' to learn more about interactive tables.';\n",
              "        element.innerHTML = '';\n",
              "        dataTable['output_type'] = 'display_data';\n",
              "        await google.colab.output.renderOutput(dataTable, element);\n",
              "        const docLink = document.createElement('div');\n",
              "        docLink.innerHTML = docLinkHtml;\n",
              "        element.appendChild(docLink);\n",
              "      }\n",
              "    </script>\n",
              "  </div>\n",
              "\n",
              "\n",
              "<div id=\"df-7bdd0a8b-f398-461b-95d4-cc377fac9927\">\n",
              "  <button class=\"colab-df-quickchart\" onclick=\"quickchart('df-7bdd0a8b-f398-461b-95d4-cc377fac9927')\"\n",
              "            title=\"Suggest charts\"\n",
              "            style=\"display:none;\">\n",
              "\n",
              "<svg xmlns=\"http://www.w3.org/2000/svg\" height=\"24px\"viewBox=\"0 0 24 24\"\n",
              "     width=\"24px\">\n",
              "    <g>\n",
              "        <path d=\"M19 3H5c-1.1 0-2 .9-2 2v14c0 1.1.9 2 2 2h14c1.1 0 2-.9 2-2V5c0-1.1-.9-2-2-2zM9 17H7v-7h2v7zm4 0h-2V7h2v10zm4 0h-2v-4h2v4z\"/>\n",
              "    </g>\n",
              "</svg>\n",
              "  </button>\n",
              "\n",
              "<style>\n",
              "  .colab-df-quickchart {\n",
              "      --bg-color: #E8F0FE;\n",
              "      --fill-color: #1967D2;\n",
              "      --hover-bg-color: #E2EBFA;\n",
              "      --hover-fill-color: #174EA6;\n",
              "      --disabled-fill-color: #AAA;\n",
              "      --disabled-bg-color: #DDD;\n",
              "  }\n",
              "\n",
              "  [theme=dark] .colab-df-quickchart {\n",
              "      --bg-color: #3B4455;\n",
              "      --fill-color: #D2E3FC;\n",
              "      --hover-bg-color: #434B5C;\n",
              "      --hover-fill-color: #FFFFFF;\n",
              "      --disabled-bg-color: #3B4455;\n",
              "      --disabled-fill-color: #666;\n",
              "  }\n",
              "\n",
              "  .colab-df-quickchart {\n",
              "    background-color: var(--bg-color);\n",
              "    border: none;\n",
              "    border-radius: 50%;\n",
              "    cursor: pointer;\n",
              "    display: none;\n",
              "    fill: var(--fill-color);\n",
              "    height: 32px;\n",
              "    padding: 0;\n",
              "    width: 32px;\n",
              "  }\n",
              "\n",
              "  .colab-df-quickchart:hover {\n",
              "    background-color: var(--hover-bg-color);\n",
              "    box-shadow: 0 1px 2px rgba(60, 64, 67, 0.3), 0 1px 3px 1px rgba(60, 64, 67, 0.15);\n",
              "    fill: var(--button-hover-fill-color);\n",
              "  }\n",
              "\n",
              "  .colab-df-quickchart-complete:disabled,\n",
              "  .colab-df-quickchart-complete:disabled:hover {\n",
              "    background-color: var(--disabled-bg-color);\n",
              "    fill: var(--disabled-fill-color);\n",
              "    box-shadow: none;\n",
              "  }\n",
              "\n",
              "  .colab-df-spinner {\n",
              "    border: 2px solid var(--fill-color);\n",
              "    border-color: transparent;\n",
              "    border-bottom-color: var(--fill-color);\n",
              "    animation:\n",
              "      spin 1s steps(1) infinite;\n",
              "  }\n",
              "\n",
              "  @keyframes spin {\n",
              "    0% {\n",
              "      border-color: transparent;\n",
              "      border-bottom-color: var(--fill-color);\n",
              "      border-left-color: var(--fill-color);\n",
              "    }\n",
              "    20% {\n",
              "      border-color: transparent;\n",
              "      border-left-color: var(--fill-color);\n",
              "      border-top-color: var(--fill-color);\n",
              "    }\n",
              "    30% {\n",
              "      border-color: transparent;\n",
              "      border-left-color: var(--fill-color);\n",
              "      border-top-color: var(--fill-color);\n",
              "      border-right-color: var(--fill-color);\n",
              "    }\n",
              "    40% {\n",
              "      border-color: transparent;\n",
              "      border-right-color: var(--fill-color);\n",
              "      border-top-color: var(--fill-color);\n",
              "    }\n",
              "    60% {\n",
              "      border-color: transparent;\n",
              "      border-right-color: var(--fill-color);\n",
              "    }\n",
              "    80% {\n",
              "      border-color: transparent;\n",
              "      border-right-color: var(--fill-color);\n",
              "      border-bottom-color: var(--fill-color);\n",
              "    }\n",
              "    90% {\n",
              "      border-color: transparent;\n",
              "      border-bottom-color: var(--fill-color);\n",
              "    }\n",
              "  }\n",
              "</style>\n",
              "\n",
              "  <script>\n",
              "    async function quickchart(key) {\n",
              "      const quickchartButtonEl =\n",
              "        document.querySelector('#' + key + ' button');\n",
              "      quickchartButtonEl.disabled = true;  // To prevent multiple clicks.\n",
              "      quickchartButtonEl.classList.add('colab-df-spinner');\n",
              "      try {\n",
              "        const charts = await google.colab.kernel.invokeFunction(\n",
              "            'suggestCharts', [key], {});\n",
              "      } catch (error) {\n",
              "        console.error('Error during call to suggestCharts:', error);\n",
              "      }\n",
              "      quickchartButtonEl.classList.remove('colab-df-spinner');\n",
              "      quickchartButtonEl.classList.add('colab-df-quickchart-complete');\n",
              "    }\n",
              "    (() => {\n",
              "      let quickchartButtonEl =\n",
              "        document.querySelector('#df-7bdd0a8b-f398-461b-95d4-cc377fac9927 button');\n",
              "      quickchartButtonEl.style.display =\n",
              "        google.colab.kernel.accessAllowed ? 'block' : 'none';\n",
              "    })();\n",
              "  </script>\n",
              "</div>\n",
              "\n",
              "    </div>\n",
              "  </div>\n"
            ],
            "application/vnd.google.colaboratory.intrinsic+json": {
              "type": "dataframe"
            }
          },
          "metadata": {},
          "execution_count": 8
        }
      ],
      "source": [
        "data == '?'"
      ]
    },
    {
      "cell_type": "markdown",
      "id": "primary-service",
      "metadata": {
        "id": "primary-service"
      },
      "source": [
        "O resultado é um *data frame* que contém o mesmo formato do *data frame* original. As células que “casam” com a expressão `== '?'` contêm o valor `True` e todas as demais contêm o valor `false`.\n",
        "\n",
        "Esse resultado pode ser usado para indexar o *data frame* como se fosse uma máscara. Se você fizer isso do lao esquerdo de uma expressão de atribuição, pode trocar todas as ocorrências da string `'?'` por algum outro valor."
      ]
    },
    {
      "cell_type": "markdown",
      "id": "searching-button",
      "metadata": {
        "id": "searching-button"
      },
      "source": [
        "#### Exercício 4\n",
        "\n",
        "**TODO**: use essa expressão como uma máscara para substituir todas as ocorrências da string `'?'` por `np.nan`."
      ]
    },
    {
      "cell_type": "code",
      "execution_count": 9,
      "id": "hawaiian-mechanics",
      "metadata": {
        "id": "hawaiian-mechanics"
      },
      "outputs": [],
      "source": [
        "data[data == '?'] = np.nan"
      ]
    },
    {
      "cell_type": "markdown",
      "id": "becoming-pattern",
      "metadata": {
        "id": "becoming-pattern"
      },
      "source": [
        "Agora que o *data frame* está formatado de acordo com a representação do Pandas, podemos começar a estudar os atributos que possuem valores ausentes.\n",
        "\n",
        "A célula abaixo deverá mostrar a quantidade de valores ausentes por atributo. A explicação do comando vem depois."
      ]
    },
    {
      "cell_type": "code",
      "execution_count": 10,
      "id": "directed-pathology",
      "metadata": {
        "id": "directed-pathology",
        "colab": {
          "base_uri": "https://localhost:8080/"
        },
        "outputId": "78fb186c-a47d-4551-a620-5fcdf06d0cc4"
      },
      "outputs": [
        {
          "output_type": "execute_result",
          "data": {
            "text/plain": [
              "encounter_id                 0.000000\n",
              "patient_nbr                  0.000000\n",
              "race                         2.233555\n",
              "gender                       0.000000\n",
              "age                          0.000000\n",
              "weight                      96.858479\n",
              "admission_type_id            0.000000\n",
              "discharge_disposition_id     0.000000\n",
              "admission_source_id          0.000000\n",
              "time_in_hospital             0.000000\n",
              "payer_code                  39.557416\n",
              "medical_specialty           49.082208\n",
              "num_lab_procedures           0.000000\n",
              "num_procedures               0.000000\n",
              "num_medications              0.000000\n",
              "number_outpatient            0.000000\n",
              "number_emergency             0.000000\n",
              "number_inpatient             0.000000\n",
              "diag_1                       0.020636\n",
              "diag_2                       0.351787\n",
              "diag_3                       1.398306\n",
              "number_diagnoses             0.000000\n",
              "max_glu_serum                0.000000\n",
              "A1Cresult                    0.000000\n",
              "metformin                    0.000000\n",
              "repaglinide                  0.000000\n",
              "nateglinide                  0.000000\n",
              "chlorpropamide               0.000000\n",
              "glimepiride                  0.000000\n",
              "acetohexamide                0.000000\n",
              "glipizide                    0.000000\n",
              "glyburide                    0.000000\n",
              "tolbutamide                  0.000000\n",
              "pioglitazone                 0.000000\n",
              "rosiglitazone                0.000000\n",
              "acarbose                     0.000000\n",
              "miglitol                     0.000000\n",
              "troglitazone                 0.000000\n",
              "tolazamide                   0.000000\n",
              "examide                      0.000000\n",
              "citoglipton                  0.000000\n",
              "insulin                      0.000000\n",
              "glyburide-metformin          0.000000\n",
              "glipizide-metformin          0.000000\n",
              "glimepiride-pioglitazone     0.000000\n",
              "metformin-rosiglitazone      0.000000\n",
              "metformin-pioglitazone       0.000000\n",
              "change                       0.000000\n",
              "diabetesMed                  0.000000\n",
              "readmitted                   0.000000\n",
              "dtype: float64"
            ]
          },
          "metadata": {},
          "execution_count": 10
        }
      ],
      "source": [
        "100 * data.isna().sum() / len(data)"
      ]
    },
    {
      "cell_type": "markdown",
      "id": "funny-boston",
      "metadata": {
        "id": "funny-boston"
      },
      "source": [
        "Observe que alguns atributos realmente possuem uma quantidade muito grande de valores ausentes. Você deve ter visto que aproximadamente 96,85% dos exemplos não possuem valor de peso (`weight`). Isso não é um erro. O dado não existe na base."
      ]
    },
    {
      "cell_type": "markdown",
      "id": "injured-stations",
      "metadata": {
        "id": "injured-stations"
      },
      "source": [
        "**Recapitulando o comando**\n",
        "\n",
        "O comando que usamos foi\n",
        "\n",
        "```Python\n",
        "100 * data.isna().sum() / len(data)\n",
        "```\n",
        "\n",
        "Parte por parte, esse comando faz o seguinte:\n",
        "\n",
        "- `data.isna()` retorna um data frame com `True` ou `False` para cada célula;\n",
        "- `data.isna().sum()` soma a quantidade de valores `True` em cada coluna, isto é, o número de valores ausentes por atributo;\n",
        "- `data.isna().sum() / len(data)` divide o número de valores ausentes por atributo pelo número total de exemplos.\n",
        "\n",
        "Esse resultado é multiplicado por 100 para dar ter o  formato usual de portcentagem."
      ]
    },
    {
      "cell_type": "markdown",
      "id": "modern-community",
      "metadata": {
        "id": "modern-community"
      },
      "source": [
        "### Remoção de atributos"
      ]
    },
    {
      "cell_type": "markdown",
      "id": "virtual-practice",
      "metadata": {
        "id": "virtual-practice"
      },
      "source": [
        "Agora vamos considerar os atributos.\n",
        "\n",
        "O atributo classe é `readmitted`. Todos os outros atributos são preditivos. Os dois primeiros, `encounter_id` e `patient_nbr`, são identificadores.\n",
        "\n",
        "- `encounter_id`: registra unicamente cada atendimento; isto é, cada linha (instância);\n",
        "- `patient_nbr`: registra unicamente cada paciente.\n",
        "\n",
        "O primeiro atributo é único para cada linha e, portanto, não traz informação para o aprendizado, devendo ser removido. O segundo até contém informação útil para o aprendizado, mas ainda não estudamos os conceitos necessários para fazer uso dessa informação. Podemos removê-lo também sem prejuízo para a atividade."
      ]
    },
    {
      "cell_type": "markdown",
      "id": "handy-scoop",
      "metadata": {
        "id": "handy-scoop"
      },
      "source": [
        "#### Exercício 5\n",
        "\n",
        "**TODO**: complete a célua abaixo para remover as colunas `encounter_id` e `patient_nbr`. Passe uma lista como primeiro argumento."
      ]
    },
    {
      "cell_type": "code",
      "source": [
        "data.columns[:2]"
      ],
      "metadata": {
        "colab": {
          "base_uri": "https://localhost:8080/"
        },
        "id": "vt-2ui0t1luD",
        "outputId": "fc80ac11-4e48-4667-e959-5a00043ef254"
      },
      "id": "vt-2ui0t1luD",
      "execution_count": 11,
      "outputs": [
        {
          "output_type": "execute_result",
          "data": {
            "text/plain": [
              "Index(['encounter_id', 'patient_nbr'], dtype='object')"
            ]
          },
          "metadata": {},
          "execution_count": 11
        }
      ]
    },
    {
      "cell_type": "code",
      "execution_count": 12,
      "id": "incident-analyst",
      "metadata": {
        "id": "incident-analyst"
      },
      "outputs": [],
      "source": [
        "data.drop( ['encounter_id', 'patient_nbr'], axis=1, inplace=True)"
      ]
    },
    {
      "cell_type": "markdown",
      "id": "closed-sterling",
      "metadata": {
        "id": "closed-sterling"
      },
      "source": [
        "A célula abaixo deverá mostrar as duas novas primeiras colunas, que são `race` e `gender`."
      ]
    },
    {
      "cell_type": "code",
      "execution_count": 13,
      "id": "scientific-grocery",
      "metadata": {
        "id": "scientific-grocery",
        "colab": {
          "base_uri": "https://localhost:8080/"
        },
        "outputId": "5f9f6048-d62d-4e73-9b87-49ced60956d7"
      },
      "outputs": [
        {
          "output_type": "execute_result",
          "data": {
            "text/plain": [
              "Index(['race', 'gender'], dtype='object')"
            ]
          },
          "metadata": {},
          "execution_count": 13
        }
      ],
      "source": [
        "data.columns[:2]"
      ]
    },
    {
      "cell_type": "markdown",
      "id": "integrated-minority",
      "metadata": {
        "id": "integrated-minority"
      },
      "source": [
        "Agora podemos voltar nossa atenção para os atributos que possuem um número excessivo de valores ausentes. Vamos verificar os três que possuem pelo menos 30% de valores ausentes:"
      ]
    },
    {
      "cell_type": "code",
      "execution_count": 22,
      "id": "exceptional-above",
      "metadata": {
        "id": "exceptional-above",
        "colab": {
          "base_uri": "https://localhost:8080/"
        },
        "outputId": "de0f1ed7-c62d-4997-dfb0-1967b280942b"
      },
      "outputs": [
        {
          "output_type": "execute_result",
          "data": {
            "text/plain": [
              "race                  2.233555\n",
              "weight               96.858479\n",
              "payer_code           39.557416\n",
              "medical_specialty    49.082208\n",
              "diag_2                0.351787\n",
              "diag_3                1.398306\n",
              "dtype: float64"
            ]
          },
          "metadata": {},
          "execution_count": 22
        }
      ],
      "source": [
        "missing_pct = 100 * data.isna().sum() / len(data)\n",
        "missing_pct[missing_pct >0.3]"
      ]
    },
    {
      "cell_type": "markdown",
      "id": "aware-stuff",
      "metadata": {
        "id": "aware-stuff"
      },
      "source": [
        "O que fazer com eles depende de análise individual. Vamos proceder da seguinte maneira, usando conhecimento gerais  de AM e conhecimento de domínio adquiridos com a leitura do artigo:\n",
        "\n",
        "- O atributo `weight` provavelmente foi coletado de maneira opcional e praticamente todos os exemplos não possuem valor para ele (97%). É um atributo esparso demais para tratarmos e é melhor removê-lo;\n",
        "- O atributo `payer_code` indica como o paciente pagou a consulta e também contém uma quantidade muito grande de valores ausentes (40%). Nesse ponto, entra em questão a opinião do especialista de domínio (médico, neste caso). Os autores do artigo julgaram que o atributo não é suficientemente relevante e o removeram. Nós vamos fazer o mesmo;\n",
        "- O atributo `medical_specialty` também contém uma quantidade muito grande de valores ausentes (49%). Ele representa a especialidade do(a) profissional que encaminhou o paciente para consulta. Os autores do artigo julgaram que esse atributo é relevante e decidiram trocar os valores ausentes por uma categoria que representa um valor ausente. Vamos fazer a mesma coisa."
      ]
    },
    {
      "cell_type": "markdown",
      "id": "seasonal-underground",
      "metadata": {
        "id": "seasonal-underground"
      },
      "source": [
        "Vamos começar tratando os dois primeiros atributos."
      ]
    },
    {
      "cell_type": "markdown",
      "id": "formal-enlargement",
      "metadata": {
        "id": "formal-enlargement"
      },
      "source": [
        "#### Exercício 6\n",
        "\n",
        "**TODO:** remova as colunas `weight` e `payer_code` com o método `drop`. Não se esqueça de especificar o eixo (`axis=1`)."
      ]
    },
    {
      "cell_type": "code",
      "execution_count": null,
      "id": "dress-target",
      "metadata": {
        "id": "dress-target"
      },
      "outputs": [],
      "source": []
    },
    {
      "cell_type": "markdown",
      "id": "italic-audio",
      "metadata": {
        "id": "italic-audio"
      },
      "source": [
        "Como um teste, a célula abaixo deverá indicar que o *data frame* contém 46 colunas e que os atributos que tentamos remover realmente não estão presentes."
      ]
    },
    {
      "cell_type": "code",
      "execution_count": null,
      "id": "occupational-accuracy",
      "metadata": {
        "id": "occupational-accuracy"
      },
      "outputs": [],
      "source": [
        "removed = ['encounter_id', 'patient_nbr', 'weight', 'payer_code']\n",
        "print(f\"Atributos restantes: {data.shape[1]}\")\n",
        "for r in removed:\n",
        "    print(f\"O atributo {r} foi removido? {r not in data.columns}\")"
      ]
    },
    {
      "cell_type": "markdown",
      "id": "rolled-steam",
      "metadata": {
        "id": "rolled-steam"
      },
      "source": [
        "### Valores ausentes que não removeremos"
      ]
    },
    {
      "cell_type": "markdown",
      "id": "warming-medicare",
      "metadata": {
        "id": "warming-medicare"
      },
      "source": [
        "Todos os atributos que possuem valores ausentes devem ser verificados. Já removemos dois, mas os outros preicsam de tratamento específico.\n",
        "\n",
        "Vamos começar listando todos os atributos que possuem pelo menos um valor ausente. Podemos fazer isso em vários passos. Por exemplo, você pode usar `data.isna()` para obter a máscara de todas as células que possuem valores ausentes e encadear o método `any()` para obter as colunas que têm pelo menos um valor ausente.\n",
        "\n",
        "***Dica***: no Jupyter Notebook, se estiver em modo de edição em uma célula, aperte `ESC`, depois use os atalhos `b` e `a` para criar novas células abaixo e acima. Para excluir uma célula, use `dd` (aperte `d` duas vezes).\n",
        "\n",
        "***Dica***: atalhos semelhantes existem no Colaboratory, mas em vez de `ESC`, você pode pressionar `Control+M`, seguido dos atalhos `b`, `a` ou `d`."
      ]
    },
    {
      "cell_type": "markdown",
      "id": "pressed-daisy",
      "metadata": {
        "id": "pressed-daisy"
      },
      "source": [
        "#### Exercício 7\n",
        "\n",
        "**TODO**: imprima os nomes de todos os atributos que ainda possuem valores ausentes."
      ]
    },
    {
      "cell_type": "code",
      "execution_count": null,
      "id": "false-rebel",
      "metadata": {
        "id": "false-rebel"
      },
      "outputs": [],
      "source": []
    },
    {
      "cell_type": "markdown",
      "id": "swedish-emphasis",
      "metadata": {
        "id": "swedish-emphasis"
      },
      "source": [
        "#### Exercício 8\n",
        "\n",
        "**TODO**: guarde esses nomes em uma lista."
      ]
    },
    {
      "cell_type": "code",
      "execution_count": null,
      "id": "specialized-diesel",
      "metadata": {
        "id": "specialized-diesel"
      },
      "outputs": [],
      "source": [
        "missfeat = # ..."
      ]
    },
    {
      "cell_type": "markdown",
      "id": "suspended-pitch",
      "metadata": {
        "id": "suspended-pitch"
      },
      "source": [
        "Caso encontre dificuldades, a lista deve ser igual à seguinte:"
      ]
    },
    {
      "cell_type": "code",
      "execution_count": null,
      "id": "ready-refrigerator",
      "metadata": {
        "id": "ready-refrigerator"
      },
      "outputs": [],
      "source": [
        "# missfeat = ['race', 'medical_specialty', 'diag_1', 'diag_2', 'diag_3']"
      ]
    },
    {
      "cell_type": "markdown",
      "id": "exact-character",
      "metadata": {
        "id": "exact-character"
      },
      "source": [
        "Vamos olhar especificamente para a fração de valores ausentes nesses atributos:"
      ]
    },
    {
      "cell_type": "code",
      "execution_count": null,
      "id": "senior-practitioner",
      "metadata": {
        "id": "senior-practitioner"
      },
      "outputs": [],
      "source": [
        "100 * data[missfeat].isna().sum() / len(data)"
      ]
    },
    {
      "cell_type": "markdown",
      "id": "successful-sentence",
      "metadata": {
        "id": "successful-sentence"
      },
      "source": [
        "Os atributos que ainda possuem valores ausentes são os seguintes:\n",
        "\n",
        "- `race`, que indica a etnia do paciente;\n",
        "- `medical_specialty`, que, como já vimos, indica a especialidade do(a) médico que fez encaminhamento do paciente;\n",
        "- `diag_1`, `diag_2` e `diag_3`, que representam diagnósticos recebidos pelo paciente.\n",
        "\n",
        "Como já mencionamos, os autores do artigo de referência consideraram o atributo `medical_specialty` relevante, apesar do alto número de valores ausentes. Nós vamos substituir os valores ausentes pelo valor `'missing'`.\n",
        "\n",
        "Mas, antes de fazer isso, que tipo de valores estão presentes nesse atributo?"
      ]
    },
    {
      "cell_type": "markdown",
      "id": "photographic-message",
      "metadata": {
        "id": "photographic-message"
      },
      "source": [
        "#### Exercício 9\n",
        "\n",
        "**TODO**: use o méodo `value_counts()` no atributo `'medical_specialty'` para obter a lista de valores e o número de vezes que eles aparecem."
      ]
    },
    {
      "cell_type": "code",
      "execution_count": null,
      "id": "informational-thomson",
      "metadata": {
        "id": "informational-thomson"
      },
      "outputs": [],
      "source": []
    },
    {
      "cell_type": "markdown",
      "id": "linear-workplace",
      "metadata": {
        "id": "linear-workplace"
      },
      "source": [
        "#### Exercício 10\n",
        "\n",
        "**TODO**: use o método `keys()` na saída da célula anterior para obter a lista completa de chaves—isto é, os valores que aparecem no atributo."
      ]
    },
    {
      "cell_type": "code",
      "execution_count": null,
      "id": "practical-thursday",
      "metadata": {
        "id": "practical-thursday"
      },
      "outputs": [],
      "source": []
    },
    {
      "cell_type": "markdown",
      "id": "extended-kitty",
      "metadata": {
        "id": "extended-kitty"
      },
      "source": [
        "Podemos até ordenar os valores para que a visualização seja mais fácil:"
      ]
    },
    {
      "cell_type": "code",
      "execution_count": null,
      "id": "explicit-lesbian",
      "metadata": {
        "id": "explicit-lesbian"
      },
      "outputs": [],
      "source": [
        "np.sort(data['medical_specialty'].value_counts().keys())"
      ]
    },
    {
      "cell_type": "markdown",
      "id": "mediterranean-estimate",
      "metadata": {
        "id": "mediterranean-estimate"
      },
      "source": [
        "Os valores desse atributo são bem curiosos. Alguns parecem repetidos ou talvez excessivamente diferenciados. Por exemplo, o que significa `PhysicianNotFound` (médico não encontrado) e por que existem tantas especificações de especialidades pediátricas?\n",
        "\n",
        "Esse tipo de análise é importante quando se trabalha com Aprendizado de Máquinas e com Mineração de Dados. Deve haver diálogo entre você, hoje aspirante a especialista em AMMD, e o(a) especialista da área. Neste caso, como não temos acesso direto a nenhum especialista, faremos o que foi relatado no artigo, que é manter os valores presentes na base, mas substituir os valores ausentes pela string `'missing'`."
      ]
    },
    {
      "cell_type": "markdown",
      "id": "electoral-teens",
      "metadata": {
        "id": "electoral-teens"
      },
      "source": [
        "#### Exercício 11\n",
        "\n",
        "**TODO**: substitua os valores ausentes *do atributo* `'medical_specialty'` pelo valor `'missing'`. Use o método `fillna()` *apenas nessa coluna*, tomando cuidado para não alterar as outras colunas."
      ]
    },
    {
      "cell_type": "code",
      "execution_count": null,
      "id": "champion-flavor",
      "metadata": {
        "id": "champion-flavor"
      },
      "outputs": [],
      "source": []
    },
    {
      "cell_type": "markdown",
      "id": "herbal-manual",
      "metadata": {
        "id": "herbal-manual"
      },
      "source": [
        "Para confirmar, a célula abaixo deve dizer que existem 49.949 ocorrências do valor `'missing'` no atributo `'medical_specialty'` e ainda deve haver 4.075 valores ausentes no conjunto."
      ]
    },
    {
      "cell_type": "code",
      "execution_count": null,
      "id": "russian-retirement",
      "metadata": {
        "id": "russian-retirement"
      },
      "outputs": [],
      "source": [
        "print(f\"Ocorrências do valor 'missing': {(data['medical_specialty'] == 'missing').sum()}\")\n",
        "print(f\"Valores ausentes: {data.isna().sum().sum()}\")"
      ]
    },
    {
      "cell_type": "markdown",
      "id": "antique-zimbabwe",
      "metadata": {
        "id": "antique-zimbabwe"
      },
      "source": [
        "Para os outros atributos que possuem valores ausentes, podemos substitui-los pelas modas. A moda de cada atributo pode ser calculada com `scipy.stats.mode`. (**observação**: se a célula abaixo der um erro, continue lendo; é possível continuar a atividade sem o SciPy)"
      ]
    },
    {
      "cell_type": "code",
      "execution_count": null,
      "id": "alpine-detail",
      "metadata": {
        "id": "alpine-detail"
      },
      "outputs": [],
      "source": [
        "from scipy.stats import mode"
      ]
    },
    {
      "cell_type": "code",
      "execution_count": null,
      "id": "illegal-namibia",
      "metadata": {
        "id": "illegal-namibia"
      },
      "outputs": [],
      "source": [
        "caucasian_mode = mode(data['race']).mode\n",
        "caucasian_mode"
      ]
    },
    {
      "cell_type": "markdown",
      "id": "accompanied-reader",
      "metadata": {
        "id": "accompanied-reader"
      },
      "source": [
        "Se as células acima derem algum erro, pode ser que você não tenha o SciPy instalado. Mas não se preocupe, a moda pode ser encontrada com o método `value_counts()`. Ele retorna uma série que pode ser indexada posicionalmente pelo primeiro valor."
      ]
    },
    {
      "cell_type": "code",
      "execution_count": null,
      "id": "genetic-surgeon",
      "metadata": {
        "id": "genetic-surgeon"
      },
      "outputs": [],
      "source": [
        "race_counts = data['race'].value_counts()\n",
        "print('Moda:', race_counts.index[0])\n",
        "print('Frequência da moda:', race_counts[0])"
      ]
    },
    {
      "cell_type": "markdown",
      "id": "median-breathing",
      "metadata": {
        "id": "median-breathing"
      },
      "source": [
        "#### Exercício 12\n",
        "\n",
        "**TODO**: substitua os valores ausentes dos atributos `['race', 'diag_1', 'diag_2', 'diag_3']` pelas modas."
      ]
    },
    {
      "cell_type": "code",
      "execution_count": null,
      "id": "polished-instrument",
      "metadata": {
        "id": "polished-instrument"
      },
      "outputs": [],
      "source": [
        "for f in ['race', 'diag_1', 'diag_2', 'diag_3']:\n",
        "    # ... COMPLETE-ME!!"
      ]
    },
    {
      "cell_type": "markdown",
      "id": "attractive-wildlife",
      "metadata": {
        "id": "attractive-wildlife"
      },
      "source": [
        "Se tudo correu direitinho, então a céula abaixo irá verificar as modas e as contagens."
      ]
    },
    {
      "cell_type": "code",
      "execution_count": null,
      "id": "oriental-router",
      "metadata": {
        "id": "oriental-router"
      },
      "outputs": [],
      "source": [
        "mode_expected = {\n",
        "    'race': 'Caucasian',\n",
        "    'diag_1': '428',\n",
        "    'diag_2': '276',\n",
        "    'diag_3': '250'\n",
        "}\n",
        "mode_expected_count = {\n",
        "    'race': 76099 + 2273,\n",
        "    'diag_1': 6862 + 21,\n",
        "    'diag_2': 6752 + 358,\n",
        "    'diag_3': 11555 + 1423\n",
        "}\n",
        "\n",
        "for f in ['race', 'diag_1', 'diag_2', 'diag_3']:\n",
        "    counts = data[f].value_counts()\n",
        "    confirm_mode = (counts.index[0] == mode_expected[f])\n",
        "    confirm_count = (counts[0] == mode_expected_count[f])\n",
        "\n",
        "    print(f\"Moda de {f} é {mode_expected[f]}? {confirm_mode}\")\n",
        "    print(f\"A contagem da moda é {mode_expected_count[f]}? {confirm_count}\")\n",
        "    print()"
      ]
    },
    {
      "cell_type": "markdown",
      "id": "above-auction",
      "metadata": {
        "id": "above-auction"
      },
      "source": [
        "Antes de finalizar, confirme que não há mais valores ausentes:"
      ]
    },
    {
      "cell_type": "code",
      "execution_count": null,
      "id": "color-pizza",
      "metadata": {
        "id": "color-pizza"
      },
      "outputs": [],
      "source": [
        "data.isna().any(axis=None)"
      ]
    },
    {
      "cell_type": "markdown",
      "id": "demanding-deposit",
      "metadata": {
        "id": "demanding-deposit"
      },
      "source": [
        "### Atributos com pouca informação"
      ]
    },
    {
      "cell_type": "markdown",
      "id": "daily-weather",
      "metadata": {
        "id": "daily-weather"
      },
      "source": [
        "Uma outra questão é a de atributos pouco representativos. Alguns atributos podem não ter valores ausentes na base, mas mesmo assim a informação contida neles é tão mal distribuída que pouco ajudará o classificador.\n",
        "\n",
        "É o caso de alguns atributos que contêm informações de medicamentos utilizados pelos pacientes. São estes:"
      ]
    },
    {
      "cell_type": "code",
      "execution_count": null,
      "id": "faced-pontiac",
      "metadata": {
        "id": "faced-pontiac"
      },
      "outputs": [],
      "source": [
        "medicine_features = np.sort(['metformin', 'repaglinide', 'nateglinide',\n",
        "       'chlorpropamide', 'glimepiride', 'acetohexamide', 'glipizide',\n",
        "       'glyburide', 'tolbutamide', 'pioglitazone', 'rosiglitazone', 'acarbose',\n",
        "       'miglitol', 'troglitazone', 'tolazamide', 'examide', 'citoglipton',\n",
        "       'insulin', 'glyburide-metformin', 'glipizide-metformin',\n",
        "       'glimepiride-pioglitazone', 'metformin-rosiglitazone',\n",
        "       'metformin-pioglitazone'])"
      ]
    },
    {
      "cell_type": "code",
      "execution_count": null,
      "id": "adolescent-stretch",
      "metadata": {
        "id": "adolescent-stretch"
      },
      "outputs": [],
      "source": [
        "len(medicine_features)"
      ]
    },
    {
      "cell_type": "markdown",
      "id": "honest-string",
      "metadata": {
        "id": "honest-string"
      },
      "source": [
        "Esses 23 atributos são categóricos. As categorias permitidas para esses atributos  são poucas e podem ser coletadas facilmente com ajuda do NumPy:"
      ]
    },
    {
      "cell_type": "code",
      "execution_count": null,
      "id": "flexible-anime",
      "metadata": {
        "id": "flexible-anime"
      },
      "outputs": [],
      "source": [
        "np.unique(data[medicine_features])"
      ]
    },
    {
      "cell_type": "markdown",
      "id": "creative-sixth",
      "metadata": {
        "id": "creative-sixth"
      },
      "source": [
        "O valor `No` indica que o paciente não faz uso da medicação e não recebeu indicação para fazer uso durante a visita. O valor `Steady` indica que o paciente faz uso da medicação e a dosagem permaneceu a mesma. Os valores `Down` e `Up` indicam que o paciente faz uso da medicação e, durante a consulta, foi aconselhado a diminuir ou aumentar a dosagem.\n",
        "\n",
        "Veja alguns exemplos:\n",
        "\n",
        "1. Paciente que não faz uso de nenhuma medicação listada:"
      ]
    },
    {
      "cell_type": "code",
      "execution_count": null,
      "id": "collaborative-helicopter",
      "metadata": {
        "id": "collaborative-helicopter"
      },
      "outputs": [],
      "source": [
        "data.loc[356, medicine_features]"
      ]
    },
    {
      "cell_type": "markdown",
      "id": "qualified-first",
      "metadata": {
        "id": "qualified-first"
      },
      "source": [
        "2. Caso em que o uso de insulina foi mantido."
      ]
    },
    {
      "cell_type": "code",
      "execution_count": null,
      "id": "liable-level",
      "metadata": {
        "id": "liable-level"
      },
      "outputs": [],
      "source": [
        "data.loc[52, medicine_features]"
      ]
    },
    {
      "cell_type": "markdown",
      "id": "therapeutic-arcade",
      "metadata": {
        "id": "therapeutic-arcade"
      },
      "source": [
        "3. Caso em que houve manutenção de um medicamento (`metformin`) e redução da insulina."
      ]
    },
    {
      "cell_type": "code",
      "execution_count": null,
      "id": "welcome-duplicate",
      "metadata": {
        "id": "welcome-duplicate"
      },
      "outputs": [],
      "source": [
        "data.loc[12, medicine_features]"
      ]
    },
    {
      "cell_type": "markdown",
      "id": "increased-monster",
      "metadata": {
        "id": "increased-monster"
      },
      "source": [
        "#### Exercício 13\n",
        "\n",
        "**TODO**: explore mais alguns casos da base. Sem especificações, apenas use sua criatividade para encontrar mais alguns exemplos de pacientes que têm pelo menos um valor diferente de `No` para um dos medicamentos."
      ]
    },
    {
      "cell_type": "code",
      "execution_count": null,
      "id": "editorial-question",
      "metadata": {
        "id": "editorial-question"
      },
      "outputs": [],
      "source": []
    },
    {
      "cell_type": "code",
      "execution_count": null,
      "id": "concerned-wells",
      "metadata": {
        "id": "concerned-wells"
      },
      "outputs": [],
      "source": []
    },
    {
      "cell_type": "code",
      "execution_count": null,
      "id": "canadian-essence",
      "metadata": {
        "id": "canadian-essence"
      },
      "outputs": [],
      "source": []
    },
    {
      "cell_type": "markdown",
      "id": "eastern-dover",
      "metadata": {
        "id": "eastern-dover"
      },
      "source": [
        "Como você deve ter visto, a maioria dos pacientes faz uso de poucos ou nenhum medicamento. Na verdade, o valor `'No'` aparece **muitas** vezes nesses 23 atributos."
      ]
    },
    {
      "cell_type": "markdown",
      "id": "laden-retreat",
      "metadata": {
        "id": "laden-retreat"
      },
      "source": [
        "#### Exercício 14\n",
        "\n",
        "**TODO**: calcule quantas vezes o valor `'No'` aparece nessas 23 colunas listadas em `medicine_features`."
      ]
    },
    {
      "cell_type": "code",
      "execution_count": null,
      "id": "utility-journal",
      "metadata": {
        "id": "utility-journal"
      },
      "outputs": [],
      "source": []
    },
    {
      "cell_type": "markdown",
      "id": "covered-stupid",
      "metadata": {
        "id": "covered-stupid"
      },
      "source": [
        "O resultado deve ter sido 2.220.564. Fazendo algumas continhas, você poderá concluir que 95% das células desses atributos contêm o valor `'No'`."
      ]
    },
    {
      "cell_type": "markdown",
      "id": "gross-smile",
      "metadata": {
        "id": "gross-smile"
      },
      "source": [
        "Isso é suspeito e precisamos olhar com mais atenção. Um jeito é montar uma tabela com o número de ocorrências de cada valor para cada medicamento. E, veja, temos a ferramenta ideal para isso: um *data frame*!\n",
        "\n",
        "Vamos montar o *data frame* juntos. Ele deverá ser mais ou menos assim:"
      ]
    },
    {
      "cell_type": "markdown",
      "id": "proud-farmer",
      "metadata": {
        "id": "proud-farmer"
      },
      "source": [
        "![image-2.png](attachment:image-2.png)"
      ]
    },
    {
      "cell_type": "markdown",
      "id": "foreign-faculty",
      "metadata": {
        "id": "foreign-faculty"
      },
      "source": [
        "Funciona da seguinte maneira: o *data frame* possui dois índices. Os valores em negrito na parte de cima são as chaves do índice das colunas. Os valores em negrito nas linhas são as chaves do índice das linhas. A palavra \"Medicine\" no topo é o nome que vamos dar ao índice das linhas. Esse nome não é importante, mas deixa o nosso *data frame* mais elegante.\n",
        "\n",
        "Vamos começa instanciando um *data frame* com os nomes das colunas e do índice."
      ]
    },
    {
      "cell_type": "code",
      "execution_count": null,
      "id": "physical-underground",
      "metadata": {
        "id": "physical-underground"
      },
      "outputs": [],
      "source": [
        "medicine_counts = pd.DataFrame(columns=['No', 'Down', 'Steady', 'Up'])\n",
        "medicine_counts.index.name = 'Medicine'\n",
        "medicine_counts"
      ]
    },
    {
      "cell_type": "markdown",
      "id": "heavy-mobility",
      "metadata": {
        "id": "heavy-mobility"
      },
      "source": [
        "Esse é o “esqueleto” do *data frame*. Agora precisamos preenchê-lo com valores. Para isso, vamos selecionar cada coluna que representa um medicamento e efetuar a contagem dos valores.\n",
        "\n",
        "Primeiro, lembre-se (ou descubra) que, quando selecionamos uma coluna do *data frame*, o resultado é uma série do Pandas."
      ]
    },
    {
      "cell_type": "code",
      "execution_count": null,
      "id": "continuous-limitation",
      "metadata": {
        "id": "continuous-limitation"
      },
      "outputs": [],
      "source": [
        "type(data['tolazamide'])"
      ]
    },
    {
      "cell_type": "markdown",
      "id": "agricultural-acceptance",
      "metadata": {
        "id": "agricultural-acceptance"
      },
      "source": [
        "Se usarmos o método `value_counts()` nessa série, o resultado também será uma série:\n",
        "\n",
        "Veja:"
      ]
    },
    {
      "cell_type": "code",
      "execution_count": null,
      "id": "instructional-fellowship",
      "metadata": {
        "id": "instructional-fellowship"
      },
      "outputs": [],
      "source": [
        "data['tolazamide'].value_counts()"
      ]
    },
    {
      "cell_type": "markdown",
      "id": "banner-rebate",
      "metadata": {
        "id": "banner-rebate"
      },
      "source": [
        "Note que o índice dessa série contém valores dos atributos. São os valores que o `value_counts()` encontrou na coluna `data['acarbose']`. O nome da série, por sua vez, é o nome da coluna.\n",
        "\n",
        "Agora vem a mágica... &nbsp; &nbsp; :-)\n",
        "\n",
        "Se passarmos essa série como argumento do método `append()` do *data frame*, veja o que acontece:"
      ]
    },
    {
      "cell_type": "code",
      "execution_count": null,
      "id": "liable-train",
      "metadata": {
        "id": "liable-train"
      },
      "outputs": [],
      "source": [
        "medicine_counts.append(data['tolazamide'].value_counts())"
      ]
    },
    {
      "cell_type": "markdown",
      "id": "painted-basis",
      "metadata": {
        "id": "painted-basis"
      },
      "source": [
        "Uau.\n",
        "\n",
        "O Pandas \"casou\" o índice da série com o índice das colunas do *data frame* e criou uma nova linha! O nome da série foi usado como chave dessa linha. Se fizermos isso para todos os atibutos dos remédios, então teremos nossa tabela."
      ]
    },
    {
      "cell_type": "markdown",
      "id": "surface-friendship",
      "metadata": {
        "id": "surface-friendship"
      },
      "source": [
        "#### Exercício 15\n",
        "\n",
        "**TODO:** itere sobre os valores da lista `medicine_features` e acrescente a contagem de cada remédio no *data frame*. (não se preocupe se aparecerem valores `NaN`)"
      ]
    },
    {
      "cell_type": "code",
      "execution_count": null,
      "id": "russian-northern",
      "metadata": {
        "id": "russian-northern"
      },
      "outputs": [],
      "source": [
        "for feature in medicine_features:\n",
        "    medicine_counts = medicine_counts.append(data[feature].value_counts())"
      ]
    },
    {
      "cell_type": "markdown",
      "id": "simple-reunion",
      "metadata": {
        "id": "simple-reunion"
      },
      "source": [
        "O resultado deve ser um *data frame* com 23 linhas e 4 colunas. Deve haver 2.220.564 ocorrências do valor `No`, 14.387 do valor `Down`, 90.802 do valor `Steady` e 14.865 do valor `Up`."
      ]
    },
    {
      "cell_type": "code",
      "execution_count": null,
      "id": "legal-danish",
      "metadata": {
        "id": "legal-danish"
      },
      "outputs": [],
      "source": [
        "medicine_counts.shape"
      ]
    },
    {
      "cell_type": "code",
      "execution_count": null,
      "id": "dental-generic",
      "metadata": {
        "id": "dental-generic"
      },
      "outputs": [],
      "source": [
        "medicine_counts.sum()"
      ]
    },
    {
      "cell_type": "markdown",
      "id": "freelance-climb",
      "metadata": {
        "id": "freelance-climb"
      },
      "source": [
        "Só tem um porém... se você observou atentamente o primeiro `append` de exemplo que fizemos, há um valor `NaN` ali.  Isso porque o atributo `data['tolazamide']` não possui nenhuma ocorrência do valor `Down`. Então quando essa e outras linhas foram adicionadas ao *data frame*, ganhamos valores ausentes.\n",
        "\n",
        "Podemos corrigir isso substituindo os valores ausentes por zero."
      ]
    },
    {
      "cell_type": "code",
      "execution_count": null,
      "id": "general-soviet",
      "metadata": {
        "id": "general-soviet"
      },
      "outputs": [],
      "source": [
        "medicine_counts = medicine_counts.fillna(0).astype('int')\n",
        "medicine_counts"
      ]
    },
    {
      "cell_type": "markdown",
      "id": "tracked-assets",
      "metadata": {
        "id": "tracked-assets"
      },
      "source": [
        "Então agora podemos fazer algumas observações. A primeira delas é que existem duas medicações que não são utilizadas por nenhum paciente."
      ]
    },
    {
      "cell_type": "code",
      "execution_count": null,
      "id": "olympic-circulation",
      "metadata": {
        "id": "olympic-circulation"
      },
      "outputs": [],
      "source": [
        "medicine_counts[medicine_counts['No'] == len(data)]"
      ]
    },
    {
      "cell_type": "markdown",
      "id": "collected-applicant",
      "metadata": {
        "id": "collected-applicant"
      },
      "source": [
        "Isso não é bom. Como nós vimos na aula de Naive Bayes, o indutor generaliza os exemplos fazendo observações sobre como os valores dos atributos mudam para as diferentes classes. Se um atributo só tem uma categoria ou um valor, então ele não deveiria estar na base!"
      ]
    },
    {
      "cell_type": "markdown",
      "id": "positive-accessory",
      "metadata": {
        "id": "positive-accessory"
      },
      "source": [
        "#### Exercício 16\n",
        "\n",
        "**TODO**: remova essas os atributos `['citoglipton', 'examide']` do *data frame* `data`. Use `drop()`. Não se esqueça de especificar o eixo das colunas (`axis=1` ou `axis='columns'`)."
      ]
    },
    {
      "cell_type": "code",
      "execution_count": null,
      "id": "bound-timing",
      "metadata": {
        "id": "bound-timing"
      },
      "outputs": [],
      "source": []
    },
    {
      "cell_type": "markdown",
      "id": "emotional-partition",
      "metadata": {
        "id": "emotional-partition"
      },
      "source": [
        "Confirme que apenas as colunas  desejadas foram removidas:"
      ]
    },
    {
      "cell_type": "code",
      "execution_count": null,
      "id": "professional-anthropology",
      "metadata": {
        "id": "professional-anthropology"
      },
      "outputs": [],
      "source": [
        "for f in ['citoglipton', 'examide']:\n",
        "    print(f\"Atributi {f} removido: {f not in data}\")\n",
        "print(\"Os 44 atributos restantes ainda estão no data frame:\", data.shape[1] == 44)"
      ]
    },
    {
      "cell_type": "code",
      "execution_count": null,
      "id": "funny-effectiveness",
      "metadata": {
        "id": "funny-effectiveness"
      },
      "outputs": [],
      "source": [
        "data.shape[1]"
      ]
    },
    {
      "cell_type": "markdown",
      "id": "persistent-diana",
      "metadata": {
        "id": "persistent-diana"
      },
      "source": [
        "Vamos atualizar a contagem de medicamentos também:"
      ]
    },
    {
      "cell_type": "code",
      "execution_count": null,
      "id": "norman-topic",
      "metadata": {
        "id": "norman-topic"
      },
      "outputs": [],
      "source": [
        "medicine_counts.drop(['citoglipton', 'examide'], axis=0, inplace=True)"
      ]
    },
    {
      "cell_type": "markdown",
      "id": "prospective-vessel",
      "metadata": {
        "id": "prospective-vessel"
      },
      "source": [
        "Ok, mais dois atributos corretamente manipulados."
      ]
    },
    {
      "cell_type": "markdown",
      "id": "impaired-concentrate",
      "metadata": {
        "id": "impaired-concentrate"
      },
      "source": [
        "Agora tem a questão dos medicamentos que são usados por alguns pacientes, mas poucos deles. A decisão de como proceder nesse tipo de caso é delicada. Normalmente requer a opinião de um especialista. Mas como não temos nenhum especialista disponível (e o artigo não aborda isso com detalhes), então podemos empregar uma heurística simples. Vamos remover também os medicamentos que foram receitados em menos de 1% das consultas.\n",
        "\n",
        "Precisamos descobrir que medicamentos são esses. Em outras palavras, queremos saber quais são as linhas de `medicine_counts` nas quais a coluna `No` tem um  valor acima de 99% do tamanho do *data frame* original."
      ]
    },
    {
      "cell_type": "code",
      "execution_count": null,
      "id": "burning-billion",
      "metadata": {
        "id": "burning-billion"
      },
      "outputs": [],
      "source": [
        "len(data)"
      ]
    },
    {
      "cell_type": "code",
      "execution_count": null,
      "id": "educational-ensemble",
      "metadata": {
        "id": "educational-ensemble"
      },
      "outputs": [],
      "source": [
        "medicine_counts[medicine_counts['No'] >= 0.99 * len(data)]"
      ]
    },
    {
      "cell_type": "markdown",
      "id": "phantom-airfare",
      "metadata": {
        "id": "phantom-airfare"
      },
      "source": [
        "Vamos coletar os nomes desses medicamentos em uma lista:"
      ]
    },
    {
      "cell_type": "code",
      "execution_count": null,
      "id": "banned-reading",
      "metadata": {
        "id": "banned-reading"
      },
      "outputs": [],
      "source": [
        "medicine_few = list((medicine_counts[medicine_counts['No'] >= 0.99 * len(data)]).index)"
      ]
    },
    {
      "cell_type": "code",
      "execution_count": null,
      "id": "transparent-trademark",
      "metadata": {
        "id": "transparent-trademark"
      },
      "outputs": [],
      "source": [
        "medicine_few"
      ]
    },
    {
      "cell_type": "markdown",
      "id": "toxic-ministry",
      "metadata": {
        "id": "toxic-ministry"
      },
      "source": [
        "#### Exercício 17\n",
        "\n",
        "\n",
        "**TODO**: remova do *data frame* original todos os atributos listados em `medicine_few`."
      ]
    },
    {
      "cell_type": "code",
      "execution_count": null,
      "id": "architectural-employer",
      "metadata": {
        "id": "architectural-employer"
      },
      "outputs": [],
      "source": []
    },
    {
      "cell_type": "markdown",
      "id": "innocent-bicycle",
      "metadata": {
        "id": "innocent-bicycle"
      },
      "source": [
        "A célula a seguir irá verificar se alguma coluna está faltando ou sobrando."
      ]
    },
    {
      "cell_type": "code",
      "execution_count": null,
      "id": "convenient-mountain",
      "metadata": {
        "id": "convenient-mountain"
      },
      "outputs": [],
      "source": [
        "expected_columns = set(['race', 'gender', 'age', 'admission_type_id', 'discharge_disposition_id', 'admission_source_id', 'time_in_hospital', 'medical_specialty', 'num_lab_procedures', 'num_procedures', 'num_medications', 'number_outpatient', 'number_emergency', 'number_inpatient', 'diag_1', 'diag_2', 'diag_3', 'number_diagnoses', 'max_glu_serum', 'A1Cresult', 'metformin', 'repaglinide', 'glimepiride', 'glipizide', 'glyburide', 'pioglitazone', 'rosiglitazone', 'insulin', 'change', 'diabetesMed', 'readmitted'])\n",
        "found_columns = set(data.columns)\n",
        "\n",
        "missing = expected_columns.difference(found_columns)\n",
        "extra = found_columns.difference(expected_columns)\n",
        "\n",
        "print(f\"Colunas a mais: {'nenhuma' if len(extra) == 0 else extra}\")\n",
        "print(f\"Coluna faltando: {'nenhuma' if len(missing) == 0 else missing}\")"
      ]
    },
    {
      "cell_type": "markdown",
      "id": "pleasant-cholesterol",
      "metadata": {
        "id": "pleasant-cholesterol"
      },
      "source": [
        "Quais são os atributos que sobraram?"
      ]
    },
    {
      "cell_type": "code",
      "execution_count": null,
      "id": "electrical-wholesale",
      "metadata": {
        "id": "electrical-wholesale"
      },
      "outputs": [],
      "source": [
        "data.info()"
      ]
    },
    {
      "cell_type": "markdown",
      "id": "aware-matter",
      "metadata": {
        "id": "aware-matter"
      },
      "source": [
        "### Últimos passos: atributos numéricos"
      ]
    },
    {
      "cell_type": "markdown",
      "id": "about-travel",
      "metadata": {
        "id": "about-travel"
      },
      "source": [
        "Ainda não terminamos!\n",
        "\n",
        "Todo o processo que fizemos até agora foi pensando na usabilidade dos dados. Nós lidamos com colunas que são identificadores, colunas que possuem informações que não podemos usar, valores ausentes e colunas com pouca informação.\n",
        "\n",
        "Agora chegou a hora de nos preocuparmos com as necessidades do modelo.\n",
        "\n",
        "O classificador que vamos utilizar aqui é o Naive Bayes categórico. Portanto, os dados não podem ter atributos numéricos. Através do método `info`, você pode verificar que algumas colunas possuem tipos inteiros. Mas isso não quer dizer que eles sejam realmente numéricos. Alguns, como `admission_type_id`, são valores categóricos já codificados. Para saber quais atributos são realmente numéricos, você deve entender o que eles significam. Felizmente, isso já foi feito para você. Os atributos numéricos desse conjunto são os seguintes:"
      ]
    },
    {
      "cell_type": "code",
      "execution_count": null,
      "id": "smooth-spray",
      "metadata": {
        "id": "smooth-spray"
      },
      "outputs": [],
      "source": [
        "numeric_features = ['time_in_hospital', 'num_lab_procedures', 'num_procedures', 'num_medications', 'number_outpatient', 'number_emergency', 'number_inpatient', 'number_diagnoses']"
      ]
    },
    {
      "cell_type": "markdown",
      "id": "hollywood-joshua",
      "metadata": {
        "id": "hollywood-joshua"
      },
      "source": [
        "Podemos explorar esses atributos usando histogramas:"
      ]
    },
    {
      "cell_type": "code",
      "execution_count": null,
      "id": "fifth-alliance",
      "metadata": {
        "id": "fifth-alliance"
      },
      "outputs": [],
      "source": [
        "data[numeric_features].hist(figsize=(16, 10), bins=14);"
      ]
    },
    {
      "cell_type": "markdown",
      "id": "floating-warning",
      "metadata": {
        "id": "floating-warning"
      },
      "source": [
        "Se nós simplesmente tratarmos esses valores numércos como se fossem categorias, então teremos alguns atributos com quantidades muito grandes de categorias. O melhor que fazemos aqui é *quantizá-los*.\n",
        "\n",
        "Quantizar um atributo significa mapear os valores originais para um intervalo discreto de valores inteiros. O próprio conjunto já possui alguns valores quantizados. Um exemplo é o atributo `'age'`. Se você verificar os valores presentes nesse atributo, poderá confirmar que eles foram transformados em intervalos de dez em dez anos."
      ]
    },
    {
      "cell_type": "markdown",
      "id": "macro-opening",
      "metadata": {
        "id": "macro-opening"
      },
      "source": [
        "#### Exercício 18\n",
        "\n",
        "**TODO**: obtenha os valores (incluindo ou não as contagens) do atributo `'age'`."
      ]
    },
    {
      "cell_type": "code",
      "execution_count": null,
      "id": "mounted-sessions",
      "metadata": {
        "id": "mounted-sessions"
      },
      "outputs": [],
      "source": [
        "data['age'].value_counts()"
      ]
    },
    {
      "cell_type": "markdown",
      "id": "proof-alexander",
      "metadata": {
        "id": "proof-alexander"
      },
      "source": [
        "De maneira geral, é importante considerar o significado dos atributos antes de fazer a quantização. Mas, novamente, como não dispomos de muita informação do domínio médico, vamos adotar algumas práticas genéricas com base no que observamos no histograma."
      ]
    },
    {
      "cell_type": "markdown",
      "id": "compatible-constant",
      "metadata": {
        "id": "compatible-constant"
      },
      "source": [
        "Primeiro, quantize os atributos `'num_lab_procedures'` e `'num_medications'` em intervalos de 10 em 10. Não é necessário formatá-los como feito com `'age'`. Apenas troque os valores exatos por valores de dez em dez."
      ]
    },
    {
      "cell_type": "code",
      "execution_count": null,
      "id": "listed-implementation",
      "metadata": {
        "id": "listed-implementation"
      },
      "outputs": [],
      "source": [
        "f = ['num_lab_procedures', 'num_medications']\n",
        "data[f] = 10 * np.ceil(data[f] / 10)"
      ]
    },
    {
      "cell_type": "markdown",
      "id": "passive-bones",
      "metadata": {
        "id": "passive-bones"
      },
      "source": [
        "Observe que todos os valores no intervalo $[0, 10]$ foram representados como `10.0`, valores no intervalo $[11, 20]$ foram representados como `20.0` e assim por diante:"
      ]
    },
    {
      "cell_type": "code",
      "execution_count": null,
      "id": "global-functionality",
      "metadata": {
        "id": "global-functionality"
      },
      "outputs": [],
      "source": [
        "data[['num_lab_procedures', 'num_medications']]"
      ]
    },
    {
      "cell_type": "code",
      "execution_count": null,
      "id": "heard-impression",
      "metadata": {
        "id": "heard-impression"
      },
      "outputs": [],
      "source": [
        "data['num_lab_procedures'].value_counts()"
      ]
    },
    {
      "cell_type": "code",
      "execution_count": null,
      "id": "aboriginal-layer",
      "metadata": {
        "id": "aboriginal-layer"
      },
      "outputs": [],
      "source": [
        "data['num_medications'].value_counts()"
      ]
    },
    {
      "cell_type": "markdown",
      "id": "tender-lambda",
      "metadata": {
        "id": "tender-lambda"
      },
      "source": [
        "Os atributos `['number_outpatient', 'number_emergency', 'number_inpatient', 'number_diagnoses']` merecem atenção especial. Vamos olhar seus histogramas novamente."
      ]
    },
    {
      "cell_type": "code",
      "execution_count": null,
      "id": "swedish-appraisal",
      "metadata": {
        "id": "swedish-appraisal"
      },
      "outputs": [],
      "source": [
        "special_features = ['number_outpatient', 'number_emergency', 'number_inpatient', 'number_diagnoses']\n",
        "data[special_features].hist(figsize=(16, 10));"
      ]
    },
    {
      "cell_type": "markdown",
      "id": "manufactured-payday",
      "metadata": {
        "id": "manufactured-payday"
      },
      "source": [
        "A distribuição é muito desigual. Assim fica difícil enxergar os histogramas.\n",
        "\n",
        "Podemos visualizar melhor os dados se plotarmos o histograma em escala logarítmica. Para isso, precisamos manipular um pouquinho as figuras produzidas pelo PyPlot. O código está abaixo com comentários. Você pode estudar o código e quebrá-lo em partes para explorar o que ele faz e o que é retornado em cada comando."
      ]
    },
    {
      "cell_type": "code",
      "execution_count": null,
      "id": "crude-evolution",
      "metadata": {
        "id": "crude-evolution"
      },
      "outputs": [],
      "source": [
        "# Importa o PyPlot\n",
        "import matplotlib.pyplot as plt"
      ]
    },
    {
      "cell_type": "code",
      "execution_count": null,
      "id": "breathing-atlantic",
      "metadata": {
        "id": "breathing-atlantic"
      },
      "outputs": [],
      "source": [
        "# Cria um \"subplot\" com duas linhas e duas colunas. No exemplo anterior\n",
        "# o Pandas fez isso automaticamente, mas agora queremos ter acesso aos\n",
        "# objetos que representam os gráficos para podermos alterar o eixo y.\n",
        "#\n",
        "# O plt.subplots() retorna dois valores. O primeiro representa a figura\n",
        "# e o segundo representa os eixos que queremos manipular\n",
        "_, ax = plt.subplots(2, 2, figsize=(16, 10));\n",
        "\n",
        "# Usamos o método hist() do própio data frame, especificando onde\n",
        "# estão os eixos nos quais ele deve desenhar os histogramas\n",
        "data[special_features].hist(ax=ax, figsize=(16, 10));\n",
        "\n",
        "# Agora vamos em cada eixo e definimos a escala y como logarítmica\n",
        "for plot_row in range(2):\n",
        "    for plot_col in range(2):\n",
        "        ax[plot_row][plot_col].set_yscale('log');"
      ]
    },
    {
      "cell_type": "markdown",
      "id": "expanded-washer",
      "metadata": {
        "id": "expanded-washer"
      },
      "source": [
        "Aqui a decisão será um pouco mais arbitrária. Vamos tentar fazer julgamento desses atributos:\n",
        "\n",
        "- `number_outpatient`: quantas vezes o paciente foi ao hospital no ano anterior;\n",
        "- `number_inpatient`: quantas internações (pelo menos um dia) o paciente teve no ano anterior;\n",
        "- `number_emergency`: quantas vezes o paciente precisou de atendimento de urgência;\n",
        "- `number_diagnosis`: quantos diagnósticos o paciente tem registrados no sistema.\n",
        "\n"
      ]
    },
    {
      "cell_type": "markdown",
      "id": "departmental-ethics",
      "metadata": {
        "id": "departmental-ethics"
      },
      "source": [
        "Para os três primeiros, vamos converter na seguinte escala:\n",
        "\n",
        "| Intervalo original ||  Valor transformado || Significado |\n",
        "| - | - | :-: | - | :- |\n",
        "| $[0]$ || `'0'` || Nenhuma ocorrência |\n",
        "| $[1, 11]$ || `'<1'` || Menos de uma por mês |\n",
        "| $[12, 23]$ || `'1-2'` || Ao menos uma por mês, menos que duas|\n",
        "| $[24, \\infty)$ || `'2+'` || Duas ou mais ocorrências or mês |"
      ]
    },
    {
      "cell_type": "markdown",
      "id": "opposed-process",
      "metadata": {
        "id": "opposed-process"
      },
      "source": [
        "Isso pode ser feito com `pd.cut()`. Ela recebe como entrada uma série e uma lista de intervalos e retorna uma série com os valores convertidos para esses intervalos.\n",
        "\n",
        "Para ilustrar, veja a seguinte série de exemplo, que possui alguns valores compatíveis com os intervalos dos atributos que estamos querendo quantizar."
      ]
    },
    {
      "cell_type": "code",
      "execution_count": null,
      "id": "stopped-revelation",
      "metadata": {
        "id": "stopped-revelation"
      },
      "outputs": [],
      "source": [
        "serie = pd.Series(range(30))\n",
        "serie"
      ]
    },
    {
      "cell_type": "markdown",
      "id": "liable-indianapolis",
      "metadata": {
        "id": "liable-indianapolis"
      },
      "source": [
        "Vamos empregar `pd.cut()` nessa série com os pontos de corte acima especificados."
      ]
    },
    {
      "cell_type": "code",
      "execution_count": null,
      "id": "polyphonic-thompson",
      "metadata": {
        "id": "polyphonic-thompson"
      },
      "outputs": [],
      "source": [
        "pd.cut(serie, bins=[0, 1, 12, 24, serie.max()+1], right=False)"
      ]
    },
    {
      "cell_type": "markdown",
      "id": "acknowledged-gates",
      "metadata": {
        "id": "acknowledged-gates"
      },
      "source": [
        "O parâmetro `right=False` é usado para indicar que não queremos incluir o valor à direita, de modo que cada intervalo é fechado à esquerda e aberto à direita (o padrão é `right=True`).\n",
        "\n",
        "Desse modo, o primeiro intrvalo definido pelo Pandas, `[0, 1)`, corresponde a “nenhuma ocorrência”. O segundo, `[1, 12)`, corresponde a “menos de uma ocorrência por mês” e assim por diante. O último intervalo precisa ser especificado com base no maior valor presente na série.\n",
        "\n",
        "Com esse método, podemos quantizar cada um dos atributos anteriormente mencionados. Porém, em vez de deixar o Pandas especificar rótulos com base nos intervalos,  vamos especificar os rótulos como na tabela acima."
      ]
    },
    {
      "cell_type": "code",
      "execution_count": null,
      "id": "thrown-gamma",
      "metadata": {
        "id": "thrown-gamma"
      },
      "outputs": [],
      "source": [
        "quantize_features =  ['number_outpatient', 'number_emergency', 'number_inpatient']\n",
        "for f in quantize_features:\n",
        "    lim = max(data[f].max() + 1, 25)\n",
        "    data[f] = pd.cut(data[f], bins=[0, 1, 12, 24, lim], labels=['0', '<1', '1-2', '2+'], right=False)"
      ]
    },
    {
      "cell_type": "markdown",
      "id": "intermediate-snapshot",
      "metadata": {
        "id": "intermediate-snapshot"
      },
      "source": [
        "Distribuição final dos valores:"
      ]
    },
    {
      "cell_type": "code",
      "execution_count": null,
      "id": "straight-valuable",
      "metadata": {
        "id": "straight-valuable"
      },
      "outputs": [],
      "source": [
        "for f in quantize_features:\n",
        "    print(data[f].value_counts())\n",
        "    print()"
      ]
    },
    {
      "cell_type": "markdown",
      "id": "another-terror",
      "metadata": {
        "id": "another-terror"
      },
      "source": [
        "Existe uma última coisa que não fizemos neste *notebook*, que é filtrar instâncias com base em algum atributo. Às vezes é necessário descartar *outliers* ou outros valores fora do padrão.\n",
        "\n",
        "Novamente, isso tipicamente exige conhecimento do domínio e uma análise estatística dos atributos. Como um exercício, vamos supor, com base no histograma, que todas as instâncias com valores acima de 10 no atributo `'number_diagnoses'` são *outliers*  e vamos descartá-las."
      ]
    },
    {
      "cell_type": "markdown",
      "id": "contrary-wayne",
      "metadata": {
        "id": "contrary-wayne"
      },
      "source": [
        "#### Exercício 19\n",
        "\n",
        "**TODO:** remova do *data frame* todas as instâncias que possuem valor maior que 10 para o atributo `'number_diagnoses'`."
      ]
    },
    {
      "cell_type": "code",
      "execution_count": null,
      "id": "tribal-giant",
      "metadata": {
        "id": "tribal-giant"
      },
      "outputs": [],
      "source": []
    },
    {
      "cell_type": "markdown",
      "id": "tamil-beach",
      "metadata": {
        "id": "tamil-beach"
      },
      "source": [
        "Se você verificou antes de fazer a remoção, descobriu que existem apenas 98 instâncias com esses valores. O *data frame* resultante deve ter exatamente 101.668 instâncias."
      ]
    },
    {
      "cell_type": "code",
      "execution_count": null,
      "id": "spiritual-basement",
      "metadata": {
        "id": "spiritual-basement"
      },
      "outputs": [],
      "source": [
        "len(data)"
      ]
    },
    {
      "cell_type": "markdown",
      "id": "sealed-receipt",
      "metadata": {
        "id": "sealed-receipt"
      },
      "source": [
        "## Separação e codificação dos dados"
      ]
    },
    {
      "cell_type": "markdown",
      "id": "split-brush",
      "metadata": {
        "id": "split-brush"
      },
      "source": [
        "Finalmente, chegamos ao ponto de treinar e testar o modelo. Os passos são os mesmos das aulas passadas:\n",
        "\n",
        "1. Separar o *data frame* em características e rótulos;\n",
        "1. Utilizar `OrdinalEncoder` para transformar todos os valores em categorias numéricas;\n",
        "1. Separar exemplos em treino e teste;\n",
        "1. Treinar e testar o modelo;\n",
        "1. Calcular a acurácia ou outra métrica de avaliação."
      ]
    },
    {
      "cell_type": "markdown",
      "id": "extra-dispatch",
      "metadata": {
        "id": "extra-dispatch"
      },
      "source": [
        "#### Exercício 20\n",
        "\n",
        "**TODO**: separe os dados em matriz de características (`X`) e vetor de atributos (`y`)."
      ]
    },
    {
      "cell_type": "code",
      "execution_count": null,
      "id": "integral-charlotte",
      "metadata": {
        "id": "integral-charlotte"
      },
      "outputs": [],
      "source": []
    },
    {
      "cell_type": "markdown",
      "id": "three-microphone",
      "metadata": {
        "id": "three-microphone"
      },
      "source": [
        "A matriz `X` deve ter 101.668 linhas e 45 colunas."
      ]
    },
    {
      "cell_type": "code",
      "execution_count": null,
      "id": "internal-martin",
      "metadata": {
        "id": "internal-martin"
      },
      "outputs": [],
      "source": [
        "X.shape"
      ]
    },
    {
      "cell_type": "markdown",
      "id": "cardiovascular-supplier",
      "metadata": {
        "id": "cardiovascular-supplier"
      },
      "source": [
        "O vetor `y` deve conter 101.668 elementos."
      ]
    },
    {
      "cell_type": "code",
      "execution_count": null,
      "id": "turned-compiler",
      "metadata": {
        "id": "turned-compiler"
      },
      "outputs": [],
      "source": [
        "y.shape"
      ]
    },
    {
      "cell_type": "markdown",
      "id": "incorrect-music",
      "metadata": {
        "id": "incorrect-music"
      },
      "source": [
        "#### Exercício 21\n",
        "\n",
        "**TODO**: use `OrdinalEncoder` com a matriz `X` para obter as características codificadas como inteiros."
      ]
    },
    {
      "cell_type": "code",
      "execution_count": null,
      "id": "wanted-infection",
      "metadata": {
        "id": "wanted-infection"
      },
      "outputs": [],
      "source": [
        "from sklearn.preprocessing import OrdinalEncoder"
      ]
    },
    {
      "cell_type": "code",
      "execution_count": null,
      "id": "facial-necessity",
      "metadata": {
        "id": "facial-necessity"
      },
      "outputs": [],
      "source": []
    },
    {
      "cell_type": "markdown",
      "id": "revised-offset",
      "metadata": {
        "id": "revised-offset"
      },
      "source": [
        "#### Exercício 22\n",
        "\n",
        "**TODO**: use `LabelEncoder` com o vetor `y` para obter os rótulos codificados como inteiros."
      ]
    },
    {
      "cell_type": "code",
      "execution_count": null,
      "id": "derived-thumb",
      "metadata": {
        "id": "derived-thumb"
      },
      "outputs": [],
      "source": [
        "from sklearn.preprocessing import LabelEncoder"
      ]
    },
    {
      "cell_type": "code",
      "execution_count": null,
      "id": "higher-setting",
      "metadata": {
        "id": "higher-setting"
      },
      "outputs": [],
      "source": []
    },
    {
      "cell_type": "markdown",
      "id": "muslim-comfort",
      "metadata": {
        "id": "muslim-comfort"
      },
      "source": [
        "#### Exercício 23\n",
        "\n",
        "**TODO**: separe as amostras em conjunto de treinamento e de teste. Não se esqueça de estratificar. Especifique a semente `random_state=3`."
      ]
    },
    {
      "cell_type": "code",
      "execution_count": null,
      "id": "concrete-basement",
      "metadata": {
        "id": "concrete-basement"
      },
      "outputs": [],
      "source": [
        "from sklearn.model_selection import train_test_split"
      ]
    },
    {
      "cell_type": "code",
      "execution_count": null,
      "id": "worse-charm",
      "metadata": {
        "id": "worse-charm"
      },
      "outputs": [],
      "source": [
        "(Xtrain, Xtest, ytrain, ytest) = train_test_split( --> COMPLETE <--, random_state=3)"
      ]
    },
    {
      "cell_type": "markdown",
      "id": "loose-dublin",
      "metadata": {
        "id": "loose-dublin"
      },
      "source": [
        "#### Exercício 24\n",
        "\n",
        "**TODO**: treine e teste o modelo."
      ]
    },
    {
      "cell_type": "code",
      "execution_count": null,
      "id": "fatal-transition",
      "metadata": {
        "id": "fatal-transition"
      },
      "outputs": [],
      "source": [
        "from sklearn.naive_bayes import CategoricalNB"
      ]
    },
    {
      "cell_type": "code",
      "execution_count": null,
      "id": "extensive-bonus",
      "metadata": {
        "id": "extensive-bonus"
      },
      "outputs": [],
      "source": []
    },
    {
      "cell_type": "markdown",
      "id": "suspected-reporter",
      "metadata": {
        "id": "suspected-reporter"
      },
      "source": [
        "#### Exercício 25\n",
        "\n",
        "**TODO**: calcule a acurácia"
      ]
    },
    {
      "cell_type": "code",
      "execution_count": null,
      "id": "serial-system",
      "metadata": {
        "id": "serial-system"
      },
      "outputs": [],
      "source": [
        "from sklearn.metrics import accuracy_score"
      ]
    },
    {
      "cell_type": "code",
      "execution_count": null,
      "id": "charming-fetish",
      "metadata": {
        "id": "charming-fetish"
      },
      "outputs": [],
      "source": []
    },
    {
      "cell_type": "markdown",
      "id": "animated-brunswick",
      "metadata": {
        "id": "animated-brunswick"
      },
      "source": [
        "A acurácia encontrada será próximo de 56%.\n",
        "\n",
        "É um valor de acurácia bem baixo. Como comentamos, o conjunto ainda está longe de ser ideal. Por exemplo, tem muita informação dos mesmos pacientes ocorrendo diversas vezes ao longo das instâncias. Isso introduz um certo viés ao modelo. Além disso, existem atributos que seriam melhor representados como valores inteiros do que categóricos e atributos que deveriam ser mesclados. Nós também não testamos diferentes formas de quantizar os atributos numéricos.\n",
        "\n",
        "Nesta aula você aprendeu diversas técnicas para pré-processar um conjunto de dados. Vamos focar, no restante do curso, em como usar essas técnicas de maneira apropriada, em conjunto com todas as outras técncias que vamos estudar, para obter modelos precisos!\n",
        "\n",
        "Para finalizar, envie o seu *notebook* completo pelo ColabWeb. Não se esqueça de baixar do Google Drive caso tenha completado a atividade no Colaboratory."
      ]
    }
  ],
  "metadata": {
    "kernelspec": {
      "display_name": "Python 3 (ipykernel)",
      "language": "python",
      "name": "python3"
    },
    "language_info": {
      "codemirror_mode": {
        "name": "ipython",
        "version": 3
      },
      "file_extension": ".py",
      "mimetype": "text/x-python",
      "name": "python",
      "nbconvert_exporter": "python",
      "pygments_lexer": "ipython3",
      "version": "3.11.2"
    },
    "colab": {
      "provenance": [],
      "include_colab_link": true
    }
  },
  "nbformat": 4,
  "nbformat_minor": 5
}