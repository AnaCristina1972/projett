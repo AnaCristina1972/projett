{
  "cells": [
    {
      "cell_type": "markdown",
      "metadata": {
        "id": "view-in-github",
        "colab_type": "text"
      },
      "source": [
        "<a href=\"https://colab.research.google.com/github/AnaCristina1972/projett/blob/master/Aula2_RedesNeurais_keras_aula_Classificac%CC%A7a%CC%83o1.ipynb\" target=\"_parent\"><img src=\"https://colab.research.google.com/assets/colab-badge.svg\" alt=\"Open In Colab\"/></a>"
      ]
    },
    {
      "cell_type": "markdown",
      "metadata": {
        "id": "QMZiAkwsUacI"
      },
      "source": [
        "# Redes Neurais com Keras"
      ]
    },
    {
      "cell_type": "code",
      "execution_count": 34,
      "metadata": {
        "id": "MgGu7b2YUceW"
      },
      "outputs": [],
      "source": [
        "import matplotlib.pyplot as plt\n",
        "%matplotlib inline\n",
        "import pandas as pd\n",
        "import numpy as np\n",
        "import tensorflow as tf\n",
        "from tensorflow import keras\n"
      ]
    },
    {
      "cell_type": "code",
      "execution_count": 35,
      "metadata": {
        "id": "1Nb2JY-9VJjj"
      },
      "outputs": [],
      "source": [
        "def plotimages(imgs, n_row = 1, n_col = 5, cmap='gray', titles = None):\n",
        "    _, axs = plt.subplots(n_row, n_col, figsize=(12, 6))\n",
        "    axs = axs.flatten()\n",
        "    for i, (img, ax) in enumerate(zip(imgs, axs)):\n",
        "        if titles is not None:\n",
        "            ax.set_title(titles[i])\n",
        "        ax.imshow(img, cmap=cmap)\n",
        "        ax.axis('off')\n",
        "    plt.show()"
      ]
    },
    {
      "cell_type": "markdown",
      "metadata": {
        "id": "cftgLWNrVV8M"
      },
      "source": [
        "## Dataset\n",
        "\n",
        "Como base de dados, vamos usar a coleção fashion_mnist, fornecida com o keras:"
      ]
    },
    {
      "cell_type": "code",
      "execution_count": 36,
      "metadata": {
        "id": "5rjP2RUEVPox",
        "colab": {
          "base_uri": "https://localhost:8080/"
        },
        "outputId": "be395bbd-d4bc-42c6-d896-3de3ba0acb5c"
      },
      "outputs": [
        {
          "output_type": "execute_result",
          "data": {
            "text/plain": [
              "((60000, 28, 28), dtype('uint8'))"
            ]
          },
          "metadata": {},
          "execution_count": 36
        }
      ],
      "source": [
        "fashion_mnist = keras.datasets.fashion_mnist\n",
        "(X_train_full, y_train_full), (X_test, y_test) = fashion_mnist.load_data()\n",
        "\n",
        "X_train_full.shape, X_train_full.dtype"
      ]
    },
    {
      "cell_type": "code",
      "source": [
        "plt.imshow(X_train_full[0], cmap=\"binary\")\n",
        "plt.axis('off')\n",
        "plt.show()"
      ],
      "metadata": {
        "id": "ED9RWUkxGNfh",
        "colab": {
          "base_uri": "https://localhost:8080/",
          "height": 406
        },
        "outputId": "1b6c5943-063d-4316-be2e-b180adff9362"
      },
      "execution_count": 37,
      "outputs": [
        {
          "output_type": "display_data",
          "data": {
            "text/plain": [
              "<Figure size 640x480 with 1 Axes>"
            ],
            "image/png": "[encoded data removed]"
          },
          "metadata": {}
        }
      ]
    },
    {
      "cell_type": "code",
      "source": [
        "X_train_full[0]"
      ],
      "metadata": {
        "id": "skRGLzKrI-e0",
        "colab": {
          "base_uri": "https://localhost:8080/"
        },
        "outputId": "bcfe5b7b-58e1-46d7-ac54-9ce4f259b17a"
      },
      "execution_count": 5,
      "outputs": [
        {
          "output_type": "execute_result",
          "data": {
            "text/plain": [
              "array([[  0,   0,   0,   0,   0,   0,   0,   0,   0,   0,   0,   0,   0,\n",
              "          0,   0,   0,   0,   0,   0,   0,   0,   0,   0,   0,   0,   0,\n",
              "          0,   0],\n",
              "       [  0,   0,   0,   0,   0,   0,   0,   0,   0,   0,   0,   0,   0,\n",
              "          0,   0,   0,   0,   0,   0,   0,   0,   0,   0,   0,   0,   0,\n",
              "          0,   0],\n",
              "       [  0,   0,   0,   0,   0,   0,   0,   0,   0,   0,   0,   0,   0,\n",
              "          0,   0,   0,   0,   0,   0,   0,   0,   0,   0,   0,   0,   0,\n",
              "          0,   0],\n",
              "       [  0,   0,   0,   0,   0,   0,   0,   0,   0,   0,   0,   0,   1,\n",
              "          0,   0,  13,  73,   0,   0,   1,   4,   0,   0,   0,   0,   1,\n",
              "          1,   0],\n",
              "       [  0,   0,   0,   0,   0,   0,   0,   0,   0,   0,   0,   0,   3,\n",
              "          0,  36, 136, 127,  62,  54,   0,   0,   0,   1,   3,   4,   0,\n",
              "          0,   3],\n",
              "       [  0,   0,   0,   0,   0,   0,   0,   0,   0,   0,   0,   0,   6,\n",
              "          0, 102, 204, 176, 134, 144, 123,  23,   0,   0,   0,   0,  12,\n",
              "         10,   0],\n",
              "       [  0,   0,   0,   0,   0,   0,   0,   0,   0,   0,   0,   0,   0,\n",
              "          0, 155, 236, 207, 178, 107, 156, 161, 109,  64,  23,  77, 130,\n",
              "         72,  15],\n",
              "       [  0,   0,   0,   0,   0,   0,   0,   0,   0,   0,   0,   1,   0,\n",
              "         69, 207, 223, 218, 216, 216, 163, 127, 121, 122, 146, 141,  88,\n",
              "        172,  66],\n",
              "       [  0,   0,   0,   0,   0,   0,   0,   0,   0,   1,   1,   1,   0,\n",
              "        200, 232, 232, 233, 229, 223, 223, 215, 213, 164, 127, 123, 196,\n",
              "        229,   0],\n",
              "       [  0,   0,   0,   0,   0,   0,   0,   0,   0,   0,   0,   0,   0,\n",
              "        183, 225, 216, 223, 228, 235, 227, 224, 222, 224, 221, 223, 245,\n",
              "        173,   0],\n",
              "       [  0,   0,   0,   0,   0,   0,   0,   0,   0,   0,   0,   0,   0,\n",
              "        193, 228, 218, 213, 198, 180, 212, 210, 211, 213, 223, 220, 243,\n",
              "        202,   0],\n",
              "       [  0,   0,   0,   0,   0,   0,   0,   0,   0,   1,   3,   0,  12,\n",
              "        219, 220, 212, 218, 192, 169, 227, 208, 218, 224, 212, 226, 197,\n",
              "        209,  52],\n",
              "       [  0,   0,   0,   0,   0,   0,   0,   0,   0,   0,   6,   0,  99,\n",
              "        244, 222, 220, 218, 203, 198, 221, 215, 213, 222, 220, 245, 119,\n",
              "        167,  56],\n",
              "       [  0,   0,   0,   0,   0,   0,   0,   0,   0,   4,   0,   0,  55,\n",
              "        236, 228, 230, 228, 240, 232, 213, 218, 223, 234, 217, 217, 209,\n",
              "         92,   0],\n",
              "       [  0,   0,   1,   4,   6,   7,   2,   0,   0,   0,   0,   0, 237,\n",
              "        226, 217, 223, 222, 219, 222, 221, 216, 223, 229, 215, 218, 255,\n",
              "         77,   0],\n",
              "       [  0,   3,   0,   0,   0,   0,   0,   0,   0,  62, 145, 204, 228,\n",
              "        207, 213, 221, 218, 208, 211, 218, 224, 223, 219, 215, 224, 244,\n",
              "        159,   0],\n",
              "       [  0,   0,   0,   0,  18,  44,  82, 107, 189, 228, 220, 222, 217,\n",
              "        226, 200, 205, 211, 230, 224, 234, 176, 188, 250, 248, 233, 238,\n",
              "        215,   0],\n",
              "       [  0,  57, 187, 208, 224, 221, 224, 208, 204, 214, 208, 209, 200,\n",
              "        159, 245, 193, 206, 223, 255, 255, 221, 234, 221, 211, 220, 232,\n",
              "        246,   0],\n",
              "       [  3, 202, 228, 224, 221, 211, 211, 214, 205, 205, 205, 220, 240,\n",
              "         80, 150, 255, 229, 221, 188, 154, 191, 210, 204, 209, 222, 228,\n",
              "        225,   0],\n",
              "       [ 98, 233, 198, 210, 222, 229, 229, 234, 249, 220, 194, 215, 217,\n",
              "        241,  65,  73, 106, 117, 168, 219, 221, 215, 217, 223, 223, 224,\n",
              "        229,  29],\n",
              "       [ 75, 204, 212, 204, 193, 205, 211, 225, 216, 185, 197, 206, 198,\n",
              "        213, 240, 195, 227, 245, 239, 223, 218, 212, 209, 222, 220, 221,\n",
              "        230,  67],\n",
              "       [ 48, 203, 183, 194, 213, 197, 185, 190, 194, 192, 202, 214, 219,\n",
              "        221, 220, 236, 225, 216, 199, 206, 186, 181, 177, 172, 181, 205,\n",
              "        206, 115],\n",
              "       [  0, 122, 219, 193, 179, 171, 183, 196, 204, 210, 213, 207, 211,\n",
              "        210, 200, 196, 194, 191, 195, 191, 198, 192, 176, 156, 167, 177,\n",
              "        210,  92],\n",
              "       [  0,   0,  74, 189, 212, 191, 175, 172, 175, 181, 185, 188, 189,\n",
              "        188, 193, 198, 204, 209, 210, 210, 211, 188, 188, 194, 192, 216,\n",
              "        170,   0],\n",
              "       [  2,   0,   0,   0,  66, 200, 222, 237, 239, 242, 246, 243, 244,\n",
              "        221, 220, 193, 191, 179, 182, 182, 181, 176, 166, 168,  99,  58,\n",
              "          0,   0],\n",
              "       [  0,   0,   0,   0,   0,   0,   0,  40,  61,  44,  72,  41,  35,\n",
              "          0,   0,   0,   0,   0,   0,   0,   0,   0,   0,   0,   0,   0,\n",
              "          0,   0],\n",
              "       [  0,   0,   0,   0,   0,   0,   0,   0,   0,   0,   0,   0,   0,\n",
              "          0,   0,   0,   0,   0,   0,   0,   0,   0,   0,   0,   0,   0,\n",
              "          0,   0],\n",
              "       [  0,   0,   0,   0,   0,   0,   0,   0,   0,   0,   0,   0,   0,\n",
              "          0,   0,   0,   0,   0,   0,   0,   0,   0,   0,   0,   0,   0,\n",
              "          0,   0]], dtype=uint8)"
            ]
          },
          "metadata": {},
          "execution_count": 5
        }
      ]
    },
    {
      "cell_type": "markdown",
      "metadata": {
        "id": "_YRsfp0g7WfQ"
      },
      "source": [
        "Este é um problema de classificação. Os rótulos originais são de 0 a 9:"
      ]
    },
    {
      "cell_type": "code",
      "source": [
        "y_train_full"
      ],
      "metadata": {
        "id": "ObUFTFmHG97f",
        "colab": {
          "base_uri": "https://localhost:8080/"
        },
        "outputId": "5595c5e1-db4d-4014-c92e-927384209191"
      },
      "execution_count": 6,
      "outputs": [
        {
          "output_type": "execute_result",
          "data": {
            "text/plain": [
              "array([9, 0, 0, ..., 3, 0, 5], dtype=uint8)"
            ]
          },
          "metadata": {},
          "execution_count": 6
        }
      ]
    },
    {
      "cell_type": "markdown",
      "source": [
        "Os nomes correspondentes das classes em termos de peças de vestuário:"
      ],
      "metadata": {
        "id": "Rk-M--WNGws-"
      }
    },
    {
      "cell_type": "code",
      "execution_count": 38,
      "metadata": {
        "id": "vs6aHBgC7WfR"
      },
      "outputs": [],
      "source": [
        "class_names = [\"Camisetas/tops\", \"Calças\", \"Pulôver\", \"Vestido\", \"Casaco\",\n",
        "               \"Sandália\", \"Camisa\", \"Tênis\", \"Bolsa\", \"Meia bota\"]"
      ]
    },
    {
      "cell_type": "markdown",
      "source": [
        "Portanto, a primeira imagem das base de treino é Meia bota"
      ],
      "metadata": {
        "id": "mBlqe0Z-H6Qa"
      }
    },
    {
      "cell_type": "code",
      "source": [
        "class_names[y_train_full[0]]"
      ],
      "metadata": {
        "id": "jJDjBj_0H_ZQ",
        "colab": {
          "base_uri": "https://localhost:8080/",
          "height": 35
        },
        "outputId": "8a26bc9f-db6f-4540-edf5-6f58ef37ca0c"
      },
      "execution_count": 39,
      "outputs": [
        {
          "output_type": "execute_result",
          "data": {
            "text/plain": [
              "'Meia bota'"
            ],
            "application/vnd.google.colaboratory.intrinsic+json": {
              "type": "string"
            }
          },
          "metadata": {},
          "execution_count": 39
        }
      ]
    },
    {
      "cell_type": "markdown",
      "source": [
        "Vamos dividir a base de treinamento para criar a base de validação."
      ],
      "metadata": {
        "id": "D98G257aIZ_P"
      }
    },
    {
      "cell_type": "code",
      "execution_count": 40,
      "metadata": {
        "id": "sW4gJmEz7WfS",
        "colab": {
          "base_uri": "https://localhost:8080/",
          "height": 471
        },
        "outputId": "0d4e9904-6ca5-4010-9988-87ecd74a86ba"
      },
      "outputs": [
        {
          "output_type": "display_data",
          "data": {
            "text/plain": [
              "<Figure size 1200x600 with 10 Axes>"
            ],
            "image/png": "[encoded data removed]"
          },
          "metadata": {}
        }
      ],
      "source": [
        "sample = [X_train_full[y_train_full==c][np.random.randint(0,100)] for c in range(len(class_names))]\n",
        "plotimages(sample, n_row=2, titles = class_names)"
      ]
    },
    {
      "cell_type": "markdown",
      "source": [
        "Para trabalhar com redes neurais presisamos de 3 bases, treino, teste e validação"
      ],
      "metadata": {
        "id": "yRr9Mx1iWref"
      }
    },
    {
      "cell_type": "code",
      "execution_count": 41,
      "metadata": {
        "id": "d4qCwY-6Vdcz"
      },
      "outputs": [],
      "source": [
        "X_valid = X_train_full[:5000]\n",
        "X_train = X_train_full[5000:]\n",
        "\n",
        "X_train = (X_train - X_train.mean()) / X_train.std() # Normalização dos dados . Isso é o desvio padrão X_train.std()\n",
        "X_valid = (X_valid - X_valid.mean()) / X_valid.std()\n",
        "\n",
        "y_valid, y_train = y_train_full[:5000], y_train_full[5000:]"
      ]
    },
    {
      "cell_type": "code",
      "source": [
        "X_train[0]"
      ],
      "metadata": {
        "id": "BC0_kItIKvRW",
        "colab": {
          "base_uri": "https://localhost:8080/"
        },
        "outputId": "f1431c46-9df9-4be0-e03d-1b990dfd2a66"
      },
      "execution_count": 11,
      "outputs": [
        {
          "output_type": "execute_result",
          "data": {
            "text/plain": [
              "array([[-0.81051365, -0.81051365, -0.81051365, -0.81051365, -0.81051365,\n",
              "        -0.81051365, -0.81051365, -0.81051365, -0.81051365, -0.81051365,\n",
              "        -0.81051365, -0.81051365, -0.81051365, -0.81051365, -0.81051365,\n",
              "        -0.81051365, -0.81051365, -0.81051365, -0.81051365, -0.79940127,\n",
              "        -0.81051365, -0.81051365, -0.81051365, -0.81051365, -0.81051365,\n",
              "        -0.81051365, -0.81051365, -0.81051365],\n",
              "       [-0.81051365, -0.81051365, -0.81051365, -0.81051365, -0.81051365,\n",
              "        -0.81051365, -0.81051365, -0.81051365, -0.81051365, -0.81051365,\n",
              "        -0.81051365, -0.32156893,  0.60075862,  1.21193953,  1.24527667,\n",
              "         0.97857955,  0.52297196, -0.19933275, -0.81051365, -0.81051365,\n",
              "        -0.81051365, -0.81051365, -0.81051365, -0.81051365, -0.81051365,\n",
              "        -0.81051365, -0.81051365, -0.81051365],\n",
              "       [-0.81051365, -0.81051365, -0.81051365, -0.81051365, -0.81051365,\n",
              "        -0.81051365, -0.81051365, -0.81051365, -0.81051365, -0.34379369,\n",
              "         1.38973761,  1.97869376,  2.02314328,  1.97869376,  1.956469  ,\n",
              "         1.93424424,  2.02314328,  1.98980614,  1.56753569,  0.30072436,\n",
              "        -0.81051365, -0.81051365, -0.81051365, -0.81051365, -0.81051365,\n",
              "        -0.81051365, -0.81051365, -0.81051365],\n",
              "       [-0.81051365, -0.81051365, -0.81051365, -0.81051365, -0.81051365,\n",
              "        -0.81051365, -0.78828889, -0.81051365, -0.81051365,  1.77867092,\n",
              "         1.98980614,  1.82312044,  1.8453452 ,  1.7897833 ,  1.82312044,\n",
              "         1.80089568,  1.82312044,  1.82312044,  2.0120309 ,  1.71199664,\n",
              "        -0.81051365, -0.81051365, -0.81051365, -0.81051365, -0.79940127,\n",
              "        -0.81051365, -0.81051365, -0.81051365],\n",
              "       [-0.81051365, -0.81051365, -0.81051365, -0.81051365, -0.81051365,\n",
              "        -0.78828889, -0.81051365, -0.81051365, -0.63271557,  1.52308617,\n",
              "         1.68977187,  1.57864807,  1.13415287,  1.60087283,  1.58976045,\n",
              "         1.33417571,  1.36751285,  1.70088425,  1.64532235,  1.51197379,\n",
              "        -0.25489465, -0.81051365, -0.81051365, -0.78828889, -0.81051365,\n",
              "        -0.81051365, -0.81051365, -0.81051365],\n",
              "       [-0.81051365, -0.81051365, -0.81051365, -0.81051365, -0.78828889,\n",
              "        -0.81051365, -0.81051365,  1.40084999,  1.7342214 ,  1.76755854,\n",
              "         1.74533378,  1.91201948,  1.45641189,  1.62309759,  2.00091852,\n",
              "         1.91201948,  1.48974903,  1.34528809,  1.66754711,  1.75644616,\n",
              "         1.81200806,  1.80089568, -0.81051365, -0.81051365, -0.77717651,\n",
              "        -0.81051365, -0.81051365, -0.81051365],\n",
              "       [-0.81051365, -0.81051365, -0.81051365, -0.81051365, -0.79940127,\n",
              "        -0.81051365,  0.71188242,  1.80089568,  1.45641189,  1.51197379,\n",
              "         1.42307475,  1.51197379,  1.7897833 ,  1.30083857,  1.7897833 ,\n",
              "         1.61198521,  1.57864807,  1.83423282,  1.8453452 ,  1.45641189,\n",
              "         1.28972619,  1.67865949,  0.90079289, -0.81051365, -0.81051365,\n",
              "        -0.81051365, -0.81051365, -0.81051365],\n",
              "       [-0.81051365, -0.81051365, -0.81051365, -0.81051365, -0.81051365,\n",
              "        -0.81051365,  1.34528809,  1.42307475,  1.41196237,  1.51197379,\n",
              "         1.43418713,  1.33417571,  1.46752427,  1.34528809,  1.22305191,\n",
              "         1.61198521,  1.75644616,  1.37862523,  1.10081573,  1.20082715,\n",
              "         1.33417571,  1.46752427,  1.40084999, -0.81051365, -0.81051365,\n",
              "        -0.81051365, -0.81051365, -0.81051365],\n",
              "       [-0.81051365, -0.81051365, -0.81051365, -0.81051365, -0.81051365,\n",
              "        -0.77717651,  1.54531093,  1.44529951,  1.27861381,  1.28972619,\n",
              "         1.36751285,  1.38973761,  1.38973761,  1.42307475,  1.36751285,\n",
              "         1.60087283,  1.17860239,  1.04525383,  1.22305191,  1.60087283,\n",
              "         1.37862523,  1.43418713,  1.62309759, -0.47714225, -0.81051365,\n",
              "        -0.81051365, -0.81051365, -0.81051365],\n",
              "       [-0.81051365, -0.81051365, -0.81051365, -0.81051365, -0.81051365,\n",
              "        -0.43269273,  1.68977187,  1.41196237,  1.34528809,  1.30083857,\n",
              "         1.27861381,  1.32306333,  1.36751285,  1.32306333,  1.07859097,\n",
              "         1.43418713,  1.30083857,  1.42307475,  1.35640047,  1.41196237,\n",
              "         1.42307475,  1.51197379,  1.71199664, -0.25489465, -0.81051365,\n",
              "        -0.81051365, -0.81051365, -0.81051365],\n",
              "       [-0.81051365, -0.81051365, -0.81051365, -0.81051365, -0.81051365,\n",
              "        -0.05487181,  1.68977187,  1.52308617,  1.53419855,  1.38973761,\n",
              "         1.32306333,  1.36751285,  1.45641189,  1.36751285,  1.20082715,\n",
              "         1.54531093,  1.37862523,  1.35640047,  1.32306333,  1.47863665,\n",
              "         1.63420997,  1.52308617,  1.7342214 ,  0.2229377 , -0.81051365,\n",
              "        -0.81051365, -0.81051365, -0.81051365],\n",
              "       [-0.81051365, -0.81051365, -0.81051365, -0.81051365, -0.81051365,\n",
              "         0.42296054,  1.66754711,  1.71199664,  2.00091852,  1.51197379,\n",
              "         1.36751285,  1.45641189,  1.53419855,  1.47863665,  1.22305191,\n",
              "         1.58976045,  1.47863665,  1.52308617,  1.44529951,  1.57864807,\n",
              "         1.9009071 ,  1.67865949,  1.71199664,  0.85634337, -0.81051365,\n",
              "        -0.81051365, -0.81051365, -0.81051365],\n",
              "       [-0.81051365, -0.81051365, -0.81051365, -0.81051365, -0.81051365,\n",
              "         0.73410718,  1.68977187,  1.67865949,  2.02314328,  1.43418713,\n",
              "         1.47863665,  1.54531093,  1.51197379,  1.53419855,  1.30083857,\n",
              "         1.55642331,  1.43418713,  1.48974903,  1.47863665,  1.65643473,\n",
              "         2.02314328,  1.74533378,  1.63420997,  1.30083857, -0.81051365,\n",
              "        -0.81051365, -0.81051365, -0.81051365],\n",
              "       [-0.81051365, -0.81051365, -0.81051365, -0.81051365, -0.81051365,\n",
              "         1.18971477,  1.70088425,  1.67865949,  2.02314328,  1.40084999,\n",
              "         1.45641189,  1.48974903,  1.56753569,  1.56753569,  1.30083857,\n",
              "         1.58976045,  1.47863665,  1.44529951,  1.46752427,  1.62309759,\n",
              "         1.88979472,  1.67865949,  1.56753569,  1.7897833 , -0.81051365,\n",
              "        -0.81051365, -0.81051365, -0.81051365],\n",
              "       [-0.81051365, -0.81051365, -0.81051365, -0.81051365, -0.81051365,\n",
              "         1.68977187,  1.66754711,  1.72310902,  2.0120309 ,  1.51197379,\n",
              "         1.47863665,  1.50086141,  1.55642331,  1.52308617,  1.31195095,\n",
              "         1.57864807,  1.48974903,  1.45641189,  1.50086141,  1.53419855,\n",
              "         1.956469  ,  1.70088425,  1.56753569,  2.02314328, -0.38824321,\n",
              "        -0.81051365, -0.81051365, -0.81051365],\n",
              "       [-0.81051365, -0.81051365, -0.81051365, -0.81051365, -0.81051365,\n",
              "         1.96758138,  1.76755854,  1.85645758,  1.8453452 ,  1.53419855,\n",
              "         1.44529951,  1.51197379,  1.46752427,  1.53419855,  1.37862523,\n",
              "         1.57864807,  1.50086141,  1.50086141,  1.56753569,  1.55642331,\n",
              "         1.8453452 ,  1.75644616,  1.62309759,  2.02314328,  0.08958914,\n",
              "        -0.81051365, -0.81051365, -0.81051365],\n",
              "       [-0.81051365, -0.81051365, -0.81051365, -0.81051365, -0.81051365,\n",
              "         1.94535662,  1.81200806,  1.93424424,  1.85645758,  1.44529951,\n",
              "         1.41196237,  1.50086141,  1.47863665,  1.56753569,  1.33417571,\n",
              "         1.55642331,  1.54531093,  1.50086141,  1.54531093,  1.53419855,\n",
              "         1.88979472,  1.87868234,  1.68977187,  2.0120309 , -0.07709657,\n",
              "        -0.81051365, -0.81051365, -0.81051365],\n",
              "       [-0.81051365, -0.81051365, -0.81051365, -0.81051365, -0.81051365,\n",
              "         1.93424424,  1.74533378,  1.98980614,  1.70088425,  1.40084999,\n",
              "         1.53419855,  1.43418713,  1.53419855,  1.55642331,  1.21193953,\n",
              "         1.55642331,  1.54531093,  1.47863665,  1.43418713,  1.62309759,\n",
              "         1.48974903,  1.93424424,  1.65643473,  1.82312044,  0.34517388,\n",
              "        -0.81051365, -0.81051365, -0.81051365],\n",
              "       [-0.81051365, -0.81051365, -0.81051365, -0.81051365, -0.69938985,\n",
              "         1.9009071 ,  1.62309759,  1.96758138,  1.46752427,  1.40084999,\n",
              "         1.51197379,  1.43418713,  1.51197379,  1.53419855,  1.28972619,\n",
              "         1.56753569,  1.47863665,  1.52308617,  1.41196237,  1.54531093,\n",
              "         0.90079289,  1.85645758,  1.50086141,  1.62309759,  0.74521956,\n",
              "        -0.81051365, -0.81051365, -0.81051365],\n",
              "       [-0.81051365, -0.81051365, -0.81051365, -0.81051365, -0.57715367,\n",
              "         2.02314328,  1.65643473,  1.83423282,  1.23416429,  1.52308617,\n",
              "         1.32306333,  1.47863665,  1.51197379,  1.52308617,  1.28972619,\n",
              "         1.55642331,  1.53419855,  1.51197379,  1.32306333,  1.72310902,\n",
              "         0.91190527,  1.70088425,  1.83423282,  1.86756996,  1.03414145,\n",
              "        -0.81051365, -0.81051365, -0.81051365],\n",
              "       [-0.81051365, -0.81051365, -0.81051365, -0.81051365, -0.39935559,\n",
              "         1.91201948,  1.70088425,  1.86756996,  0.85634337,  1.37862523,\n",
              "         1.28972619,  1.45641189,  1.51197379,  1.52308617,  1.22305191,\n",
              "         1.55642331,  1.55642331,  1.42307475,  1.23416429,  1.57864807,\n",
              "         0.81189384,  1.58976045,  1.81200806,  1.68977187,  0.90079289,\n",
              "        -0.81051365, -0.81051365, -0.81051365],\n",
              "       [-0.81051365, -0.81051365, -0.81051365, -0.81051365, -0.16599561,\n",
              "         1.8453452 ,  1.71199664,  2.02314328,  0.94524241,  1.33417571,\n",
              "         1.35640047,  1.45641189,  1.51197379,  1.55642331,  1.18971477,\n",
              "         1.48974903,  1.60087283,  1.40084999,  1.34528809,  1.53419855,\n",
              "         0.94524241,  1.62309759,  1.81200806,  1.58976045,  0.86745575,\n",
              "        -0.81051365, -0.81051365, -0.81051365],\n",
              "       [-0.81051365, -0.81051365, -0.81051365, -0.81051365, -0.05487181,\n",
              "         1.77867092,  1.70088425,  1.88979472,  0.73410718,  1.41196237,\n",
              "         1.33417571,  1.46752427,  1.52308617,  1.50086141,  1.18971477,\n",
              "         1.46752427,  1.54531093,  1.44529951,  1.36751285,  1.58976045,\n",
              "         0.93413003,  1.17860239,  2.02314328,  1.58976045,  0.91190527,\n",
              "        -0.81051365, -0.81051365, -0.81051365],\n",
              "       [-0.81051365, -0.81051365, -0.81051365, -0.81051365,  0.08958914,\n",
              "         1.68977187,  1.67865949,  1.53419855,  0.7229948 ,  1.62309759,\n",
              "         1.24527667,  1.42307475,  1.55642331,  1.48974903,  1.37862523,\n",
              "         1.70088425,  1.54531093,  1.41196237,  1.30083857,  1.57864807,\n",
              "         1.22305191,  0.18960056,  2.02314328,  1.53419855,  0.82300622,\n",
              "        -0.81051365, -0.81051365, -0.81051365],\n",
              "       [-0.81051365, -0.81051365, -0.81051365, -0.81051365,  0.20071294,\n",
              "         1.52308617,  1.74533378,  0.94524241,  0.45629768,  1.46752427,\n",
              "         1.26750143,  1.50086141,  1.51197379,  1.47863665,  1.33417571,\n",
              "         1.52308617,  1.53419855,  1.45641189,  1.35640047,  1.45641189,\n",
              "         1.20082715, -0.55492891,  2.02314328,  1.55642331,  0.94524241,\n",
              "        -0.81051365, -0.81051365, -0.81051365],\n",
              "       [-0.81051365, -0.81051365, -0.81051365, -0.81051365,  0.15626342,\n",
              "         1.46752427,  1.76755854,  0.40073578,  1.01191669,  2.02314328,\n",
              "         1.56753569,  1.67865949,  1.65643473,  1.52308617,  1.37862523,\n",
              "         1.56753569,  1.68977187,  1.65643473,  1.53419855,  1.63420997,\n",
              "         1.60087283, -0.81051365,  1.7897833 ,  1.58976045,  1.06747859,\n",
              "        -0.81051365, -0.81051365, -0.81051365],\n",
              "       [-0.81051365, -0.81051365, -0.81051365, -0.81051365,  0.21182532,\n",
              "         1.55642331,  1.76755854,  0.81189384, -0.75495175,  0.67854528,\n",
              "         0.86745575,  0.98969193,  1.07859097,  1.22305191,  1.21193953,\n",
              "         1.01191669,  1.03414145,  1.16749001,  0.98969193,  0.92301765,\n",
              "         0.2784996 , -0.81051365,  1.85645758,  1.68977187,  1.52308617,\n",
              "        -0.81051365, -0.81051365, -0.81051365],\n",
              "       [-0.81051365, -0.81051365, -0.81051365, -0.81051365, -0.33268131,\n",
              "         1.01191669,  1.47863665,  0.75633194, -0.81051365, -0.81051365,\n",
              "        -0.81051365, -0.81051365, -0.81051365, -0.81051365, -0.81051365,\n",
              "        -0.81051365, -0.81051365, -0.81051365, -0.81051365, -0.81051365,\n",
              "        -0.81051365, -0.81051365,  0.60075862,  0.57853386,  0.03402724,\n",
              "        -0.81051365, -0.81051365, -0.81051365]])"
            ]
          },
          "metadata": {},
          "execution_count": 11
        }
      ]
    },
    {
      "cell_type": "code",
      "execution_count": 22,
      "metadata": {
        "id": "-wfG4xXmKVG1",
        "colab": {
          "base_uri": "https://localhost:8080/"
        },
        "outputId": "29041dec-6099-4770-8aaa-0b667e7bf2cd"
      },
      "outputs": [
        {
          "output_type": "execute_result",
          "data": {
            "text/plain": [
              "(55000, 28, 28)"
            ]
          },
          "metadata": {},
          "execution_count": 22
        }
      ],
      "source": [
        "X_train.shape"
      ]
    },
    {
      "cell_type": "code",
      "source": [
        "X_valid.shape"
      ],
      "metadata": {
        "id": "fR2XWSZs7R0g",
        "colab": {
          "base_uri": "https://localhost:8080/"
        },
        "outputId": "4f3a8426-fba9-4154-ea16-b8691d3a1e9d"
      },
      "execution_count": 23,
      "outputs": [
        {
          "output_type": "execute_result",
          "data": {
            "text/plain": [
              "(5000, 28, 28)"
            ]
          },
          "metadata": {},
          "execution_count": 23
        }
      ]
    },
    {
      "cell_type": "markdown",
      "metadata": {
        "id": "zfHqOdDNXWhg"
      },
      "source": [
        "## Uma rede Neural com Keras"
      ]
    },
    {
      "cell_type": "markdown",
      "metadata": {
        "id": "O60fFac2mN4b"
      },
      "source": [
        "#### Estilos, treino, teste e avaliação\n",
        "\n",
        "O Keras possui três estilos de descrição de uma rede neural: (1) sequêncial, (2) funcional e (3) orientado a objetos (sub-classing). Vamos ver exemplos destas formas:"
      ]
    },
    {
      "cell_type": "code",
      "execution_count": 60,
      "metadata": {
        "id": "Zy9ACbB1WHKT"
      },
      "outputs": [],
      "source": [
        "# um modelo sequencial\n",
        "model = keras.models.Sequential()\n",
        "model.add(keras.layers.Flatten(input_shape=[28, 28])) # O flatten vetoriza a imagem\n",
        "model.add(keras.layers.Dense(300, activation=\"relu\"))\n",
        "model.add(keras.layers.Dense(150, activation=\"relu\"))\n",
        "model.add(keras.layers.Dense(100, activation=\"relu\"))\n",
        "model.add(keras.layers.Dense(50, activation=\"relu\"))\n",
        "model.add(keras.layers.Dense(10, activation=\"softmax\"))"
      ]
    },
    {
      "cell_type": "code",
      "execution_count": 25,
      "metadata": {
        "id": "TSGkMk6gOxWw",
        "colab": {
          "base_uri": "https://localhost:8080/"
        },
        "outputId": "02bc1f64-6420-4775-e999-be08929105ce"
      },
      "outputs": [
        {
          "output_type": "stream",
          "name": "stdout",
          "text": [
            "Model: \"sequential_1\"\n",
            "_________________________________________________________________\n",
            " Layer (type)                Output Shape              Param #   \n",
            "=================================================================\n",
            " flatten_1 (Flatten)         (None, 784)               0         \n",
            "                                                                 \n",
            " dense_5 (Dense)             (None, 300)               235500    \n",
            "                                                                 \n",
            " dense_6 (Dense)             (None, 150)               45150     \n",
            "                                                                 \n",
            " dense_7 (Dense)             (None, 100)               15100     \n",
            "                                                                 \n",
            " dense_8 (Dense)             (None, 50)                5050      \n",
            "                                                                 \n",
            " dense_9 (Dense)             (None, 10)                510       \n",
            "                                                                 \n",
            "=================================================================\n",
            "Total params: 301310 (1.15 MB)\n",
            "Trainable params: 301310 (1.15 MB)\n",
            "Non-trainable params: 0 (0.00 Byte)\n",
            "_________________________________________________________________\n"
          ]
        }
      ],
      "source": [
        "model.summary()"
      ]
    },
    {
      "cell_type": "markdown",
      "source": [
        "Outra forma de mostrar o modelo da arquitetura."
      ],
      "metadata": {
        "id": "tNepy04yI1S9"
      }
    },
    {
      "cell_type": "code",
      "source": [
        "tf.keras.utils.plot_model(model, \"meu_primeiro_modelo.png\", show_shapes=True)"
      ],
      "metadata": {
        "id": "7HNNt8U4IzzW"
      },
      "execution_count": null,
      "outputs": []
    },
    {
      "cell_type": "code",
      "execution_count": 51,
      "metadata": {
        "id": "rYivjP2SX66w"
      },
      "outputs": [],
      "source": [
        "# um modelo funcional\n",
        "model_input = keras.layers.Input(shape=(28, 28), name=\"images\")\n",
        "X = keras.layers.Flatten(name=\"input\")(model_input)\n",
        "X = keras.layers.Dense(300, activation=\"relu\", name=\"h1\")(X)\n",
        "X = keras.layers.Dense(150, activation=\"relu\", name=\"h2\")(X)\n",
        "X = keras.layers.Dense(100, activation=\"relu\", name=\"h3\")(X)\n",
        "X = keras.layers.Dense(50, activation=\"relu\", name=\"h4\")(X)\n",
        "yhat = keras.layers.Dense(10, activation=\"softmax\", name=\"output\")(X)\n",
        "\n",
        "model = keras.models.Model(inputs=[model_input], outputs=[yhat])"
      ]
    },
    {
      "cell_type": "code",
      "source": [
        "model.summary()"
      ],
      "metadata": {
        "id": "NZjumMWp5xT6"
      },
      "execution_count": null,
      "outputs": []
    },
    {
      "cell_type": "code",
      "execution_count": null,
      "metadata": {
        "id": "CAR5a2SDYJwN"
      },
      "outputs": [],
      "source": [
        "# um modelo com subclassing\n",
        "class SeqModel(keras.models.Model):\n",
        "    def __init__(self, **kwargs):\n",
        "        # call the parent constructor\n",
        "        super(SeqModel, self).__init__(**kwargs)\n",
        "        # initialize the layers\n",
        "        self.input_layer = keras.layers.Flatten(name=\"input_layer\")\n",
        "        self.h1 = keras.layers.Dense(300, activation=\"relu\", name=\"h1\")\n",
        "        self.h2 = keras.layers.Dense(150, activation=\"relu\", name=\"h2\")\n",
        "        self.h3 = keras.layers.Dense(100, activation=\"relu\", name=\"h3\")\n",
        "        self.h4 = keras.layers.Dense(50, activation=\"relu\", name=\"h4\")\n",
        "        self.out_layer = keras.layers.Dense(10, activation=\"softmax\", name=\"out_layer\")\n",
        "\n",
        "    def call(self, inputs):\n",
        "        x = self.input_layer(inputs)\n",
        "        x = self.h1(x)\n",
        "        x = self.h2(x)\n",
        "        x = self.h3(x)\n",
        "        x = self.h4(x)\n",
        "        x = self.out_layer(x)\n",
        "        return x\n",
        "\n",
        "model = SeqModel()"
      ]
    },
    {
      "cell_type": "code",
      "execution_count": 61,
      "metadata": {
        "id": "-dN9dZOlg2Ns"
      },
      "outputs": [],
      "source": [
        "model.compile(loss=\"sparse_categorical_crossentropy\",\n",
        "              optimizer=\"sgd\",\n",
        "              metrics=[\"accuracy\"])"
      ]
    },
    {
      "cell_type": "code",
      "source": [
        "history = model.fit(X_train, y_train,\n",
        "                    epochs=30, batch_size = 100,\n",
        "                    validation_data=(X_valid, y_valid))# batch_size e o minilote"
      ],
      "metadata": {
        "colab": {
          "base_uri": "https://localhost:8080/"
        },
        "id": "-LcKo6sBdEkf",
        "outputId": "40b99eea-1ea1-489e-98ac-134598aa7e5e"
      },
      "execution_count": 46,
      "outputs": [
        {
          "output_type": "stream",
          "name": "stdout",
          "text": [
            "Epoch 1/30\n",
            "550/550 [==============================] - 2s 3ms/step - loss: 0.2553 - accuracy: 0.9066 - val_loss: 0.3107 - val_accuracy: 0.8866\n",
            "Epoch 2/30\n",
            "550/550 [==============================] - 2s 4ms/step - loss: 0.2485 - accuracy: 0.9100 - val_loss: 0.3155 - val_accuracy: 0.8858\n",
            "Epoch 3/30\n",
            "550/550 [==============================] - 2s 3ms/step - loss: 0.2422 - accuracy: 0.9113 - val_loss: 0.3015 - val_accuracy: 0.8888\n",
            "Epoch 4/30\n",
            "550/550 [==============================] - 2s 3ms/step - loss: 0.2363 - accuracy: 0.9138 - val_loss: 0.3045 - val_accuracy: 0.8924\n",
            "Epoch 5/30\n",
            "550/550 [==============================] - 2s 3ms/step - loss: 0.2303 - accuracy: 0.9160 - val_loss: 0.3064 - val_accuracy: 0.8926\n",
            "Epoch 6/30\n",
            "550/550 [==============================] - 2s 3ms/step - loss: 0.2251 - accuracy: 0.9182 - val_loss: 0.3005 - val_accuracy: 0.8890\n",
            "Epoch 7/30\n",
            "550/550 [==============================] - 2s 3ms/step - loss: 0.2189 - accuracy: 0.9211 - val_loss: 0.2992 - val_accuracy: 0.8916\n",
            "Epoch 8/30\n",
            "550/550 [==============================] - 2s 4ms/step - loss: 0.2140 - accuracy: 0.9221 - val_loss: 0.2970 - val_accuracy: 0.8942\n",
            "Epoch 9/30\n",
            "550/550 [==============================] - 2s 3ms/step - loss: 0.2081 - accuracy: 0.9252 - val_loss: 0.3035 - val_accuracy: 0.8914\n",
            "Epoch 10/30\n",
            "550/550 [==============================] - 2s 3ms/step - loss: 0.2029 - accuracy: 0.9267 - val_loss: 0.3308 - val_accuracy: 0.8758\n",
            "Epoch 11/30\n",
            "550/550 [==============================] - 2s 3ms/step - loss: 0.1972 - accuracy: 0.9289 - val_loss: 0.3008 - val_accuracy: 0.8946\n",
            "Epoch 12/30\n",
            "550/550 [==============================] - 2s 3ms/step - loss: 0.1930 - accuracy: 0.9300 - val_loss: 0.3104 - val_accuracy: 0.8884\n",
            "Epoch 13/30\n",
            "550/550 [==============================] - 2s 3ms/step - loss: 0.1884 - accuracy: 0.9328 - val_loss: 0.3074 - val_accuracy: 0.8960\n",
            "Epoch 14/30\n",
            "550/550 [==============================] - 2s 4ms/step - loss: 0.1839 - accuracy: 0.9338 - val_loss: 0.3071 - val_accuracy: 0.8892\n",
            "Epoch 15/30\n",
            "550/550 [==============================] - 2s 4ms/step - loss: 0.1780 - accuracy: 0.9360 - val_loss: 0.3908 - val_accuracy: 0.8610\n",
            "Epoch 16/30\n",
            "550/550 [==============================] - 2s 3ms/step - loss: 0.1743 - accuracy: 0.9373 - val_loss: 0.3161 - val_accuracy: 0.8928\n",
            "Epoch 17/30\n",
            "550/550 [==============================] - 2s 4ms/step - loss: 0.1694 - accuracy: 0.9399 - val_loss: 0.3173 - val_accuracy: 0.8928\n",
            "Epoch 18/30\n",
            "550/550 [==============================] - 2s 4ms/step - loss: 0.1644 - accuracy: 0.9412 - val_loss: 0.3117 - val_accuracy: 0.8960\n",
            "Epoch 19/30\n",
            "550/550 [==============================] - 2s 4ms/step - loss: 0.1610 - accuracy: 0.9431 - val_loss: 0.3208 - val_accuracy: 0.8908\n",
            "Epoch 20/30\n",
            "550/550 [==============================] - 2s 4ms/step - loss: 0.1562 - accuracy: 0.9446 - val_loss: 0.3222 - val_accuracy: 0.8902\n",
            "Epoch 21/30\n",
            "550/550 [==============================] - 2s 4ms/step - loss: 0.1523 - accuracy: 0.9463 - val_loss: 0.3250 - val_accuracy: 0.8920\n",
            "Epoch 22/30\n",
            "550/550 [==============================] - 2s 3ms/step - loss: 0.1477 - accuracy: 0.9479 - val_loss: 0.3188 - val_accuracy: 0.8952\n",
            "Epoch 23/30\n",
            "550/550 [==============================] - 2s 3ms/step - loss: 0.1435 - accuracy: 0.9494 - val_loss: 0.3398 - val_accuracy: 0.8924\n",
            "Epoch 24/30\n",
            "550/550 [==============================] - 2s 3ms/step - loss: 0.1402 - accuracy: 0.9502 - val_loss: 0.3409 - val_accuracy: 0.8936\n",
            "Epoch 25/30\n",
            "550/550 [==============================] - 2s 3ms/step - loss: 0.1368 - accuracy: 0.9516 - val_loss: 0.3427 - val_accuracy: 0.8860\n",
            "Epoch 26/30\n",
            "550/550 [==============================] - 2s 4ms/step - loss: 0.1354 - accuracy: 0.9521 - val_loss: 0.3307 - val_accuracy: 0.8962\n",
            "Epoch 27/30\n",
            "550/550 [==============================] - 2s 4ms/step - loss: 0.1280 - accuracy: 0.9556 - val_loss: 0.3497 - val_accuracy: 0.8880\n",
            "Epoch 28/30\n",
            "550/550 [==============================] - 2s 4ms/step - loss: 0.1254 - accuracy: 0.9564 - val_loss: 0.3443 - val_accuracy: 0.8922\n",
            "Epoch 29/30\n",
            "550/550 [==============================] - 2s 4ms/step - loss: 0.1208 - accuracy: 0.9581 - val_loss: 0.3520 - val_accuracy: 0.8846\n",
            "Epoch 30/30\n",
            "550/550 [==============================] - 2s 4ms/step - loss: 0.1185 - accuracy: 0.9589 - val_loss: 0.3549 - val_accuracy: 0.8922\n"
          ]
        }
      ]
    },
    {
      "cell_type": "code",
      "execution_count": 27,
      "metadata": {
        "id": "_cpI_g2lg_jG",
        "colab": {
          "base_uri": "https://localhost:8080/"
        },
        "outputId": "6280e711-5cd7-4ba0-aa44-a39a71a73c70"
      },
      "outputs": [
        {
          "output_type": "stream",
          "name": "stdout",
          "text": [
            "Epoch 1/20\n",
            "550/550 [==============================] - 3s 4ms/step - loss: 0.7526 - accuracy: 0.7419 - val_loss: 0.4932 - val_accuracy: 0.8216\n",
            "Epoch 2/20\n",
            "550/550 [==============================] - 2s 3ms/step - loss: 0.4671 - accuracy: 0.8334 - val_loss: 0.4226 - val_accuracy: 0.8486\n",
            "Epoch 3/20\n",
            "550/550 [==============================] - 2s 3ms/step - loss: 0.4172 - accuracy: 0.8515 - val_loss: 0.4076 - val_accuracy: 0.8542\n",
            "Epoch 4/20\n",
            "550/550 [==============================] - 2s 3ms/step - loss: 0.3873 - accuracy: 0.8610 - val_loss: 0.3799 - val_accuracy: 0.8626\n",
            "Epoch 5/20\n",
            "550/550 [==============================] - 3s 5ms/step - loss: 0.3642 - accuracy: 0.8685 - val_loss: 0.3626 - val_accuracy: 0.8676\n",
            "Epoch 6/20\n",
            "550/550 [==============================] - 2s 3ms/step - loss: 0.3482 - accuracy: 0.8741 - val_loss: 0.3464 - val_accuracy: 0.8706\n",
            "Epoch 7/20\n",
            "550/550 [==============================] - 2s 3ms/step - loss: 0.3341 - accuracy: 0.8796 - val_loss: 0.3433 - val_accuracy: 0.8746\n",
            "Epoch 8/20\n",
            "550/550 [==============================] - 2s 3ms/step - loss: 0.3228 - accuracy: 0.8823 - val_loss: 0.3352 - val_accuracy: 0.8784\n",
            "Epoch 9/20\n",
            "550/550 [==============================] - 2s 4ms/step - loss: 0.3130 - accuracy: 0.8860 - val_loss: 0.3435 - val_accuracy: 0.8746\n",
            "Epoch 10/20\n",
            "550/550 [==============================] - 2s 4ms/step - loss: 0.3027 - accuracy: 0.8904 - val_loss: 0.3219 - val_accuracy: 0.8802\n",
            "Epoch 11/20\n",
            "550/550 [==============================] - 3s 5ms/step - loss: 0.2930 - accuracy: 0.8929 - val_loss: 0.3288 - val_accuracy: 0.8774\n",
            "Epoch 12/20\n",
            "550/550 [==============================] - 2s 3ms/step - loss: 0.2856 - accuracy: 0.8966 - val_loss: 0.3383 - val_accuracy: 0.8764\n",
            "Epoch 13/20\n",
            "550/550 [==============================] - 2s 3ms/step - loss: 0.2781 - accuracy: 0.8984 - val_loss: 0.3123 - val_accuracy: 0.8826\n",
            "Epoch 14/20\n",
            "550/550 [==============================] - 2s 4ms/step - loss: 0.2703 - accuracy: 0.9021 - val_loss: 0.3236 - val_accuracy: 0.8816\n",
            "Epoch 15/20\n",
            "550/550 [==============================] - 2s 3ms/step - loss: 0.2643 - accuracy: 0.9041 - val_loss: 0.3235 - val_accuracy: 0.8798\n",
            "Epoch 16/20\n",
            "550/550 [==============================] - 2s 3ms/step - loss: 0.2573 - accuracy: 0.9068 - val_loss: 0.3132 - val_accuracy: 0.8846\n",
            "Epoch 17/20\n",
            "550/550 [==============================] - 2s 4ms/step - loss: 0.2498 - accuracy: 0.9081 - val_loss: 0.3022 - val_accuracy: 0.8886\n",
            "Epoch 18/20\n",
            "550/550 [==============================] - 2s 3ms/step - loss: 0.2440 - accuracy: 0.9108 - val_loss: 0.3058 - val_accuracy: 0.8870\n",
            "Epoch 19/20\n",
            "550/550 [==============================] - 2s 3ms/step - loss: 0.2370 - accuracy: 0.9140 - val_loss: 0.2997 - val_accuracy: 0.8884\n",
            "Epoch 20/20\n",
            "550/550 [==============================] - 2s 3ms/step - loss: 0.2333 - accuracy: 0.9149 - val_loss: 0.3027 - val_accuracy: 0.8892\n"
          ]
        }
      ],
      "source": [
        "history = model.fit(X_train, y_train,\n",
        "                    epochs=20, batch_size = 100,\n",
        "                    validation_data=(X_valid, y_valid))# batch_size e o minilote"
      ]
    },
    {
      "cell_type": "markdown",
      "metadata": {
        "id": "TCYLAKRKeOik"
      },
      "source": [
        "A seguir, temos um resumo do modelo, que nos ajuda a entender sua complexidade: mais de 300 mil parâmetros!"
      ]
    },
    {
      "cell_type": "code",
      "source": [
        "history1=history"
      ],
      "metadata": {
        "id": "YKRgQMJ3dTft"
      },
      "execution_count": 33,
      "outputs": []
    },
    {
      "cell_type": "code",
      "execution_count": 28,
      "metadata": {
        "id": "jotlkgVTgog4",
        "colab": {
          "base_uri": "https://localhost:8080/"
        },
        "outputId": "d90e8713-67c6-4df9-c284-088da8bd6aea"
      },
      "outputs": [
        {
          "output_type": "stream",
          "name": "stdout",
          "text": [
            "Model: \"sequential_1\"\n",
            "_________________________________________________________________\n",
            " Layer (type)                Output Shape              Param #   \n",
            "=================================================================\n",
            " flatten_1 (Flatten)         (None, 784)               0         \n",
            "                                                                 \n",
            " dense_5 (Dense)             (None, 300)               235500    \n",
            "                                                                 \n",
            " dense_6 (Dense)             (None, 150)               45150     \n",
            "                                                                 \n",
            " dense_7 (Dense)             (None, 100)               15100     \n",
            "                                                                 \n",
            " dense_8 (Dense)             (None, 50)                5050      \n",
            "                                                                 \n",
            " dense_9 (Dense)             (None, 10)                510       \n",
            "                                                                 \n",
            "=================================================================\n",
            "Total params: 301310 (1.15 MB)\n",
            "Trainable params: 301310 (1.15 MB)\n",
            "Non-trainable params: 0 (0.00 Byte)\n",
            "_________________________________________________________________\n"
          ]
        }
      ],
      "source": [
        "model.summary()"
      ]
    },
    {
      "cell_type": "markdown",
      "metadata": {
        "id": "1WWFfUCReatI"
      },
      "source": [
        "Note que o log do treino guarda informação sobre todas as métricas avaliadas ao longo das épocas, como um dicionário Python:"
      ]
    },
    {
      "cell_type": "code",
      "execution_count": 29,
      "metadata": {
        "id": "kGnecy9KInmK",
        "colab": {
          "base_uri": "https://localhost:8080/"
        },
        "outputId": "f381b6ab-54f3-443c-9f50-2fcb30fcb74b"
      },
      "outputs": [
        {
          "output_type": "execute_result",
          "data": {
            "text/plain": [
              "{'loss': [0.7525646090507507,\n",
              "  0.46712103486061096,\n",
              "  0.4172149896621704,\n",
              "  0.3873178958892822,\n",
              "  0.36419281363487244,\n",
              "  0.3482283651828766,\n",
              "  0.33413153886795044,\n",
              "  0.3228243589401245,\n",
              "  0.3130057752132416,\n",
              "  0.3027404546737671,\n",
              "  0.2930067479610443,\n",
              "  0.2856346368789673,\n",
              "  0.278108686208725,\n",
              "  0.2702534794807434,\n",
              "  0.2642662525177002,\n",
              "  0.25729045271873474,\n",
              "  0.24975468218326569,\n",
              "  0.24404005706310272,\n",
              "  0.23704683780670166,\n",
              "  0.23332028090953827],\n",
              " 'accuracy': [0.7419090867042542,\n",
              "  0.8333636522293091,\n",
              "  0.8515090942382812,\n",
              "  0.860981822013855,\n",
              "  0.8685454726219177,\n",
              "  0.8741272687911987,\n",
              "  0.8796363472938538,\n",
              "  0.8822545409202576,\n",
              "  0.8860181570053101,\n",
              "  0.8903999924659729,\n",
              "  0.8929272890090942,\n",
              "  0.8965636491775513,\n",
              "  0.8983818292617798,\n",
              "  0.9021454453468323,\n",
              "  0.9041454792022705,\n",
              "  0.906781792640686,\n",
              "  0.908054530620575,\n",
              "  0.9108181595802307,\n",
              "  0.9140363931655884,\n",
              "  0.9149272441864014],\n",
              " 'val_loss': [0.493227481842041,\n",
              "  0.42263585329055786,\n",
              "  0.4075506925582886,\n",
              "  0.3799239993095398,\n",
              "  0.3626374304294586,\n",
              "  0.34639281034469604,\n",
              "  0.3433127701282501,\n",
              "  0.3352254629135132,\n",
              "  0.343516081571579,\n",
              "  0.32191869616508484,\n",
              "  0.32875117659568787,\n",
              "  0.3382619023323059,\n",
              "  0.3122742772102356,\n",
              "  0.3236435651779175,\n",
              "  0.3234879672527313,\n",
              "  0.3131580054759979,\n",
              "  0.3022122085094452,\n",
              "  0.3057903051376343,\n",
              "  0.29965728521347046,\n",
              "  0.30269521474838257],\n",
              " 'val_accuracy': [0.8216000199317932,\n",
              "  0.8485999703407288,\n",
              "  0.854200005531311,\n",
              "  0.8626000285148621,\n",
              "  0.8676000237464905,\n",
              "  0.8705999851226807,\n",
              "  0.8745999932289124,\n",
              "  0.8784000277519226,\n",
              "  0.8745999932289124,\n",
              "  0.8802000284194946,\n",
              "  0.8773999810218811,\n",
              "  0.8763999938964844,\n",
              "  0.8826000094413757,\n",
              "  0.881600022315979,\n",
              "  0.879800021648407,\n",
              "  0.8845999836921692,\n",
              "  0.8885999917984009,\n",
              "  0.8870000243186951,\n",
              "  0.8884000182151794,\n",
              "  0.88919997215271]}"
            ]
          },
          "metadata": {},
          "execution_count": 29
        }
      ],
      "source": [
        "history.history"
      ]
    },
    {
      "cell_type": "markdown",
      "metadata": {
        "id": "n7geva8Pent7"
      },
      "source": [
        "Isso nos permite facilmente avaliar estes números, com ajuda do Pandas:"
      ]
    },
    {
      "cell_type": "code",
      "execution_count": 47,
      "metadata": {
        "id": "kac1uHFrgros",
        "colab": {
          "base_uri": "https://localhost:8080/",
          "height": 445
        },
        "outputId": "1067e919-008c-45f3-82c4-ee958956ea8d"
      },
      "outputs": [
        {
          "output_type": "display_data",
          "data": {
            "text/plain": [
              "<Figure size 800x500 with 1 Axes>"
            ],
            "image/png": "[encoded data removed]"
          },
          "metadata": {}
        }
      ],
      "source": [
        "pd.DataFrame(history.history)[['loss', 'val_loss']].plot(figsize=(8, 5))\n",
        "plt.grid(True)\n",
        "plt.show()"
      ]
    },
    {
      "cell_type": "markdown",
      "metadata": {
        "id": "wdMcvgFVetwY"
      },
      "source": [
        "Para avaliar o modelo, podemos usar evalute:"
      ]
    },
    {
      "cell_type": "code",
      "source": [
        "pd.DataFrame(history1.history)[['loss', 'val_loss']].plot(figsize=(8, 5))\n",
        "plt.grid(True)\n",
        "plt.show()"
      ],
      "metadata": {
        "colab": {
          "base_uri": "https://localhost:8080/",
          "height": 445
        },
        "id": "s4du-F6Ce2uP",
        "outputId": "a502a751-af9b-4c46-cca1-79ba192b0c55"
      },
      "execution_count": 49,
      "outputs": [
        {
          "output_type": "display_data",
          "data": {
            "text/plain": [
              "<Figure size 800x500 with 1 Axes>"
            ],
            "image/png": "[encoded data removed]"
          },
          "metadata": {}
        }
      ]
    },
    {
      "cell_type": "code",
      "execution_count": null,
      "metadata": {
        "id": "Ic3wW9yfiRaC"
      },
      "outputs": [],
      "source": [
        "model.evaluate(X_test, y_test)"
      ]
    },
    {
      "cell_type": "code",
      "source": [
        "X_test.shape"
      ],
      "metadata": {
        "id": "8Sferryc_DPF"
      },
      "execution_count": null,
      "outputs": []
    },
    {
      "cell_type": "markdown",
      "source": [
        "# **Parada antecipada**\n",
        "\n",
        "Uma das estratégias mais comuns para se evitar overfitting é parar o treino quando o resultado na coleção de validação já não melhora mais. Isto é comumente chamado de parada antecipada e é implementado no Keras pelo callback `EarlyStopping`:"
      ],
      "metadata": {
        "id": "tbbgaj0_vjd7"
      }
    },
    {
      "cell_type": "code",
      "source": [
        "#Chamando um callback do Keras\n",
        "callbacks = [\n",
        "    keras.callbacks.EarlyStopping(\n",
        "        monitor=\"val_loss\", # pare se val_loss não está mais melhorando\n",
        "        min_delta=1e-2, # considere que não está mais melhorando se diferença para 0 é maior que 1e-2\n",
        "        patience=5, # número de épocas sem melhoria que devem ser observadas\n",
        "        verbose=1,\n",
        "    )\n",
        "]"
      ],
      "metadata": {
        "id": "w7LNQdPcvkRT"
      },
      "execution_count": 62,
      "outputs": []
    },
    {
      "cell_type": "code",
      "source": [
        "history = model.fit(X_train, y_train,\n",
        "                    epochs=30, callbacks = callbacks, batch_size = 100,\n",
        "                    validation_data=(X_valid, y_valid))"
      ],
      "metadata": {
        "id": "03_Wal8swZnR",
        "colab": {
          "base_uri": "https://localhost:8080/"
        },
        "outputId": "097ff11f-704d-4e1b-f252-fe089aafa311"
      },
      "execution_count": 63,
      "outputs": [
        {
          "output_type": "stream",
          "name": "stdout",
          "text": [
            "Epoch 1/30\n",
            "550/550 [==============================] - 3s 4ms/step - loss: 0.7554 - accuracy: 0.7403 - val_loss: 0.5227 - val_accuracy: 0.8158\n",
            "Epoch 2/30\n",
            "550/550 [==============================] - 3s 6ms/step - loss: 0.4668 - accuracy: 0.8309 - val_loss: 0.4254 - val_accuracy: 0.8514\n",
            "Epoch 3/30\n",
            "550/550 [==============================] - 2s 3ms/step - loss: 0.4142 - accuracy: 0.8511 - val_loss: 0.4303 - val_accuracy: 0.8398\n",
            "Epoch 4/30\n",
            "550/550 [==============================] - 2s 3ms/step - loss: 0.3846 - accuracy: 0.8618 - val_loss: 0.3797 - val_accuracy: 0.8632\n",
            "Epoch 5/30\n",
            "550/550 [==============================] - 2s 3ms/step - loss: 0.3630 - accuracy: 0.8697 - val_loss: 0.3603 - val_accuracy: 0.8682\n",
            "Epoch 6/30\n",
            "550/550 [==============================] - 2s 3ms/step - loss: 0.3459 - accuracy: 0.8754 - val_loss: 0.3595 - val_accuracy: 0.8712\n",
            "Epoch 7/30\n",
            "550/550 [==============================] - 2s 4ms/step - loss: 0.3316 - accuracy: 0.8788 - val_loss: 0.3499 - val_accuracy: 0.8732\n",
            "Epoch 8/30\n",
            "550/550 [==============================] - 3s 5ms/step - loss: 0.3198 - accuracy: 0.8833 - val_loss: 0.3418 - val_accuracy: 0.8732\n",
            "Epoch 9/30\n",
            "550/550 [==============================] - 2s 3ms/step - loss: 0.3085 - accuracy: 0.8874 - val_loss: 0.3332 - val_accuracy: 0.8784\n",
            "Epoch 10/30\n",
            "550/550 [==============================] - 2s 3ms/step - loss: 0.2996 - accuracy: 0.8910 - val_loss: 0.3274 - val_accuracy: 0.8828\n",
            "Epoch 11/30\n",
            "550/550 [==============================] - 2s 3ms/step - loss: 0.2906 - accuracy: 0.8938 - val_loss: 0.3252 - val_accuracy: 0.8852\n",
            "Epoch 12/30\n",
            "550/550 [==============================] - 2s 3ms/step - loss: 0.2823 - accuracy: 0.8968 - val_loss: 0.3304 - val_accuracy: 0.8828\n",
            "Epoch 13/30\n",
            "550/550 [==============================] - 2s 3ms/step - loss: 0.2737 - accuracy: 0.9013 - val_loss: 0.3128 - val_accuracy: 0.8904\n",
            "Epoch 14/30\n",
            "550/550 [==============================] - 2s 4ms/step - loss: 0.2675 - accuracy: 0.9032 - val_loss: 0.3214 - val_accuracy: 0.8874\n",
            "Epoch 15/30\n",
            "550/550 [==============================] - 2s 3ms/step - loss: 0.2605 - accuracy: 0.9060 - val_loss: 0.3090 - val_accuracy: 0.8902\n",
            "Epoch 16/30\n",
            "550/550 [==============================] - 2s 3ms/step - loss: 0.2540 - accuracy: 0.9060 - val_loss: 0.3063 - val_accuracy: 0.8918\n",
            "Epoch 17/30\n",
            "550/550 [==============================] - 2s 3ms/step - loss: 0.2466 - accuracy: 0.9095 - val_loss: 0.3074 - val_accuracy: 0.8922\n",
            "Epoch 18/30\n",
            "550/550 [==============================] - 2s 3ms/step - loss: 0.2410 - accuracy: 0.9113 - val_loss: 0.3152 - val_accuracy: 0.8858\n",
            "Epoch 18: early stopping\n"
          ]
        }
      ]
    },
    {
      "cell_type": "markdown",
      "metadata": {
        "id": "Ta7pZ9yzwl-2"
      },
      "source": [
        "Isso nos permite facilmente avaliar estes números, com ajuda do Pandas:"
      ]
    },
    {
      "cell_type": "code",
      "execution_count": 64,
      "metadata": {
        "id": "5Sm4ztGQwl-2",
        "colab": {
          "base_uri": "https://localhost:8080/",
          "height": 445
        },
        "outputId": "99a267eb-bdce-4613-f808-1607e8adf62c"
      },
      "outputs": [
        {
          "output_type": "display_data",
          "data": {
            "text/plain": [
              "<Figure size 800x500 with 1 Axes>"
            ],
            "image/png": "[encoded data removed]"
          },
          "metadata": {}
        }
      ],
      "source": [
        "pd.DataFrame(history.history)[['loss', 'val_loss']].plot(figsize=(8, 5))\n",
        "plt.grid(True)\n",
        "plt.show()"
      ]
    },
    {
      "cell_type": "markdown",
      "metadata": {
        "id": "LhgF52e3wl-3"
      },
      "source": [
        "Para avaliar o modelo, podemos usar evalute:"
      ]
    },
    {
      "cell_type": "code",
      "execution_count": 65,
      "metadata": {
        "id": "0ouhN5vkwl-3",
        "colab": {
          "base_uri": "https://localhost:8080/"
        },
        "outputId": "595ad11b-6d9f-4100-8ef1-dc7b035d493b"
      },
      "outputs": [
        {
          "output_type": "stream",
          "name": "stdout",
          "text": [
            "313/313 [==============================] - 1s 2ms/step - loss: 28.1764 - accuracy: 0.7368\n"
          ]
        },
        {
          "output_type": "execute_result",
          "data": {
            "text/plain": [
              "[28.176433563232422, 0.7368000149726868]"
            ]
          },
          "metadata": {},
          "execution_count": 65
        }
      ],
      "source": [
        "model.evaluate(X_test, y_test)"
      ]
    }
  ],
  "metadata": {
    "accelerator": "GPU",
    "colab": {
      "provenance": [],
      "gpuType": "T4",
      "include_colab_link": true
    },
    "kernelspec": {
      "display_name": "Python 3",
      "name": "python3"
    },
    "language_info": {
      "codemirror_mode": {
        "name": "ipython",
        "version": 3
      },
      "file_extension": ".py",
      "mimetype": "text/x-python",
      "name": "python",
      "nbconvert_exporter": "python",
      "pygments_lexer": "ipython3",
      "version": "3.7.2"
    }
  },
  "nbformat": 4,
  "nbformat_minor": 0
}