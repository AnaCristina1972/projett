{
  "cells": [
    {
      "cell_type": "markdown",
      "metadata": {
        "id": "view-in-github",
        "colab_type": "text"
      },
      "source": [
        "<a href=\"https://colab.research.google.com/github/AnaCristina1972/projett/blob/master/03_%C3%81rvore_de_Decis%C3%A3o.ipynb\" target=\"_parent\"><img src=\"https://colab.research.google.com/assets/colab-badge.svg\" alt=\"Open In Colab\"/></a>"
      ]
    },
    {
      "cell_type": "markdown",
      "metadata": {
        "id": "5Q936NDXKXYD"
      },
      "source": [
        "# Árvore de Decisão\n"
      ]
    },
    {
      "cell_type": "markdown",
      "metadata": {
        "id": "5XBdCvyUTLmg"
      },
      "source": [
        "Nesta aula nós veremos o uso do método de AM baseado em Árvore de Decisão existente no scikit-learn."
      ]
    },
    {
      "cell_type": "markdown",
      "metadata": {
        "id": "VTK09T1Oji0t"
      },
      "source": [
        "**Índice:**\n",
        "\n",
        "  - [Configuração do notebook e dos dados](#Configuração-do-notebook-e-dos-dados)\n",
        "    - [Atividade 1](#Atividade-1)\n",
        "    - [Atividade 2](#Atividade-2)\n",
        "  - [Treinamento do modelo](#Treinamento-do-modelo)\n",
        "    - [Atividade 3](#Atividade-3)\n",
        "  - [Teste do modelo](#Teste-do-modelo)\n",
        "    - [Atividade 4](#Atividade-4)\n",
        "    - [Atividade 5](#Atividade-5)\n"
      ]
    },
    {
      "cell_type": "markdown",
      "metadata": {
        "id": "SMZpwF4jji0t"
      },
      "source": [
        "## Configuração do notebook e dos dados"
      ]
    },
    {
      "cell_type": "markdown",
      "metadata": {
        "id": "-qMa55bIji0u"
      },
      "source": [
        "Vamos utilizar algumas bibliotecas para isso:\n",
        "\n",
        "- `numpy` e `pandas`: para trabalhar com os dados tabulares\n",
        "- `sklearn`: modelos, classes para manipular dados e analisar resultados\n",
        "- `pyplot`: biblioteca para gerar gráficos"
      ]
    },
    {
      "cell_type": "code",
      "execution_count": 2,
      "metadata": {
        "id": "B_pypY8nZ2v3"
      },
      "outputs": [],
      "source": [
        "import matplotlib.pyplot as plt\n",
        "import numpy as np\n",
        "import sklearn\n",
        "import pandas as pd"
      ]
    },
    {
      "cell_type": "markdown",
      "metadata": {
        "id": "l83zCCi9ji0v"
      },
      "source": [
        "Usaremos dois arquivos que você pode baixar no ColabWeb:\n",
        "\n",
        "- `iris-treino.csv`: contém a amostra de treinamento. São os exemplos que, em uma aplicação real, nós teríamos coletado para encontrar os parâmetros do modelo\n",
        "- `iris-teste.csv`: contém um conjunto de dados que simula os exemplos futuros, isto é, aqueles que serão usados com o nosso modelo em produção\n",
        "\n",
        "Ambos os arquivos contêm dados que foram sub-amostrados da base `Iris`. Você pode obter a base `Iris` completa se executar os seguintes comandos:\n",
        "\n",
        "```Python\n",
        "from sklearn.datasets import load_iris\n",
        "iris_dataset = load_iris()\n",
        "```\n",
        "\n",
        "Mas por ora vamos tratar dos dois subconjuntos selecionados para a aula."
      ]
    },
    {
      "cell_type": "markdown",
      "metadata": {
        "id": "JSdRq6lvji0v"
      },
      "source": [
        "### Atividade 1\n",
        "\n",
        "Carregue os arquivos de treino e de teste usando `pd.read_csv`."
      ]
    },
    {
      "cell_type": "code",
      "execution_count": 9,
      "metadata": {
        "id": "vjIhGtcyji0w"
      },
      "outputs": [],
      "source": [
        "iris_treino = pd.read_csv('/content/iris-teste.csv')\n",
        "iris_teste = pd.read_csv('/content/iris-treino.csv')"
      ]
    },
    {
      "cell_type": "code",
      "source": [
        "iris_treino.head()"
      ],
      "metadata": {
        "colab": {
          "base_uri": "https://localhost:8080/",
          "height": 206
        },
        "id": "_1mmKsA9lXp3",
        "outputId": "72c97656-85d2-4f10-93af-2ef316538c1d"
      },
      "execution_count": 11,
      "outputs": [
        {
          "output_type": "execute_result",
          "data": {
            "text/plain": [
              "   sepal_length  sepal_width  petal_length  petal_width     species\n",
              "0           7.7          3.8           6.7          2.2   virginica\n",
              "1           6.3          3.3           6.0          2.5   virginica\n",
              "2           7.2          3.2           6.0          1.8   virginica\n",
              "3           7.0          3.2           4.7          1.4  versicolor\n",
              "4           6.8          2.8           4.8          1.4  versicolor"
            ],
            "text/html": [
              "\n",
              "  <div id=\"df-4662d0bc-aa19-46bc-87c7-820c55f3cb09\" class=\"colab-df-container\">\n",
              "    <div>\n",
              "<style scoped>\n",
              "    .dataframe tbody tr th:only-of-type {\n",
              "        vertical-align: middle;\n",
              "    }\n",
              "\n",
              "    .dataframe tbody tr th {\n",
              "        vertical-align: top;\n",
              "    }\n",
              "\n",
              "    .dataframe thead th {\n",
              "        text-align: right;\n",
              "    }\n",
              "</style>\n",
              "<table border=\"1\" class=\"dataframe\">\n",
              "  <thead>\n",
              "    <tr style=\"text-align: right;\">\n",
              "      <th></th>\n",
              "      <th>sepal_length</th>\n",
              "      <th>sepal_width</th>\n",
              "      <th>petal_length</th>\n",
              "      <th>petal_width</th>\n",
              "      <th>species</th>\n",
              "    </tr>\n",
              "  </thead>\n",
              "  <tbody>\n",
              "    <tr>\n",
              "      <th>0</th>\n",
              "      <td>7.7</td>\n",
              "      <td>3.8</td>\n",
              "      <td>6.7</td>\n",
              "      <td>2.2</td>\n",
              "      <td>virginica</td>\n",
              "    </tr>\n",
              "    <tr>\n",
              "      <th>1</th>\n",
              "      <td>6.3</td>\n",
              "      <td>3.3</td>\n",
              "      <td>6.0</td>\n",
              "      <td>2.5</td>\n",
              "      <td>virginica</td>\n",
              "    </tr>\n",
              "    <tr>\n",
              "      <th>2</th>\n",
              "      <td>7.2</td>\n",
              "      <td>3.2</td>\n",
              "      <td>6.0</td>\n",
              "      <td>1.8</td>\n",
              "      <td>virginica</td>\n",
              "    </tr>\n",
              "    <tr>\n",
              "      <th>3</th>\n",
              "      <td>7.0</td>\n",
              "      <td>3.2</td>\n",
              "      <td>4.7</td>\n",
              "      <td>1.4</td>\n",
              "      <td>versicolor</td>\n",
              "    </tr>\n",
              "    <tr>\n",
              "      <th>4</th>\n",
              "      <td>6.8</td>\n",
              "      <td>2.8</td>\n",
              "      <td>4.8</td>\n",
              "      <td>1.4</td>\n",
              "      <td>versicolor</td>\n",
              "    </tr>\n",
              "  </tbody>\n",
              "</table>\n",
              "</div>\n",
              "    <div class=\"colab-df-buttons\">\n",
              "\n",
              "  <div class=\"colab-df-container\">\n",
              "    <button class=\"colab-df-convert\" onclick=\"convertToInteractive('df-4662d0bc-aa19-46bc-87c7-820c55f3cb09')\"\n",
              "            title=\"Convert this dataframe to an interactive table.\"\n",
              "            style=\"display:none;\">\n",
              "\n",
              "  <svg xmlns=\"http://www.w3.org/2000/svg\" height=\"24px\" viewBox=\"0 -960 960 960\">\n",
              "    <path d=\"M120-120v-720h720v720H120Zm60-500h600v-160H180v160Zm220 220h160v-160H400v160Zm0 220h160v-160H400v160ZM180-400h160v-160H180v160Zm440 0h160v-160H620v160ZM180-180h160v-160H180v160Zm440 0h160v-160H620v160Z\"/>\n",
              "  </svg>\n",
              "    </button>\n",
              "\n",
              "  <style>\n",
              "    .colab-df-container {\n",
              "      display:flex;\n",
              "      gap: 12px;\n",
              "    }\n",
              "\n",
              "    .colab-df-convert {\n",
              "      background-color: #E8F0FE;\n",
              "      border: none;\n",
              "      border-radius: 50%;\n",
              "      cursor: pointer;\n",
              "      display: none;\n",
              "      fill: #1967D2;\n",
              "      height: 32px;\n",
              "      padding: 0 0 0 0;\n",
              "      width: 32px;\n",
              "    }\n",
              "\n",
              "    .colab-df-convert:hover {\n",
              "      background-color: #E2EBFA;\n",
              "      box-shadow: 0px 1px 2px rgba(60, 64, 67, 0.3), 0px 1px 3px 1px rgba(60, 64, 67, 0.15);\n",
              "      fill: #174EA6;\n",
              "    }\n",
              "\n",
              "    .colab-df-buttons div {\n",
              "      margin-bottom: 4px;\n",
              "    }\n",
              "\n",
              "    [theme=dark] .colab-df-convert {\n",
              "      background-color: #3B4455;\n",
              "      fill: #D2E3FC;\n",
              "    }\n",
              "\n",
              "    [theme=dark] .colab-df-convert:hover {\n",
              "      background-color: #434B5C;\n",
              "      box-shadow: 0px 1px 3px 1px rgba(0, 0, 0, 0.15);\n",
              "      filter: drop-shadow(0px 1px 2px rgba(0, 0, 0, 0.3));\n",
              "      fill: #FFFFFF;\n",
              "    }\n",
              "  </style>\n",
              "\n",
              "    <script>\n",
              "      const buttonEl =\n",
              "        document.querySelector('#df-4662d0bc-aa19-46bc-87c7-820c55f3cb09 button.colab-df-convert');\n",
              "      buttonEl.style.display =\n",
              "        google.colab.kernel.accessAllowed ? 'block' : 'none';\n",
              "\n",
              "      async function convertToInteractive(key) {\n",
              "        const element = document.querySelector('#df-4662d0bc-aa19-46bc-87c7-820c55f3cb09');\n",
              "        const dataTable =\n",
              "          await google.colab.kernel.invokeFunction('convertToInteractive',\n",
              "                                                    [key], {});\n",
              "        if (!dataTable) return;\n",
              "\n",
              "        const docLinkHtml = 'Like what you see? Visit the ' +\n",
              "          '<a target=\"_blank\" href=https://colab.research.google.com/notebooks/data_table.ipynb>data table notebook</a>'\n",
              "          + ' to learn more about interactive tables.';\n",
              "        element.innerHTML = '';\n",
              "        dataTable['output_type'] = 'display_data';\n",
              "        await google.colab.output.renderOutput(dataTable, element);\n",
              "        const docLink = document.createElement('div');\n",
              "        docLink.innerHTML = docLinkHtml;\n",
              "        element.appendChild(docLink);\n",
              "      }\n",
              "    </script>\n",
              "  </div>\n",
              "\n",
              "\n",
              "<div id=\"df-76e9b0ae-1957-400b-afb4-cd2e0e61678b\">\n",
              "  <button class=\"colab-df-quickchart\" onclick=\"quickchart('df-76e9b0ae-1957-400b-afb4-cd2e0e61678b')\"\n",
              "            title=\"Suggest charts\"\n",
              "            style=\"display:none;\">\n",
              "\n",
              "<svg xmlns=\"http://www.w3.org/2000/svg\" height=\"24px\"viewBox=\"0 0 24 24\"\n",
              "     width=\"24px\">\n",
              "    <g>\n",
              "        <path d=\"M19 3H5c-1.1 0-2 .9-2 2v14c0 1.1.9 2 2 2h14c1.1 0 2-.9 2-2V5c0-1.1-.9-2-2-2zM9 17H7v-7h2v7zm4 0h-2V7h2v10zm4 0h-2v-4h2v4z\"/>\n",
              "    </g>\n",
              "</svg>\n",
              "  </button>\n",
              "\n",
              "<style>\n",
              "  .colab-df-quickchart {\n",
              "      --bg-color: #E8F0FE;\n",
              "      --fill-color: #1967D2;\n",
              "      --hover-bg-color: #E2EBFA;\n",
              "      --hover-fill-color: #174EA6;\n",
              "      --disabled-fill-color: #AAA;\n",
              "      --disabled-bg-color: #DDD;\n",
              "  }\n",
              "\n",
              "  [theme=dark] .colab-df-quickchart {\n",
              "      --bg-color: #3B4455;\n",
              "      --fill-color: #D2E3FC;\n",
              "      --hover-bg-color: #434B5C;\n",
              "      --hover-fill-color: #FFFFFF;\n",
              "      --disabled-bg-color: #3B4455;\n",
              "      --disabled-fill-color: #666;\n",
              "  }\n",
              "\n",
              "  .colab-df-quickchart {\n",
              "    background-color: var(--bg-color);\n",
              "    border: none;\n",
              "    border-radius: 50%;\n",
              "    cursor: pointer;\n",
              "    display: none;\n",
              "    fill: var(--fill-color);\n",
              "    height: 32px;\n",
              "    padding: 0;\n",
              "    width: 32px;\n",
              "  }\n",
              "\n",
              "  .colab-df-quickchart:hover {\n",
              "    background-color: var(--hover-bg-color);\n",
              "    box-shadow: 0 1px 2px rgba(60, 64, 67, 0.3), 0 1px 3px 1px rgba(60, 64, 67, 0.15);\n",
              "    fill: var(--button-hover-fill-color);\n",
              "  }\n",
              "\n",
              "  .colab-df-quickchart-complete:disabled,\n",
              "  .colab-df-quickchart-complete:disabled:hover {\n",
              "    background-color: var(--disabled-bg-color);\n",
              "    fill: var(--disabled-fill-color);\n",
              "    box-shadow: none;\n",
              "  }\n",
              "\n",
              "  .colab-df-spinner {\n",
              "    border: 2px solid var(--fill-color);\n",
              "    border-color: transparent;\n",
              "    border-bottom-color: var(--fill-color);\n",
              "    animation:\n",
              "      spin 1s steps(1) infinite;\n",
              "  }\n",
              "\n",
              "  @keyframes spin {\n",
              "    0% {\n",
              "      border-color: transparent;\n",
              "      border-bottom-color: var(--fill-color);\n",
              "      border-left-color: var(--fill-color);\n",
              "    }\n",
              "    20% {\n",
              "      border-color: transparent;\n",
              "      border-left-color: var(--fill-color);\n",
              "      border-top-color: var(--fill-color);\n",
              "    }\n",
              "    30% {\n",
              "      border-color: transparent;\n",
              "      border-left-color: var(--fill-color);\n",
              "      border-top-color: var(--fill-color);\n",
              "      border-right-color: var(--fill-color);\n",
              "    }\n",
              "    40% {\n",
              "      border-color: transparent;\n",
              "      border-right-color: var(--fill-color);\n",
              "      border-top-color: var(--fill-color);\n",
              "    }\n",
              "    60% {\n",
              "      border-color: transparent;\n",
              "      border-right-color: var(--fill-color);\n",
              "    }\n",
              "    80% {\n",
              "      border-color: transparent;\n",
              "      border-right-color: var(--fill-color);\n",
              "      border-bottom-color: var(--fill-color);\n",
              "    }\n",
              "    90% {\n",
              "      border-color: transparent;\n",
              "      border-bottom-color: var(--fill-color);\n",
              "    }\n",
              "  }\n",
              "</style>\n",
              "\n",
              "  <script>\n",
              "    async function quickchart(key) {\n",
              "      const quickchartButtonEl =\n",
              "        document.querySelector('#' + key + ' button');\n",
              "      quickchartButtonEl.disabled = true;  // To prevent multiple clicks.\n",
              "      quickchartButtonEl.classList.add('colab-df-spinner');\n",
              "      try {\n",
              "        const charts = await google.colab.kernel.invokeFunction(\n",
              "            'suggestCharts', [key], {});\n",
              "      } catch (error) {\n",
              "        console.error('Error during call to suggestCharts:', error);\n",
              "      }\n",
              "      quickchartButtonEl.classList.remove('colab-df-spinner');\n",
              "      quickchartButtonEl.classList.add('colab-df-quickchart-complete');\n",
              "    }\n",
              "    (() => {\n",
              "      let quickchartButtonEl =\n",
              "        document.querySelector('#df-76e9b0ae-1957-400b-afb4-cd2e0e61678b button');\n",
              "      quickchartButtonEl.style.display =\n",
              "        google.colab.kernel.accessAllowed ? 'block' : 'none';\n",
              "    })();\n",
              "  </script>\n",
              "</div>\n",
              "\n",
              "    </div>\n",
              "  </div>\n"
            ]
          },
          "metadata": {},
          "execution_count": 11
        }
      ]
    },
    {
      "cell_type": "code",
      "source": [
        "iris_teste.head()"
      ],
      "metadata": {
        "colab": {
          "base_uri": "https://localhost:8080/",
          "height": 206
        },
        "id": "d5K1ZZbwmz0g",
        "outputId": "9dffd577-6c45-48ee-b9b7-0740325e411e"
      },
      "execution_count": 12,
      "outputs": [
        {
          "output_type": "execute_result",
          "data": {
            "text/plain": [
              "   sepal_length  sepal_width  petal_length  petal_width     species\n",
              "0           6.2          3.4           5.4          2.3   virginica\n",
              "1           5.1          3.3           1.7          0.5      setosa\n",
              "2           6.7          2.5           5.8          1.8   virginica\n",
              "3           5.6          2.5           3.9          1.1  versicolor\n",
              "4           4.4          3.2           1.3          0.2      setosa"
            ],
            "text/html": [
              "\n",
              "  <div id=\"df-91d1585c-2e9e-43ca-8320-4f69ee5629e1\" class=\"colab-df-container\">\n",
              "    <div>\n",
              "<style scoped>\n",
              "    .dataframe tbody tr th:only-of-type {\n",
              "        vertical-align: middle;\n",
              "    }\n",
              "\n",
              "    .dataframe tbody tr th {\n",
              "        vertical-align: top;\n",
              "    }\n",
              "\n",
              "    .dataframe thead th {\n",
              "        text-align: right;\n",
              "    }\n",
              "</style>\n",
              "<table border=\"1\" class=\"dataframe\">\n",
              "  <thead>\n",
              "    <tr style=\"text-align: right;\">\n",
              "      <th></th>\n",
              "      <th>sepal_length</th>\n",
              "      <th>sepal_width</th>\n",
              "      <th>petal_length</th>\n",
              "      <th>petal_width</th>\n",
              "      <th>species</th>\n",
              "    </tr>\n",
              "  </thead>\n",
              "  <tbody>\n",
              "    <tr>\n",
              "      <th>0</th>\n",
              "      <td>6.2</td>\n",
              "      <td>3.4</td>\n",
              "      <td>5.4</td>\n",
              "      <td>2.3</td>\n",
              "      <td>virginica</td>\n",
              "    </tr>\n",
              "    <tr>\n",
              "      <th>1</th>\n",
              "      <td>5.1</td>\n",
              "      <td>3.3</td>\n",
              "      <td>1.7</td>\n",
              "      <td>0.5</td>\n",
              "      <td>setosa</td>\n",
              "    </tr>\n",
              "    <tr>\n",
              "      <th>2</th>\n",
              "      <td>6.7</td>\n",
              "      <td>2.5</td>\n",
              "      <td>5.8</td>\n",
              "      <td>1.8</td>\n",
              "      <td>virginica</td>\n",
              "    </tr>\n",
              "    <tr>\n",
              "      <th>3</th>\n",
              "      <td>5.6</td>\n",
              "      <td>2.5</td>\n",
              "      <td>3.9</td>\n",
              "      <td>1.1</td>\n",
              "      <td>versicolor</td>\n",
              "    </tr>\n",
              "    <tr>\n",
              "      <th>4</th>\n",
              "      <td>4.4</td>\n",
              "      <td>3.2</td>\n",
              "      <td>1.3</td>\n",
              "      <td>0.2</td>\n",
              "      <td>setosa</td>\n",
              "    </tr>\n",
              "  </tbody>\n",
              "</table>\n",
              "</div>\n",
              "    <div class=\"colab-df-buttons\">\n",
              "\n",
              "  <div class=\"colab-df-container\">\n",
              "    <button class=\"colab-df-convert\" onclick=\"convertToInteractive('df-91d1585c-2e9e-43ca-8320-4f69ee5629e1')\"\n",
              "            title=\"Convert this dataframe to an interactive table.\"\n",
              "            style=\"display:none;\">\n",
              "\n",
              "  <svg xmlns=\"http://www.w3.org/2000/svg\" height=\"24px\" viewBox=\"0 -960 960 960\">\n",
              "    <path d=\"M120-120v-720h720v720H120Zm60-500h600v-160H180v160Zm220 220h160v-160H400v160Zm0 220h160v-160H400v160ZM180-400h160v-160H180v160Zm440 0h160v-160H620v160ZM180-180h160v-160H180v160Zm440 0h160v-160H620v160Z\"/>\n",
              "  </svg>\n",
              "    </button>\n",
              "\n",
              "  <style>\n",
              "    .colab-df-container {\n",
              "      display:flex;\n",
              "      gap: 12px;\n",
              "    }\n",
              "\n",
              "    .colab-df-convert {\n",
              "      background-color: #E8F0FE;\n",
              "      border: none;\n",
              "      border-radius: 50%;\n",
              "      cursor: pointer;\n",
              "      display: none;\n",
              "      fill: #1967D2;\n",
              "      height: 32px;\n",
              "      padding: 0 0 0 0;\n",
              "      width: 32px;\n",
              "    }\n",
              "\n",
              "    .colab-df-convert:hover {\n",
              "      background-color: #E2EBFA;\n",
              "      box-shadow: 0px 1px 2px rgba(60, 64, 67, 0.3), 0px 1px 3px 1px rgba(60, 64, 67, 0.15);\n",
              "      fill: #174EA6;\n",
              "    }\n",
              "\n",
              "    .colab-df-buttons div {\n",
              "      margin-bottom: 4px;\n",
              "    }\n",
              "\n",
              "    [theme=dark] .colab-df-convert {\n",
              "      background-color: #3B4455;\n",
              "      fill: #D2E3FC;\n",
              "    }\n",
              "\n",
              "    [theme=dark] .colab-df-convert:hover {\n",
              "      background-color: #434B5C;\n",
              "      box-shadow: 0px 1px 3px 1px rgba(0, 0, 0, 0.15);\n",
              "      filter: drop-shadow(0px 1px 2px rgba(0, 0, 0, 0.3));\n",
              "      fill: #FFFFFF;\n",
              "    }\n",
              "  </style>\n",
              "\n",
              "    <script>\n",
              "      const buttonEl =\n",
              "        document.querySelector('#df-91d1585c-2e9e-43ca-8320-4f69ee5629e1 button.colab-df-convert');\n",
              "      buttonEl.style.display =\n",
              "        google.colab.kernel.accessAllowed ? 'block' : 'none';\n",
              "\n",
              "      async function convertToInteractive(key) {\n",
              "        const element = document.querySelector('#df-91d1585c-2e9e-43ca-8320-4f69ee5629e1');\n",
              "        const dataTable =\n",
              "          await google.colab.kernel.invokeFunction('convertToInteractive',\n",
              "                                                    [key], {});\n",
              "        if (!dataTable) return;\n",
              "\n",
              "        const docLinkHtml = 'Like what you see? Visit the ' +\n",
              "          '<a target=\"_blank\" href=https://colab.research.google.com/notebooks/data_table.ipynb>data table notebook</a>'\n",
              "          + ' to learn more about interactive tables.';\n",
              "        element.innerHTML = '';\n",
              "        dataTable['output_type'] = 'display_data';\n",
              "        await google.colab.output.renderOutput(dataTable, element);\n",
              "        const docLink = document.createElement('div');\n",
              "        docLink.innerHTML = docLinkHtml;\n",
              "        element.appendChild(docLink);\n",
              "      }\n",
              "    </script>\n",
              "  </div>\n",
              "\n",
              "\n",
              "<div id=\"df-f531941e-8f09-4f28-9356-09bf810036e7\">\n",
              "  <button class=\"colab-df-quickchart\" onclick=\"quickchart('df-f531941e-8f09-4f28-9356-09bf810036e7')\"\n",
              "            title=\"Suggest charts\"\n",
              "            style=\"display:none;\">\n",
              "\n",
              "<svg xmlns=\"http://www.w3.org/2000/svg\" height=\"24px\"viewBox=\"0 0 24 24\"\n",
              "     width=\"24px\">\n",
              "    <g>\n",
              "        <path d=\"M19 3H5c-1.1 0-2 .9-2 2v14c0 1.1.9 2 2 2h14c1.1 0 2-.9 2-2V5c0-1.1-.9-2-2-2zM9 17H7v-7h2v7zm4 0h-2V7h2v10zm4 0h-2v-4h2v4z\"/>\n",
              "    </g>\n",
              "</svg>\n",
              "  </button>\n",
              "\n",
              "<style>\n",
              "  .colab-df-quickchart {\n",
              "      --bg-color: #E8F0FE;\n",
              "      --fill-color: #1967D2;\n",
              "      --hover-bg-color: #E2EBFA;\n",
              "      --hover-fill-color: #174EA6;\n",
              "      --disabled-fill-color: #AAA;\n",
              "      --disabled-bg-color: #DDD;\n",
              "  }\n",
              "\n",
              "  [theme=dark] .colab-df-quickchart {\n",
              "      --bg-color: #3B4455;\n",
              "      --fill-color: #D2E3FC;\n",
              "      --hover-bg-color: #434B5C;\n",
              "      --hover-fill-color: #FFFFFF;\n",
              "      --disabled-bg-color: #3B4455;\n",
              "      --disabled-fill-color: #666;\n",
              "  }\n",
              "\n",
              "  .colab-df-quickchart {\n",
              "    background-color: var(--bg-color);\n",
              "    border: none;\n",
              "    border-radius: 50%;\n",
              "    cursor: pointer;\n",
              "    display: none;\n",
              "    fill: var(--fill-color);\n",
              "    height: 32px;\n",
              "    padding: 0;\n",
              "    width: 32px;\n",
              "  }\n",
              "\n",
              "  .colab-df-quickchart:hover {\n",
              "    background-color: var(--hover-bg-color);\n",
              "    box-shadow: 0 1px 2px rgba(60, 64, 67, 0.3), 0 1px 3px 1px rgba(60, 64, 67, 0.15);\n",
              "    fill: var(--button-hover-fill-color);\n",
              "  }\n",
              "\n",
              "  .colab-df-quickchart-complete:disabled,\n",
              "  .colab-df-quickchart-complete:disabled:hover {\n",
              "    background-color: var(--disabled-bg-color);\n",
              "    fill: var(--disabled-fill-color);\n",
              "    box-shadow: none;\n",
              "  }\n",
              "\n",
              "  .colab-df-spinner {\n",
              "    border: 2px solid var(--fill-color);\n",
              "    border-color: transparent;\n",
              "    border-bottom-color: var(--fill-color);\n",
              "    animation:\n",
              "      spin 1s steps(1) infinite;\n",
              "  }\n",
              "\n",
              "  @keyframes spin {\n",
              "    0% {\n",
              "      border-color: transparent;\n",
              "      border-bottom-color: var(--fill-color);\n",
              "      border-left-color: var(--fill-color);\n",
              "    }\n",
              "    20% {\n",
              "      border-color: transparent;\n",
              "      border-left-color: var(--fill-color);\n",
              "      border-top-color: var(--fill-color);\n",
              "    }\n",
              "    30% {\n",
              "      border-color: transparent;\n",
              "      border-left-color: var(--fill-color);\n",
              "      border-top-color: var(--fill-color);\n",
              "      border-right-color: var(--fill-color);\n",
              "    }\n",
              "    40% {\n",
              "      border-color: transparent;\n",
              "      border-right-color: var(--fill-color);\n",
              "      border-top-color: var(--fill-color);\n",
              "    }\n",
              "    60% {\n",
              "      border-color: transparent;\n",
              "      border-right-color: var(--fill-color);\n",
              "    }\n",
              "    80% {\n",
              "      border-color: transparent;\n",
              "      border-right-color: var(--fill-color);\n",
              "      border-bottom-color: var(--fill-color);\n",
              "    }\n",
              "    90% {\n",
              "      border-color: transparent;\n",
              "      border-bottom-color: var(--fill-color);\n",
              "    }\n",
              "  }\n",
              "</style>\n",
              "\n",
              "  <script>\n",
              "    async function quickchart(key) {\n",
              "      const quickchartButtonEl =\n",
              "        document.querySelector('#' + key + ' button');\n",
              "      quickchartButtonEl.disabled = true;  // To prevent multiple clicks.\n",
              "      quickchartButtonEl.classList.add('colab-df-spinner');\n",
              "      try {\n",
              "        const charts = await google.colab.kernel.invokeFunction(\n",
              "            'suggestCharts', [key], {});\n",
              "      } catch (error) {\n",
              "        console.error('Error during call to suggestCharts:', error);\n",
              "      }\n",
              "      quickchartButtonEl.classList.remove('colab-df-spinner');\n",
              "      quickchartButtonEl.classList.add('colab-df-quickchart-complete');\n",
              "    }\n",
              "    (() => {\n",
              "      let quickchartButtonEl =\n",
              "        document.querySelector('#df-f531941e-8f09-4f28-9356-09bf810036e7 button');\n",
              "      quickchartButtonEl.style.display =\n",
              "        google.colab.kernel.accessAllowed ? 'block' : 'none';\n",
              "    })();\n",
              "  </script>\n",
              "</div>\n",
              "\n",
              "    </div>\n",
              "  </div>\n"
            ]
          },
          "metadata": {},
          "execution_count": 12
        }
      ]
    },
    {
      "cell_type": "code",
      "source": [
        "iris_teste.columns"
      ],
      "metadata": {
        "colab": {
          "base_uri": "https://localhost:8080/"
        },
        "id": "NHUNtEFknRf1",
        "outputId": "0865031b-feff-441f-bfa9-c5383df22bd9"
      },
      "execution_count": 13,
      "outputs": [
        {
          "output_type": "execute_result",
          "data": {
            "text/plain": [
              "Index(['sepal_length', 'sepal_width', 'petal_length', 'petal_width',\n",
              "       'species'],\n",
              "      dtype='object')"
            ]
          },
          "metadata": {},
          "execution_count": 13
        }
      ]
    },
    {
      "cell_type": "code",
      "source": [],
      "metadata": {
        "id": "CpuV3G3inOY-"
      },
      "execution_count": null,
      "outputs": []
    },
    {
      "cell_type": "code",
      "source": [],
      "metadata": {
        "id": "MMRCazeEnJ4_"
      },
      "execution_count": null,
      "outputs": []
    },
    {
      "cell_type": "markdown",
      "metadata": {
        "id": "EEDX-0Vgji0w"
      },
      "source": [
        "Verifique as dimensões dos dois conjuntos.\n",
        "\n",
        "O conjunto de treino deve ter 64 linhas e 5 colunas, enquanto o conjunto de teste deve ter 86 linhas e 5 colunas."
      ]
    },
    {
      "cell_type": "code",
      "execution_count": null,
      "metadata": {
        "id": "YoztDS4Kji0w"
      },
      "outputs": [],
      "source": [
        "print(\"O conjuto de treino\", \"está ok\" if iris_treino.shape == (64,5) else \"contém erros\")\n",
        "print(\"O conjuto de teste\", \"está ok\" if iris_teste.shape == (86,5) else \"contém erros\")"
      ]
    },
    {
      "cell_type": "markdown",
      "metadata": {
        "id": "Jx7mB-Qrji0w"
      },
      "source": [
        "Verifique o índice das colunas de um dos dois conjuntos."
      ]
    },
    {
      "cell_type": "code",
      "execution_count": null,
      "metadata": {
        "id": "jbFoyykPji0w"
      },
      "outputs": [],
      "source": [
        "iris_treino.columns.values"
      ]
    },
    {
      "cell_type": "markdown",
      "metadata": {
        "id": "iKKREZyHji0x"
      },
      "source": [
        "Essas colunas são os **atributos** da base. Eles descrevem espécimes de três sub-espécies da flor Iris: *Iris versicolor*, *Iris setosa* e *Iris virginica*.\n",
        "\n",
        "As flores são ilustras na figura a seguir."
      ]
    },
    {
      "cell_type": "markdown",
      "metadata": {
        "id": "mMNTVd9q5Cxj"
      },
      "source": [
        "![texto alternativo](https://drive.google.com/uc?export=view&id=1y60Qw8n06cfSgDXL_sqHFaTYQl-tTpmE)"
      ]
    },
    {
      "cell_type": "markdown",
      "metadata": {
        "id": "TIR5GCAYji0x"
      },
      "source": [
        "Os atributos são os seguintes:\n",
        "\n",
        "- `sepal_length` e `sepal_width`: comprimento e largura da sépala, respectivamente\n",
        "- `petal_length` e `petal_width`: comprimento e largura da pétala, respectivamente"
      ]
    },
    {
      "cell_type": "markdown",
      "metadata": {
        "id": "Xr6T-nNDji0x"
      },
      "source": [
        "Note que as classes são strings."
      ]
    },
    {
      "cell_type": "markdown",
      "metadata": {
        "id": "6syFI3EMji0x"
      },
      "source": [
        "### Atividade 2\n",
        "\n",
        "Use o método `pd.Series.unique()`, aplicado na coluna `species`, para obter os valores das três classes."
      ]
    },
    {
      "cell_type": "code",
      "execution_count": 17,
      "metadata": {
        "colab": {
          "base_uri": "https://localhost:8080/"
        },
        "id": "fK0_u4u0ji0x",
        "outputId": "1b22493b-5371-4966-b929-1db909614d2c"
      },
      "outputs": [
        {
          "output_type": "execute_result",
          "data": {
            "text/plain": [
              "0      virginica\n",
              "1      virginica\n",
              "2      virginica\n",
              "3     versicolor\n",
              "4     versicolor\n",
              "         ...    \n",
              "81    versicolor\n",
              "82     virginica\n",
              "83     virginica\n",
              "84     virginica\n",
              "85     virginica\n",
              "Name: species, Length: 86, dtype: object"
            ]
          },
          "metadata": {},
          "execution_count": 17
        }
      ],
      "source": [
        "iris_treino['species']"
      ]
    },
    {
      "cell_type": "code",
      "source": [
        "iris_treino.loc[:,'species']"
      ],
      "metadata": {
        "colab": {
          "base_uri": "https://localhost:8080/"
        },
        "id": "_NW0kXZMpOuc",
        "outputId": "601c1872-1f50-4d47-a2ae-0ea95184dc2d"
      },
      "execution_count": 19,
      "outputs": [
        {
          "output_type": "execute_result",
          "data": {
            "text/plain": [
              "0      virginica\n",
              "1      virginica\n",
              "2      virginica\n",
              "3     versicolor\n",
              "4     versicolor\n",
              "         ...    \n",
              "81    versicolor\n",
              "82     virginica\n",
              "83     virginica\n",
              "84     virginica\n",
              "85     virginica\n",
              "Name: species, Length: 86, dtype: object"
            ]
          },
          "metadata": {},
          "execution_count": 19
        }
      ]
    },
    {
      "cell_type": "code",
      "source": [
        "iris_treino.iloc[:,-1]"
      ],
      "metadata": {
        "colab": {
          "base_uri": "https://localhost:8080/"
        },
        "id": "xZM3BI7ppbbU",
        "outputId": "a6c860e2-ced3-4848-d489-ea2e8fa67c0d"
      },
      "execution_count": 20,
      "outputs": [
        {
          "output_type": "execute_result",
          "data": {
            "text/plain": [
              "0      virginica\n",
              "1      virginica\n",
              "2      virginica\n",
              "3     versicolor\n",
              "4     versicolor\n",
              "         ...    \n",
              "81    versicolor\n",
              "82     virginica\n",
              "83     virginica\n",
              "84     virginica\n",
              "85     virginica\n",
              "Name: species, Length: 86, dtype: object"
            ]
          },
          "metadata": {},
          "execution_count": 20
        }
      ]
    },
    {
      "cell_type": "code",
      "source": [
        "listaEspecie=iris_treino.loc[:,'species']\n",
        "listaEspecie1=iris_treino.iloc[:,-1]"
      ],
      "metadata": {
        "id": "YgsWFzmdqSY1"
      },
      "execution_count": 30,
      "outputs": []
    },
    {
      "cell_type": "code",
      "source": [
        "pd.Series.unique(listaEspecie)"
      ],
      "metadata": {
        "colab": {
          "base_uri": "https://localhost:8080/"
        },
        "id": "vZJWQ6zlpt0y",
        "outputId": "4e653858-4810-453e-c0f4-889031f2ede7"
      },
      "execution_count": 24,
      "outputs": [
        {
          "output_type": "execute_result",
          "data": {
            "text/plain": [
              "array(['virginica', 'versicolor', 'setosa'], dtype=object)"
            ]
          },
          "metadata": {},
          "execution_count": 24
        }
      ]
    },
    {
      "cell_type": "code",
      "source": [
        "list(pd.Series.unique(listaEspecie))"
      ],
      "metadata": {
        "colab": {
          "base_uri": "https://localhost:8080/"
        },
        "id": "mLtrrudorq76",
        "outputId": "f64974cd-7d2d-4295-cd95-271d37f8f7c5"
      },
      "execution_count": 29,
      "outputs": [
        {
          "output_type": "execute_result",
          "data": {
            "text/plain": [
              "['virginica', 'versicolor', 'setosa']"
            ]
          },
          "metadata": {},
          "execution_count": 29
        }
      ]
    },
    {
      "cell_type": "code",
      "source": [
        "pd.Series.unique(listaEspecie1)"
      ],
      "metadata": {
        "colab": {
          "base_uri": "https://localhost:8080/"
        },
        "id": "3cXf1MOCsZtM",
        "outputId": "09a8e869-13b5-404a-ddc4-64da9e3a5e64"
      },
      "execution_count": 31,
      "outputs": [
        {
          "output_type": "execute_result",
          "data": {
            "text/plain": [
              "array(['virginica', 'versicolor', 'setosa'], dtype=object)"
            ]
          },
          "metadata": {},
          "execution_count": 31
        }
      ]
    },
    {
      "cell_type": "code",
      "source": [
        "list(pd.Series.unique(listaEspecie1))"
      ],
      "metadata": {
        "colab": {
          "base_uri": "https://localhost:8080/"
        },
        "id": "yy4JxxeHsnpQ",
        "outputId": "e5eb87a5-0959-4a21-d93d-1a5f6f8b1906"
      },
      "execution_count": 32,
      "outputs": [
        {
          "output_type": "execute_result",
          "data": {
            "text/plain": [
              "['virginica', 'versicolor', 'setosa']"
            ]
          },
          "metadata": {},
          "execution_count": 32
        }
      ]
    },
    {
      "cell_type": "markdown",
      "metadata": {
        "id": "JXDGPj17ji0x"
      },
      "source": [
        "Uma característica do scikit-learn é que as suas classes exigem valores numéricos. É necessário converter as strings utilizando um esquema de codificação. Por exemplo\n",
        "\n",
        "Nome da classe | Código numérico\n",
        ":-- | :--\n",
        "`setosa` | 0\n",
        "`versicolor` | 1\n",
        "`virginica` | 2\n",
        "\n",
        "Essa codificação pode ser feita com a classe `LabelEncoder`, do módulo `sklearn.preprocessing`.\n",
        "\n",
        "Vamos fazer isso ao mesmo tempo que separamos os conjuntos entre características (atributos de entrada) e rótulos."
      ]
    },
    {
      "cell_type": "markdown",
      "metadata": {
        "id": "R7ZQAgKtji0x"
      },
      "source": [
        "1) Vamos obter as características de treino e de teste"
      ]
    },
    {
      "cell_type": "code",
      "execution_count": 33,
      "metadata": {
        "id": "ImUY12UHji0x"
      },
      "outputs": [],
      "source": [
        "X_train = iris_treino.iloc[:, :-1].values\n",
        "X_test = iris_teste.iloc[:, :-1].values"
      ]
    },
    {
      "cell_type": "markdown",
      "metadata": {
        "id": "viZ8yNi_ji0x"
      },
      "source": [
        "2. Vamos \"treinar\" um codificador de rótulos nas classes do conjunto de treinamento"
      ]
    },
    {
      "cell_type": "code",
      "execution_count": 35,
      "metadata": {
        "id": "Wcs02LnEji0y"
      },
      "outputs": [],
      "source": [
        "from sklearn.preprocessing import LabelEncoder"
      ]
    },
    {
      "cell_type": "code",
      "execution_count": 36,
      "metadata": {
        "id": "sOUouQXXji0y"
      },
      "outputs": [],
      "source": [
        "le = LabelEncoder().fit(iris_treino['species'])"
      ]
    },
    {
      "cell_type": "markdown",
      "metadata": {
        "id": "jPsb2jN1ji0y"
      },
      "source": [
        "3. Vamos obter as classes de treino e de teste já codificadas."
      ]
    },
    {
      "cell_type": "code",
      "execution_count": 37,
      "metadata": {
        "id": "KSUGIsxrji0y"
      },
      "outputs": [],
      "source": [
        "y_train = le.transform(iris_treino['species'])\n",
        "y_test = le.transform(iris_teste['species'])"
      ]
    },
    {
      "cell_type": "code",
      "source": [
        "y_test"
      ],
      "metadata": {
        "colab": {
          "base_uri": "https://localhost:8080/"
        },
        "id": "SzaL0oHyvNzV",
        "outputId": "6beb598b-8f3a-4842-be07-aad47942d483"
      },
      "execution_count": 38,
      "outputs": [
        {
          "output_type": "execute_result",
          "data": {
            "text/plain": [
              "array([2, 0, 2, 1, 0, 2, 1, 2, 0, 0, 1, 1, 0, 0, 2, 1, 0, 2, 1, 2, 0, 0,\n",
              "       2, 1, 1, 0, 1, 0, 2, 0, 0, 2, 1, 0, 0, 1, 1, 2, 1, 1, 0, 1, 2, 0,\n",
              "       0, 2, 1, 0, 1, 0, 0, 0, 2, 2, 2, 1, 0, 0, 1, 0, 1, 1, 1, 1])"
            ]
          },
          "metadata": {},
          "execution_count": 38
        }
      ]
    },
    {
      "cell_type": "markdown",
      "metadata": {
        "id": "xSVnrwapji0y"
      },
      "source": [
        "## Treinamento do modelo"
      ]
    },
    {
      "cell_type": "markdown",
      "metadata": {
        "id": "xuDYfnS0Rp98"
      },
      "source": [
        "Agora que a base de dados está carregada e as duas partições de dados estão criadas, nós utilizaremos o método de árvore de decisão para classificação."
      ]
    },
    {
      "cell_type": "code",
      "execution_count": 39,
      "metadata": {
        "id": "qSz0ahT7ji0y"
      },
      "outputs": [],
      "source": [
        "from sklearn.tree import DecisionTreeClassifier"
      ]
    },
    {
      "cell_type": "markdown",
      "metadata": {
        "id": "7RM5o7bQji0y"
      },
      "source": [
        "Para treinar e aplicar modelos, o scikit-learn adota um protocolo de duas partes:\n",
        "\n",
        "- `fit`: realiza o *ajuste* do modelo aos dados, encontrando os parâmetros da melhor hipótese à amostra de treinamento\n",
        "- `predict`: aplica o modelo a um conjunto de dados, realizando a previsão da classe\n",
        "\n",
        "Para o ajuste, o modelo precisa de acesso às características e às classes. Para previsões, o modelo precisa apenas das características dos exemplos a serem previstos, e retorna os valores previstos."
      ]
    },
    {
      "cell_type": "markdown",
      "metadata": {
        "id": "oSQTCyqqji0y"
      },
      "source": [
        "### Atividade 3\n",
        "\n",
        "Instancie um objeto da classe `DecisionTreeClassifier`. Caso nenhum argumento seja passado para o construtor, será utilizado o critério de impureza de Gini para encontrar os atributos. Para usar ganho de informação e entropia, especifique `criterion='entropy'`.\n",
        "\n",
        "Em seguida, usando o método `fit`, faça o treinamento do modelo para a amostra de treino."
      ]
    },
    {
      "cell_type": "code",
      "execution_count": 47,
      "metadata": {
        "id": "D2nCFMGeji0z"
      },
      "outputs": [],
      "source": [
        "clf = DecisionTreeClassifier()"
      ]
    },
    {
      "cell_type": "code",
      "source": [
        "type(clf)"
      ],
      "metadata": {
        "colab": {
          "base_uri": "https://localhost:8080/"
        },
        "id": "QCfMvh1fxspk",
        "outputId": "9d6bb14f-7790-433c-c5d2-a76c6651e0e5"
      },
      "execution_count": 48,
      "outputs": [
        {
          "output_type": "execute_result",
          "data": {
            "text/plain": [
              "sklearn.tree._classes.DecisionTreeClassifier"
            ]
          },
          "metadata": {},
          "execution_count": 48
        }
      ]
    },
    {
      "cell_type": "code",
      "execution_count": 49,
      "metadata": {
        "id": "xRRuOXyVji0z"
      },
      "outputs": [],
      "source": [
        "clf.fit(X_train,y_train);"
      ]
    },
    {
      "cell_type": "markdown",
      "metadata": {
        "id": "uwPJvALaji0z"
      },
      "source": [
        "Vamos visualizar essa árvore? Use o método `DecisionTreeClassifier.plot_tree()` para desenhar uma figura que representa as decisões que foram aprendidas pelo modelo de árvore. O método `plt.figure()` é usado primeiramente para especificarmos as dimensões da figura que será plotada."
      ]
    },
    {
      "cell_type": "code",
      "execution_count": 52,
      "metadata": {
        "colab": {
          "base_uri": "https://localhost:8080/",
          "height": 499
        },
        "id": "4GU91Fcqji0z",
        "outputId": "73f543e7-c76b-44dd-a6b5-e21cc3f66224"
      },
      "outputs": [
        {
          "output_type": "display_data",
          "data": {
            "text/plain": [
              "<Figure size 500x600 with 1 Axes>"
            ],
            "image/png": "[encoded data removed]"
          },
          "metadata": {}
        }
      ],
      "source": [
        "plt.figure(figsize=(5, 6));\n",
        "sklearn.tree.plot_tree(clf);"
      ]
    },
    {
      "cell_type": "markdown",
      "metadata": {
        "id": "PdHMtLteji0z"
      },
      "source": [
        "## Teste do modelo"
      ]
    },
    {
      "cell_type": "markdown",
      "metadata": {
        "id": "LVSq4gjoji0z"
      },
      "source": [
        "Agora vamos verificar como esse modelo se comporta quando é aplicado aos exemplos do conjunto de teste. Isso nos permite simular o desempenho do modelo \"no mundo real\"."
      ]
    },
    {
      "cell_type": "markdown",
      "metadata": {
        "id": "E40p1eCdji0z"
      },
      "source": [
        "### Atividade 4\n",
        "\n",
        "Faça previsão com o modelo nos dados de teste."
      ]
    },
    {
      "cell_type": "code",
      "execution_count": null,
      "metadata": {
        "id": "qBowSyOcji06"
      },
      "outputs": [],
      "source": [
        "ypred = ..."
      ]
    },
    {
      "cell_type": "markdown",
      "metadata": {
        "id": "gRlysKzxji06"
      },
      "source": [
        "Verifique quais foram as classes preditas."
      ]
    },
    {
      "cell_type": "code",
      "execution_count": null,
      "metadata": {
        "id": "uvVTtUi9ji06"
      },
      "outputs": [],
      "source": [
        "ypred"
      ]
    },
    {
      "cell_type": "markdown",
      "metadata": {
        "id": "-Z_ww-W_ji06"
      },
      "source": [
        "Os resultados são todos numéricos... mas podemos usar o `LabelEncoder` para verificar quais flores são essas."
      ]
    },
    {
      "cell_type": "code",
      "execution_count": null,
      "metadata": {
        "id": "9EwuMu19ji06"
      },
      "outputs": [],
      "source": [
        "le.inverse_transform(ypred)"
      ]
    },
    {
      "cell_type": "markdown",
      "metadata": {
        "id": "PyH7kzU2ji06"
      },
      "source": [
        "Mais convenientemente, podemos fazer um `DataFrame` comparando quais casos foram corretamente classificados e quais foram incorretamente classificados."
      ]
    },
    {
      "cell_type": "code",
      "execution_count": null,
      "metadata": {
        "id": "JCCJwvtLji06"
      },
      "outputs": [],
      "source": [
        "tabela = pd.DataFrame(columns=['Classe verdadeira', 'Classe predita'])\n",
        "tabela.iloc[:,0] = iris_teste['species']\n",
        "tabela.iloc[:,1] = le.inverse_transform(ypred)\n",
        "tabela"
      ]
    },
    {
      "cell_type": "markdown",
      "metadata": {
        "id": "gls5qa0Rji06"
      },
      "source": [
        "Parece que alguns casos estão incorretos..."
      ]
    },
    {
      "cell_type": "code",
      "execution_count": null,
      "metadata": {
        "id": "tZFzAngNji06"
      },
      "outputs": [],
      "source": [
        "tabela[tabela.iloc[:,0] != tabela.iloc[:,1]]"
      ]
    },
    {
      "cell_type": "markdown",
      "metadata": {
        "id": "tLXN7CYVji06"
      },
      "source": [
        "Podemos computar isso numericamente com uma **métrica** chamada **acurácia**. As métricas são funções numéricas utilizadas para medir a qualidade dos modelos de acordo com diferentes critérios. A acurácia, especificamente, mede quantos exemplos foram corretamente classificados pelo modelo. É uma métrica típica de problemas de **classificação** e pode ser calculada com a seguinte equação:\n",
        "\n",
        "$$\\text{Acc}_X(y) = \\frac{1}{|X|}\\sum_{x \\in X} \\mathsf{I}\\left(\\hat{f}(x) = {\\large\\xi}(x)\\right)$$\n",
        "\n",
        "Sendo que\n",
        "\n",
        "- $X$ é a amostra na qual estamos calculando a acurácia\n",
        "- $I(\\cdot)$ é a função indicadora; ela vale $1$ se a expressão for verdadeira e $0$ caso contrário\n",
        "- $\\hat{f}(x)$ é a saída do modelo para o exemplo $x$\n",
        "- ${\\large\\xi}(x)$ é o rótulo verdadeiro (saída da função-conceito)$\n",
        "\n",
        "O resultado será um valor no intervalo $[0,1]$. Quanto maior a acurácia, melhor o desempenho do modelo. Acurácia zero significa que o modelo errou todos os exemplos; acurácia um significa que todos foram corretamente classificados."
      ]
    },
    {
      "cell_type": "markdown",
      "metadata": {
        "id": "ac9_3hYbji06"
      },
      "source": [
        "O cálculo da acurácia é simples, mas o scikit-learn pode fazer isso por nós também."
      ]
    },
    {
      "cell_type": "markdown",
      "metadata": {
        "id": "U2-QMTj9ji06"
      },
      "source": [
        "### Atividade 5\n",
        "\n",
        "Importe a função `sklearn.metrics.accuracy_score` e use essa função para calcular a acurácia obtida pela nossa árvore de decisão no conjunto de testes."
      ]
    },
    {
      "cell_type": "code",
      "execution_count": null,
      "metadata": {
        "id": "i88ov22Yji07"
      },
      "outputs": [],
      "source": []
    }
  ],
  "metadata": {
    "colab": {
      "provenance": [],
      "include_colab_link": true
    },
    "kernelspec": {
      "display_name": "Python 3 (ipykernel)",
      "language": "python",
      "name": "python3"
    },
    "language_info": {
      "codemirror_mode": {
        "name": "ipython",
        "version": 3
      },
      "file_extension": ".py",
      "mimetype": "text/x-python",
      "name": "python",
      "nbconvert_exporter": "python",
      "pygments_lexer": "ipython3",
      "version": "3.11.2"
    }
  },
  "nbformat": 4,
  "nbformat_minor": 0
}