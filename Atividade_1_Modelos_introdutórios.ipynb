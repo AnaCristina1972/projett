{
  "cells": [
    {
      "cell_type": "markdown",
      "metadata": {
        "id": "view-in-github",
        "colab_type": "text"
      },
      "source": [
        "<a href=\"https://colab.research.google.com/github/AnaCristina1972/projett/blob/master/Atividade_1_Modelos_introdut%C3%B3rios.ipynb\" target=\"_parent\"><img src=\"https://colab.research.google.com/assets/colab-badge.svg\" alt=\"Open In Colab\"/></a>"
      ]
    },
    {
      "cell_type": "markdown",
      "id": "2d6f1a72",
      "metadata": {
        "id": "2d6f1a72"
      },
      "source": [
        "# Atividade 1\n",
        "\n",
        "## Modelos Introdutórios"
      ]
    },
    {
      "cell_type": "markdown",
      "id": "1b722e51",
      "metadata": {
        "id": "1b722e51"
      },
      "source": [
        "Neste *notebook* você deverá trabalhar com os modelos estudados até aqui:\n",
        "\n",
        "- Árvore de decisão\n",
        "- Naive Bayes\n",
        "- k-NN\n",
        "\n",
        "Para cada modelo você deverá:\n",
        "\n",
        "- Fazer ajuste de hiperparâmetros usando um conjunto de treinamento e um conjunto de validação\n",
        "- Testar o modelo usando um conjunto de treinamento e um conjunto de testes"
      ]
    },
    {
      "cell_type": "markdown",
      "id": "be718fb9",
      "metadata": {
        "id": "be718fb9"
      },
      "source": [
        "### Passo 1: Importe as bibliotecas e carregue os dados"
      ]
    },
    {
      "cell_type": "markdown",
      "id": "3866c70b",
      "metadata": {
        "id": "3866c70b"
      },
      "source": [
        "Vamos importar todas as bibliotecas e funções de uma vez:"
      ]
    },
    {
      "cell_type": "code",
      "execution_count": null,
      "id": "681c4da7",
      "metadata": {
        "id": "681c4da7"
      },
      "outputs": [],
      "source": [
        "import pandas as pd\n",
        "import numpy as np\n",
        "\n",
        "from sklearn.tree import DecisionTreeClassifier\n",
        "from sklearn.naive_bayes import GaussianNB\n",
        "from sklearn.neighbors import KNeighborsClassifier\n",
        "\n",
        "from sklearn.preprocessing import LabelEncoder\n",
        "from sklearn.model_selection import train_test_split\n",
        "from sklearn.metrics import accuracy_score"
      ]
    },
    {
      "cell_type": "markdown",
      "id": "72479cd1",
      "metadata": {
        "id": "72479cd1"
      },
      "source": [
        "Use a função `pd.read_csv()` para carregar o arquivo de treinamento (`iris-treino.csv`)."
      ]
    },
    {
      "cell_type": "markdown",
      "id": "b9e583e5",
      "metadata": {
        "id": "b9e583e5"
      },
      "source": [
        "Vamos trabalhar com os arquivos disponibilizados no ColabWeb."
      ]
    },
    {
      "cell_type": "code",
      "execution_count": null,
      "id": "d684027d",
      "metadata": {
        "id": "d684027d"
      },
      "outputs": [],
      "source": [
        "treino = pd.read_csv(\"~/Downloads/iris-treino.csv\")   # <-- complete o código"
      ]
    },
    {
      "cell_type": "code",
      "execution_count": null,
      "id": "ff97faea",
      "metadata": {
        "id": "ff97faea"
      },
      "outputs": [],
      "source": [
        "teste =pd.read_csv(\"~/Downloads/iris-teste.csv\")   # <-- complete o código"
      ]
    },
    {
      "cell_type": "markdown",
      "id": "7a6c476a",
      "metadata": {
        "id": "7a6c476a"
      },
      "source": [
        "Use a função `pd.read_csv()` para carregar o arquivo de teste (`iris-teste.csv`)."
      ]
    },
    {
      "cell_type": "markdown",
      "id": "3ee04eab",
      "metadata": {
        "id": "3ee04eab"
      },
      "source": [
        "## Atributo"
      ]
    },
    {
      "cell_type": "code",
      "execution_count": null,
      "id": "82151664",
      "metadata": {
        "scrolled": true,
        "id": "82151664",
        "outputId": "efb2435d-2445-4100-9adb-2a0c554f115b"
      },
      "outputs": [
        {
          "data": {
            "text/html": [
              "<div>\n",
              "<style scoped>\n",
              "    .dataframe tbody tr th:only-of-type {\n",
              "        vertical-align: middle;\n",
              "    }\n",
              "\n",
              "    .dataframe tbody tr th {\n",
              "        vertical-align: top;\n",
              "    }\n",
              "\n",
              "    .dataframe thead th {\n",
              "        text-align: right;\n",
              "    }\n",
              "</style>\n",
              "<table border=\"1\" class=\"dataframe\">\n",
              "  <thead>\n",
              "    <tr style=\"text-align: right;\">\n",
              "      <th></th>\n",
              "      <th>sepal_length</th>\n",
              "      <th>sepal_width</th>\n",
              "      <th>petal_length</th>\n",
              "      <th>petal_width</th>\n",
              "      <th>species</th>\n",
              "    </tr>\n",
              "  </thead>\n",
              "  <tbody>\n",
              "    <tr>\n",
              "      <th>0</th>\n",
              "      <td>6.2</td>\n",
              "      <td>3.4</td>\n",
              "      <td>5.4</td>\n",
              "      <td>2.3</td>\n",
              "      <td>virginica</td>\n",
              "    </tr>\n",
              "    <tr>\n",
              "      <th>1</th>\n",
              "      <td>5.1</td>\n",
              "      <td>3.3</td>\n",
              "      <td>1.7</td>\n",
              "      <td>0.5</td>\n",
              "      <td>setosa</td>\n",
              "    </tr>\n",
              "    <tr>\n",
              "      <th>2</th>\n",
              "      <td>6.7</td>\n",
              "      <td>2.5</td>\n",
              "      <td>5.8</td>\n",
              "      <td>1.8</td>\n",
              "      <td>virginica</td>\n",
              "    </tr>\n",
              "    <tr>\n",
              "      <th>3</th>\n",
              "      <td>5.6</td>\n",
              "      <td>2.5</td>\n",
              "      <td>3.9</td>\n",
              "      <td>1.1</td>\n",
              "      <td>versicolor</td>\n",
              "    </tr>\n",
              "    <tr>\n",
              "      <th>4</th>\n",
              "      <td>4.4</td>\n",
              "      <td>3.2</td>\n",
              "      <td>1.3</td>\n",
              "      <td>0.2</td>\n",
              "      <td>setosa</td>\n",
              "    </tr>\n",
              "    <tr>\n",
              "      <th>...</th>\n",
              "      <td>...</td>\n",
              "      <td>...</td>\n",
              "      <td>...</td>\n",
              "      <td>...</td>\n",
              "      <td>...</td>\n",
              "    </tr>\n",
              "    <tr>\n",
              "      <th>59</th>\n",
              "      <td>4.7</td>\n",
              "      <td>3.2</td>\n",
              "      <td>1.3</td>\n",
              "      <td>0.2</td>\n",
              "      <td>setosa</td>\n",
              "    </tr>\n",
              "    <tr>\n",
              "      <th>60</th>\n",
              "      <td>6.6</td>\n",
              "      <td>2.9</td>\n",
              "      <td>4.6</td>\n",
              "      <td>1.3</td>\n",
              "      <td>versicolor</td>\n",
              "    </tr>\n",
              "    <tr>\n",
              "      <th>61</th>\n",
              "      <td>6.4</td>\n",
              "      <td>3.2</td>\n",
              "      <td>4.5</td>\n",
              "      <td>1.5</td>\n",
              "      <td>versicolor</td>\n",
              "    </tr>\n",
              "    <tr>\n",
              "      <th>62</th>\n",
              "      <td>6.4</td>\n",
              "      <td>2.9</td>\n",
              "      <td>4.3</td>\n",
              "      <td>1.3</td>\n",
              "      <td>versicolor</td>\n",
              "    </tr>\n",
              "    <tr>\n",
              "      <th>63</th>\n",
              "      <td>6.2</td>\n",
              "      <td>2.2</td>\n",
              "      <td>4.5</td>\n",
              "      <td>1.5</td>\n",
              "      <td>versicolor</td>\n",
              "    </tr>\n",
              "  </tbody>\n",
              "</table>\n",
              "<p>64 rows × 5 columns</p>\n",
              "</div>"
            ],
            "text/plain": [
              "    sepal_length  sepal_width  petal_length  petal_width     species\n",
              "0            6.2          3.4           5.4          2.3   virginica\n",
              "1            5.1          3.3           1.7          0.5      setosa\n",
              "2            6.7          2.5           5.8          1.8   virginica\n",
              "3            5.6          2.5           3.9          1.1  versicolor\n",
              "4            4.4          3.2           1.3          0.2      setosa\n",
              "..           ...          ...           ...          ...         ...\n",
              "59           4.7          3.2           1.3          0.2      setosa\n",
              "60           6.6          2.9           4.6          1.3  versicolor\n",
              "61           6.4          3.2           4.5          1.5  versicolor\n",
              "62           6.4          2.9           4.3          1.3  versicolor\n",
              "63           6.2          2.2           4.5          1.5  versicolor\n",
              "\n",
              "[64 rows x 5 columns]"
            ]
          },
          "execution_count": 5,
          "metadata": {},
          "output_type": "execute_result"
        }
      ],
      "source": [
        "treino"
      ]
    },
    {
      "cell_type": "markdown",
      "id": "2d77de14",
      "metadata": {
        "id": "2d77de14"
      },
      "source": [
        "### Classe"
      ]
    },
    {
      "cell_type": "markdown",
      "id": "2a410592",
      "metadata": {
        "id": "2a410592"
      },
      "source": [
        "teste"
      ]
    },
    {
      "cell_type": "markdown",
      "id": "dba767f2",
      "metadata": {
        "id": "dba767f2"
      },
      "source": [
        "### Passo 2: processamento da classe"
      ]
    },
    {
      "cell_type": "code",
      "execution_count": null,
      "id": "8924fe9e",
      "metadata": {
        "id": "8924fe9e"
      },
      "outputs": [],
      "source": []
    },
    {
      "cell_type": "markdown",
      "id": "d20a89cc",
      "metadata": {
        "id": "d20a89cc"
      },
      "source": [
        "A última coluna contém o conceito (o resultado correto do mapeamento).\n",
        "\n",
        "O DataFrame contém strings para o conceito (nome da espécie). O scikit-learn requer que esse conceito seja composto por valores numéricos.\n",
        "\n",
        "Use a classe `LabelEncoder` para transformar esses valores em numéricos."
      ]
    },
    {
      "cell_type": "code",
      "execution_count": null,
      "id": "7a2ef257",
      "metadata": {
        "id": "7a2ef257"
      },
      "outputs": [],
      "source": [
        "treino_le = LabelEncoder()"
      ]
    },
    {
      "cell_type": "markdown",
      "id": "8c0194ad",
      "metadata": {
        "id": "8c0194ad"
      },
      "source": [
        "Primeiro, use `fit` sobre o conjunto de treinamento para \"aprender\" o mapeamento de string para inteiro"
      ]
    },
    {
      "cell_type": "code",
      "execution_count": null,
      "id": "8a3f3575",
      "metadata": {
        "id": "8a3f3575",
        "outputId": "547a6d9f-1023-4ced-d1bd-7d29e98ca6ee"
      },
      "outputs": [
        {
          "data": {
            "text/plain": [
              "LabelEncoder()"
            ]
          },
          "execution_count": 8,
          "metadata": {},
          "output_type": "execute_result"
        }
      ],
      "source": [
        "treino_le.fit(treino.iloc[:, -1])"
      ]
    },
    {
      "cell_type": "markdown",
      "id": "5c472ff2",
      "metadata": {
        "id": "5c472ff2"
      },
      "source": [
        "Agora, use `transform` para substituir as strings pelos valores numéricos. (**Observação**: dependendo da sua versão do Pandas, pode aparecer uma mensagem advertência na linha abaixo; ela pode ser ignorada)"
      ]
    },
    {
      "cell_type": "code",
      "execution_count": null,
      "id": "493e8850",
      "metadata": {
        "id": "493e8850"
      },
      "outputs": [],
      "source": [
        "treino.iloc[:, -1] = treino_le.transform(treino.iloc[:, -1])"
      ]
    },
    {
      "cell_type": "code",
      "execution_count": null,
      "id": "78e8dc57",
      "metadata": {
        "id": "78e8dc57",
        "outputId": "85ec9421-ab38-437f-96f1-2d23861a67c9"
      },
      "outputs": [
        {
          "data": {
            "text/html": [
              "<div>\n",
              "<style scoped>\n",
              "    .dataframe tbody tr th:only-of-type {\n",
              "        vertical-align: middle;\n",
              "    }\n",
              "\n",
              "    .dataframe tbody tr th {\n",
              "        vertical-align: top;\n",
              "    }\n",
              "\n",
              "    .dataframe thead th {\n",
              "        text-align: right;\n",
              "    }\n",
              "</style>\n",
              "<table border=\"1\" class=\"dataframe\">\n",
              "  <thead>\n",
              "    <tr style=\"text-align: right;\">\n",
              "      <th></th>\n",
              "      <th>sepal_length</th>\n",
              "      <th>sepal_width</th>\n",
              "      <th>petal_length</th>\n",
              "      <th>petal_width</th>\n",
              "      <th>species</th>\n",
              "    </tr>\n",
              "  </thead>\n",
              "  <tbody>\n",
              "    <tr>\n",
              "      <th>0</th>\n",
              "      <td>6.2</td>\n",
              "      <td>3.4</td>\n",
              "      <td>5.4</td>\n",
              "      <td>2.3</td>\n",
              "      <td>2</td>\n",
              "    </tr>\n",
              "    <tr>\n",
              "      <th>1</th>\n",
              "      <td>5.1</td>\n",
              "      <td>3.3</td>\n",
              "      <td>1.7</td>\n",
              "      <td>0.5</td>\n",
              "      <td>0</td>\n",
              "    </tr>\n",
              "    <tr>\n",
              "      <th>2</th>\n",
              "      <td>6.7</td>\n",
              "      <td>2.5</td>\n",
              "      <td>5.8</td>\n",
              "      <td>1.8</td>\n",
              "      <td>2</td>\n",
              "    </tr>\n",
              "    <tr>\n",
              "      <th>3</th>\n",
              "      <td>5.6</td>\n",
              "      <td>2.5</td>\n",
              "      <td>3.9</td>\n",
              "      <td>1.1</td>\n",
              "      <td>1</td>\n",
              "    </tr>\n",
              "    <tr>\n",
              "      <th>4</th>\n",
              "      <td>4.4</td>\n",
              "      <td>3.2</td>\n",
              "      <td>1.3</td>\n",
              "      <td>0.2</td>\n",
              "      <td>0</td>\n",
              "    </tr>\n",
              "    <tr>\n",
              "      <th>...</th>\n",
              "      <td>...</td>\n",
              "      <td>...</td>\n",
              "      <td>...</td>\n",
              "      <td>...</td>\n",
              "      <td>...</td>\n",
              "    </tr>\n",
              "    <tr>\n",
              "      <th>59</th>\n",
              "      <td>4.7</td>\n",
              "      <td>3.2</td>\n",
              "      <td>1.3</td>\n",
              "      <td>0.2</td>\n",
              "      <td>0</td>\n",
              "    </tr>\n",
              "    <tr>\n",
              "      <th>60</th>\n",
              "      <td>6.6</td>\n",
              "      <td>2.9</td>\n",
              "      <td>4.6</td>\n",
              "      <td>1.3</td>\n",
              "      <td>1</td>\n",
              "    </tr>\n",
              "    <tr>\n",
              "      <th>61</th>\n",
              "      <td>6.4</td>\n",
              "      <td>3.2</td>\n",
              "      <td>4.5</td>\n",
              "      <td>1.5</td>\n",
              "      <td>1</td>\n",
              "    </tr>\n",
              "    <tr>\n",
              "      <th>62</th>\n",
              "      <td>6.4</td>\n",
              "      <td>2.9</td>\n",
              "      <td>4.3</td>\n",
              "      <td>1.3</td>\n",
              "      <td>1</td>\n",
              "    </tr>\n",
              "    <tr>\n",
              "      <th>63</th>\n",
              "      <td>6.2</td>\n",
              "      <td>2.2</td>\n",
              "      <td>4.5</td>\n",
              "      <td>1.5</td>\n",
              "      <td>1</td>\n",
              "    </tr>\n",
              "  </tbody>\n",
              "</table>\n",
              "<p>64 rows × 5 columns</p>\n",
              "</div>"
            ],
            "text/plain": [
              "    sepal_length  sepal_width  petal_length  petal_width  species\n",
              "0            6.2          3.4           5.4          2.3        2\n",
              "1            5.1          3.3           1.7          0.5        0\n",
              "2            6.7          2.5           5.8          1.8        2\n",
              "3            5.6          2.5           3.9          1.1        1\n",
              "4            4.4          3.2           1.3          0.2        0\n",
              "..           ...          ...           ...          ...      ...\n",
              "59           4.7          3.2           1.3          0.2        0\n",
              "60           6.6          2.9           4.6          1.3        1\n",
              "61           6.4          3.2           4.5          1.5        1\n",
              "62           6.4          2.9           4.3          1.3        1\n",
              "63           6.2          2.2           4.5          1.5        1\n",
              "\n",
              "[64 rows x 5 columns]"
            ]
          },
          "execution_count": 10,
          "metadata": {},
          "output_type": "execute_result"
        }
      ],
      "source": [
        "treino"
      ]
    },
    {
      "cell_type": "markdown",
      "id": "5a3123ec",
      "metadata": {
        "id": "5a3123ec"
      },
      "source": [
        "Agora faça o mesmo com o teste."
      ]
    },
    {
      "cell_type": "code",
      "execution_count": null,
      "id": "3317168b",
      "metadata": {
        "id": "3317168b"
      },
      "outputs": [],
      "source": [
        "teste_le=LabelEncoder()"
      ]
    },
    {
      "cell_type": "code",
      "execution_count": null,
      "id": "71a67dc1",
      "metadata": {
        "id": "71a67dc1",
        "outputId": "b3d59f35-c61a-4f5b-e36c-c3af1233e91b"
      },
      "outputs": [
        {
          "data": {
            "text/plain": [
              "LabelEncoder()"
            ]
          },
          "execution_count": 12,
          "metadata": {},
          "output_type": "execute_result"
        }
      ],
      "source": [
        "teste_le.fit(teste.iloc[:, -1])#complete o código"
      ]
    },
    {
      "cell_type": "code",
      "execution_count": null,
      "id": "870641ed",
      "metadata": {
        "id": "870641ed"
      },
      "outputs": [],
      "source": [
        "teste.iloc[:, -1] = teste_le.transform(teste.iloc[:, -1])"
      ]
    },
    {
      "cell_type": "code",
      "execution_count": null,
      "id": "0d44bd91",
      "metadata": {
        "id": "0d44bd91",
        "outputId": "cb73ce69-d71c-459e-b8de-80fecd2354cf"
      },
      "outputs": [
        {
          "data": {
            "text/html": [
              "<div>\n",
              "<style scoped>\n",
              "    .dataframe tbody tr th:only-of-type {\n",
              "        vertical-align: middle;\n",
              "    }\n",
              "\n",
              "    .dataframe tbody tr th {\n",
              "        vertical-align: top;\n",
              "    }\n",
              "\n",
              "    .dataframe thead th {\n",
              "        text-align: right;\n",
              "    }\n",
              "</style>\n",
              "<table border=\"1\" class=\"dataframe\">\n",
              "  <thead>\n",
              "    <tr style=\"text-align: right;\">\n",
              "      <th></th>\n",
              "      <th>sepal_length</th>\n",
              "      <th>sepal_width</th>\n",
              "      <th>petal_length</th>\n",
              "      <th>petal_width</th>\n",
              "      <th>species</th>\n",
              "    </tr>\n",
              "  </thead>\n",
              "  <tbody>\n",
              "    <tr>\n",
              "      <th>0</th>\n",
              "      <td>7.7</td>\n",
              "      <td>3.8</td>\n",
              "      <td>6.7</td>\n",
              "      <td>2.2</td>\n",
              "      <td>2</td>\n",
              "    </tr>\n",
              "    <tr>\n",
              "      <th>1</th>\n",
              "      <td>6.3</td>\n",
              "      <td>3.3</td>\n",
              "      <td>6.0</td>\n",
              "      <td>2.5</td>\n",
              "      <td>2</td>\n",
              "    </tr>\n",
              "    <tr>\n",
              "      <th>2</th>\n",
              "      <td>7.2</td>\n",
              "      <td>3.2</td>\n",
              "      <td>6.0</td>\n",
              "      <td>1.8</td>\n",
              "      <td>2</td>\n",
              "    </tr>\n",
              "    <tr>\n",
              "      <th>3</th>\n",
              "      <td>7.0</td>\n",
              "      <td>3.2</td>\n",
              "      <td>4.7</td>\n",
              "      <td>1.4</td>\n",
              "      <td>1</td>\n",
              "    </tr>\n",
              "    <tr>\n",
              "      <th>4</th>\n",
              "      <td>6.8</td>\n",
              "      <td>2.8</td>\n",
              "      <td>4.8</td>\n",
              "      <td>1.4</td>\n",
              "      <td>1</td>\n",
              "    </tr>\n",
              "    <tr>\n",
              "      <th>...</th>\n",
              "      <td>...</td>\n",
              "      <td>...</td>\n",
              "      <td>...</td>\n",
              "      <td>...</td>\n",
              "      <td>...</td>\n",
              "    </tr>\n",
              "    <tr>\n",
              "      <th>81</th>\n",
              "      <td>5.6</td>\n",
              "      <td>3.0</td>\n",
              "      <td>4.1</td>\n",
              "      <td>1.3</td>\n",
              "      <td>1</td>\n",
              "    </tr>\n",
              "    <tr>\n",
              "      <th>82</th>\n",
              "      <td>6.0</td>\n",
              "      <td>2.2</td>\n",
              "      <td>5.0</td>\n",
              "      <td>1.5</td>\n",
              "      <td>2</td>\n",
              "    </tr>\n",
              "    <tr>\n",
              "      <th>83</th>\n",
              "      <td>6.3</td>\n",
              "      <td>3.4</td>\n",
              "      <td>5.6</td>\n",
              "      <td>2.4</td>\n",
              "      <td>2</td>\n",
              "    </tr>\n",
              "    <tr>\n",
              "      <th>84</th>\n",
              "      <td>7.1</td>\n",
              "      <td>3.0</td>\n",
              "      <td>5.9</td>\n",
              "      <td>2.1</td>\n",
              "      <td>2</td>\n",
              "    </tr>\n",
              "    <tr>\n",
              "      <th>85</th>\n",
              "      <td>6.4</td>\n",
              "      <td>2.8</td>\n",
              "      <td>5.6</td>\n",
              "      <td>2.1</td>\n",
              "      <td>2</td>\n",
              "    </tr>\n",
              "  </tbody>\n",
              "</table>\n",
              "<p>86 rows × 5 columns</p>\n",
              "</div>"
            ],
            "text/plain": [
              "    sepal_length  sepal_width  petal_length  petal_width  species\n",
              "0            7.7          3.8           6.7          2.2        2\n",
              "1            6.3          3.3           6.0          2.5        2\n",
              "2            7.2          3.2           6.0          1.8        2\n",
              "3            7.0          3.2           4.7          1.4        1\n",
              "4            6.8          2.8           4.8          1.4        1\n",
              "..           ...          ...           ...          ...      ...\n",
              "81           5.6          3.0           4.1          1.3        1\n",
              "82           6.0          2.2           5.0          1.5        2\n",
              "83           6.3          3.4           5.6          2.4        2\n",
              "84           7.1          3.0           5.9          2.1        2\n",
              "85           6.4          2.8           5.6          2.1        2\n",
              "\n",
              "[86 rows x 5 columns]"
            ]
          },
          "execution_count": 14,
          "metadata": {},
          "output_type": "execute_result"
        }
      ],
      "source": [
        "teste\n"
      ]
    },
    {
      "cell_type": "markdown",
      "id": "1d20799a",
      "metadata": {
        "id": "1d20799a"
      },
      "source": [
        "### Passo 3: Treino e teste dos modelos"
      ]
    },
    {
      "cell_type": "markdown",
      "id": "56368bc9",
      "metadata": {
        "id": "56368bc9"
      },
      "source": [
        "Usando os conhecimentos que você aprendeu nas aulas anteriores, treine e teste os modelos de árvore de decisão, Naive Bayes e k-NN.\n",
        "\n",
        "Não faça nenhum ajuste de hiperparâmetros. Use as configurações *default* de cada uma das classes."
      ]
    },
    {
      "cell_type": "code",
      "execution_count": null,
      "id": "b3b0792b",
      "metadata": {
        "id": "b3b0792b"
      },
      "outputs": [],
      "source": [
        "Xtreino=treino.iloc[:,: -1]"
      ]
    },
    {
      "cell_type": "code",
      "execution_count": null,
      "id": "07c5ed6c",
      "metadata": {
        "id": "07c5ed6c",
        "outputId": "19c97adb-4d44-4968-9021-a0e59110a8c6"
      },
      "outputs": [
        {
          "data": {
            "text/html": [
              "<div>\n",
              "<style scoped>\n",
              "    .dataframe tbody tr th:only-of-type {\n",
              "        vertical-align: middle;\n",
              "    }\n",
              "\n",
              "    .dataframe tbody tr th {\n",
              "        vertical-align: top;\n",
              "    }\n",
              "\n",
              "    .dataframe thead th {\n",
              "        text-align: right;\n",
              "    }\n",
              "</style>\n",
              "<table border=\"1\" class=\"dataframe\">\n",
              "  <thead>\n",
              "    <tr style=\"text-align: right;\">\n",
              "      <th></th>\n",
              "      <th>sepal_length</th>\n",
              "      <th>sepal_width</th>\n",
              "      <th>petal_length</th>\n",
              "      <th>petal_width</th>\n",
              "    </tr>\n",
              "  </thead>\n",
              "  <tbody>\n",
              "    <tr>\n",
              "      <th>0</th>\n",
              "      <td>6.2</td>\n",
              "      <td>3.4</td>\n",
              "      <td>5.4</td>\n",
              "      <td>2.3</td>\n",
              "    </tr>\n",
              "    <tr>\n",
              "      <th>1</th>\n",
              "      <td>5.1</td>\n",
              "      <td>3.3</td>\n",
              "      <td>1.7</td>\n",
              "      <td>0.5</td>\n",
              "    </tr>\n",
              "    <tr>\n",
              "      <th>2</th>\n",
              "      <td>6.7</td>\n",
              "      <td>2.5</td>\n",
              "      <td>5.8</td>\n",
              "      <td>1.8</td>\n",
              "    </tr>\n",
              "    <tr>\n",
              "      <th>3</th>\n",
              "      <td>5.6</td>\n",
              "      <td>2.5</td>\n",
              "      <td>3.9</td>\n",
              "      <td>1.1</td>\n",
              "    </tr>\n",
              "    <tr>\n",
              "      <th>4</th>\n",
              "      <td>4.4</td>\n",
              "      <td>3.2</td>\n",
              "      <td>1.3</td>\n",
              "      <td>0.2</td>\n",
              "    </tr>\n",
              "    <tr>\n",
              "      <th>...</th>\n",
              "      <td>...</td>\n",
              "      <td>...</td>\n",
              "      <td>...</td>\n",
              "      <td>...</td>\n",
              "    </tr>\n",
              "    <tr>\n",
              "      <th>59</th>\n",
              "      <td>4.7</td>\n",
              "      <td>3.2</td>\n",
              "      <td>1.3</td>\n",
              "      <td>0.2</td>\n",
              "    </tr>\n",
              "    <tr>\n",
              "      <th>60</th>\n",
              "      <td>6.6</td>\n",
              "      <td>2.9</td>\n",
              "      <td>4.6</td>\n",
              "      <td>1.3</td>\n",
              "    </tr>\n",
              "    <tr>\n",
              "      <th>61</th>\n",
              "      <td>6.4</td>\n",
              "      <td>3.2</td>\n",
              "      <td>4.5</td>\n",
              "      <td>1.5</td>\n",
              "    </tr>\n",
              "    <tr>\n",
              "      <th>62</th>\n",
              "      <td>6.4</td>\n",
              "      <td>2.9</td>\n",
              "      <td>4.3</td>\n",
              "      <td>1.3</td>\n",
              "    </tr>\n",
              "    <tr>\n",
              "      <th>63</th>\n",
              "      <td>6.2</td>\n",
              "      <td>2.2</td>\n",
              "      <td>4.5</td>\n",
              "      <td>1.5</td>\n",
              "    </tr>\n",
              "  </tbody>\n",
              "</table>\n",
              "<p>64 rows × 4 columns</p>\n",
              "</div>"
            ],
            "text/plain": [
              "    sepal_length  sepal_width  petal_length  petal_width\n",
              "0            6.2          3.4           5.4          2.3\n",
              "1            5.1          3.3           1.7          0.5\n",
              "2            6.7          2.5           5.8          1.8\n",
              "3            5.6          2.5           3.9          1.1\n",
              "4            4.4          3.2           1.3          0.2\n",
              "..           ...          ...           ...          ...\n",
              "59           4.7          3.2           1.3          0.2\n",
              "60           6.6          2.9           4.6          1.3\n",
              "61           6.4          3.2           4.5          1.5\n",
              "62           6.4          2.9           4.3          1.3\n",
              "63           6.2          2.2           4.5          1.5\n",
              "\n",
              "[64 rows x 4 columns]"
            ]
          },
          "execution_count": 75,
          "metadata": {},
          "output_type": "execute_result"
        }
      ],
      "source": [
        "Xtreino"
      ]
    },
    {
      "cell_type": "code",
      "execution_count": null,
      "id": "1d85364e",
      "metadata": {
        "id": "1d85364e"
      },
      "outputs": [],
      "source": [
        "ytreino=treino.iloc[:, -1]"
      ]
    },
    {
      "cell_type": "code",
      "execution_count": null,
      "id": "487195ab",
      "metadata": {
        "id": "487195ab",
        "outputId": "3cd08060-01ed-4b54-a021-5ed0a001e537"
      },
      "outputs": [
        {
          "data": {
            "text/plain": [
              "0     2\n",
              "1     0\n",
              "2     2\n",
              "3     1\n",
              "4     0\n",
              "     ..\n",
              "59    0\n",
              "60    1\n",
              "61    1\n",
              "62    1\n",
              "63    1\n",
              "Name: species, Length: 64, dtype: int32"
            ]
          },
          "execution_count": 82,
          "metadata": {},
          "output_type": "execute_result"
        }
      ],
      "source": [
        "ytreino"
      ]
    },
    {
      "cell_type": "code",
      "execution_count": null,
      "id": "ce674333",
      "metadata": {
        "id": "ce674333"
      },
      "outputs": [],
      "source": []
    },
    {
      "cell_type": "markdown",
      "id": "8c8af98d",
      "metadata": {
        "id": "8c8af98d"
      },
      "source": [
        "### Criando um arquivo"
      ]
    },
    {
      "cell_type": "markdown",
      "id": "50a82b9a",
      "metadata": {
        "id": "50a82b9a"
      },
      "source": [
        "import pickle\n",
        "with open('iris_treino.pkl','wb')as f:\n",
        "    pickle.dump([Xtreino,ytreino],f)"
      ]
    },
    {
      "cell_type": "code",
      "execution_count": null,
      "id": "addd8442",
      "metadata": {
        "id": "addd8442"
      },
      "outputs": [],
      "source": [
        "Xtest = teste.iloc[:, :-1].values"
      ]
    },
    {
      "cell_type": "code",
      "execution_count": null,
      "id": "8e35385b",
      "metadata": {
        "id": "8e35385b",
        "outputId": "58603dfa-d6c9-4295-8124-5e9a9557c9bf"
      },
      "outputs": [
        {
          "data": {
            "text/plain": [
              "array([[7.7, 3.8, 6.7, 2.2],\n",
              "       [6.3, 3.3, 6. , 2.5],\n",
              "       [7.2, 3.2, 6. , 1.8],\n",
              "       [7. , 3.2, 4.7, 1.4],\n",
              "       [6.8, 2.8, 4.8, 1.4],\n",
              "       [7.6, 3. , 6.6, 2.1],\n",
              "       [5.9, 3.2, 4.8, 1.8],\n",
              "       [5.8, 2.7, 3.9, 1.2],\n",
              "       [5.1, 3.7, 1.5, 0.4],\n",
              "       [5. , 2. , 3.5, 1. ],\n",
              "       [6.9, 3.2, 5.7, 2.3],\n",
              "       [5.7, 2.8, 4.1, 1.3],\n",
              "       [4.5, 2.3, 1.3, 0.3],\n",
              "       [5. , 3.5, 1.6, 0.6],\n",
              "       [6.8, 3.2, 5.9, 2.3],\n",
              "       [5.5, 2.5, 4. , 1.3],\n",
              "       [6.5, 2.8, 4.6, 1.5],\n",
              "       [5.4, 3.4, 1.5, 0.4],\n",
              "       [6.1, 3. , 4.6, 1.4],\n",
              "       [4.4, 2.9, 1.4, 0.2],\n",
              "       [6.4, 2.8, 5.6, 2.2],\n",
              "       [6.9, 3.1, 5.1, 2.3],\n",
              "       [6.3, 2.9, 5.6, 1.8],\n",
              "       [4.7, 3.2, 1.6, 0.2],\n",
              "       [4.9, 3.6, 1.4, 0.1],\n",
              "       [7.3, 2.9, 6.3, 1.8],\n",
              "       [7.2, 3. , 5.8, 1.6],\n",
              "       [6.3, 2.3, 4.4, 1.3],\n",
              "       [6.3, 2.7, 4.9, 1.8],\n",
              "       [5.8, 2.7, 5.1, 1.9],\n",
              "       [5.7, 2.8, 4.5, 1.3],\n",
              "       [5.8, 2.6, 4. , 1.2],\n",
              "       [6.7, 3.1, 5.6, 2.4],\n",
              "       [5.5, 2.3, 4. , 1.3],\n",
              "       [4.4, 3. , 1.3, 0.2],\n",
              "       [5.2, 3.4, 1.4, 0.2],\n",
              "       [6.1, 2.6, 5.6, 1.4],\n",
              "       [5.1, 2.5, 3. , 1.1],\n",
              "       [6.1, 3. , 4.9, 1.8],\n",
              "       [4.9, 2.5, 4.5, 1.7],\n",
              "       [6.4, 3.1, 5.5, 1.8],\n",
              "       [6.9, 3.1, 5.4, 2.1],\n",
              "       [6.3, 2.5, 4.9, 1.5],\n",
              "       [5. , 3.5, 1.3, 0.3],\n",
              "       [5.7, 2.5, 5. , 2. ],\n",
              "       [4.6, 3.2, 1.4, 0.2],\n",
              "       [6.7, 3.1, 4.7, 1.5],\n",
              "       [7.7, 3. , 6.1, 2.3],\n",
              "       [7.4, 2.8, 6.1, 1.9],\n",
              "       [4.3, 3. , 1.1, 0.1],\n",
              "       [5.3, 3.7, 1.5, 0.2],\n",
              "       [6.1, 2.9, 4.7, 1.4],\n",
              "       [5.1, 3.4, 1.5, 0.2],\n",
              "       [5.2, 3.5, 1.5, 0.2],\n",
              "       [6. , 2.2, 4. , 1. ],\n",
              "       [6.7, 3.1, 4.4, 1.4],\n",
              "       [5.7, 2.9, 4.2, 1.3],\n",
              "       [5.8, 2.7, 5.1, 1.9],\n",
              "       [5. , 3.4, 1.5, 0.2],\n",
              "       [7.7, 2.8, 6.7, 2. ],\n",
              "       [5.4, 3.9, 1.7, 0.4],\n",
              "       [4.8, 3.4, 1.9, 0.2],\n",
              "       [5.4, 3. , 4.5, 1.5],\n",
              "       [5.7, 2.6, 3.5, 1. ],\n",
              "       [5.1, 3.8, 1.6, 0.2],\n",
              "       [4.9, 3. , 1.4, 0.2],\n",
              "       [5.7, 3.8, 1.7, 0.3],\n",
              "       [7.7, 2.6, 6.9, 2.3],\n",
              "       [7.2, 3.6, 6.1, 2.5],\n",
              "       [5.1, 3.5, 1.4, 0.2],\n",
              "       [5.5, 2.4, 3.7, 1. ],\n",
              "       [5.2, 4.1, 1.5, 0.1],\n",
              "       [6.2, 2.9, 4.3, 1.3],\n",
              "       [5.4, 3.9, 1.3, 0.4],\n",
              "       [5.1, 3.8, 1.9, 0.4],\n",
              "       [6.7, 3. , 5.2, 2.3],\n",
              "       [4.9, 2.4, 3.3, 1. ],\n",
              "       [6. , 3. , 4.8, 1.8],\n",
              "       [5.6, 2.7, 4.2, 1.3],\n",
              "       [6.8, 3. , 5.5, 2.1],\n",
              "       [6.4, 3.2, 5.3, 2.3],\n",
              "       [5.6, 3. , 4.1, 1.3],\n",
              "       [6. , 2.2, 5. , 1.5],\n",
              "       [6.3, 3.4, 5.6, 2.4],\n",
              "       [7.1, 3. , 5.9, 2.1],\n",
              "       [6.4, 2.8, 5.6, 2.1]])"
            ]
          },
          "execution_count": 84,
          "metadata": {},
          "output_type": "execute_result"
        }
      ],
      "source": [
        "Xtest"
      ]
    },
    {
      "cell_type": "code",
      "execution_count": null,
      "id": "c8f7e3d8",
      "metadata": {
        "id": "c8f7e3d8"
      },
      "outputs": [],
      "source": [
        "ytest=teste.iloc[:,-1]"
      ]
    },
    {
      "cell_type": "code",
      "execution_count": null,
      "id": "a8ee15af",
      "metadata": {
        "id": "a8ee15af",
        "outputId": "100ed2e1-9083-4e50-89c1-32fade542396"
      },
      "outputs": [
        {
          "data": {
            "text/plain": [
              "0     2\n",
              "1     2\n",
              "2     2\n",
              "3     1\n",
              "4     1\n",
              "     ..\n",
              "81    1\n",
              "82    2\n",
              "83    2\n",
              "84    2\n",
              "85    2\n",
              "Name: species, Length: 86, dtype: int32"
            ]
          },
          "execution_count": 86,
          "metadata": {},
          "output_type": "execute_result"
        }
      ],
      "source": [
        "ytest"
      ]
    },
    {
      "cell_type": "markdown",
      "id": "07d01716",
      "metadata": {
        "id": "07d01716"
      },
      "source": [
        "### Passo 3,5: Verificação do *notebook*"
      ]
    },
    {
      "cell_type": "markdown",
      "id": "38e1b718",
      "metadata": {
        "id": "38e1b718"
      },
      "source": [
        "Para a próxima atividade você precisará que as variáveis `treino` e `teste` estejam da forma como ela foi carregada. Execute a célula abaixo e, se qualquer um dos testes falhar, faça novamente os passos 1 e 2."
      ]
    },
    {
      "cell_type": "code",
      "execution_count": null,
      "id": "27e099b4",
      "metadata": {
        "id": "27e099b4"
      },
      "outputs": [],
      "source": [
        "if treino.shape != (64, 5):print(\"O número de linhas ou colunas do treino está errado.\")\n",
        "if teste.shape != (86, 5): print(\"O número de linhas ou colunas do teste está errado.\")\n",
        "\n",
        "if treino.iloc[:,-1].dtype != int: print('A última coluna do treino não é numérica.')\n",
        "if teste.iloc[:,-1].dtype != int: print('A última coluna do teste não é numérica.')\n",
        "\n",
        "soma_treino = np.array([365.9, 198.7, 221.4,  69.2,  55. ])\n",
        "soma_teste = np.array([510.6, 259.9, 342.3, 110.7,  95. ])\n",
        "\n",
        "if (np.abs(treino.sum() - soma_treino) > 0.1).any(): print('Existem valores incorretos na tabela de treino.')\n",
        "if (np.abs(teste.sum() - soma_teste) > 0.1).any(): print('Existem valores incorretos na tabela de teste.')"
      ]
    },
    {
      "cell_type": "markdown",
      "id": "7dc06ac2",
      "metadata": {
        "id": "7dc06ac2"
      },
      "source": [
        "### Passo 4: Ajuste de hiperparâmetros"
      ]
    },
    {
      "cell_type": "markdown",
      "id": "1d9e68ff",
      "metadata": {
        "id": "1d9e68ff"
      },
      "source": [
        "Agora vamos verificar se é possível ajustar os hiperparâmetros de acordo com um conjunto de validação."
      ]
    },
    {
      "cell_type": "markdown",
      "id": "aa6b29e7",
      "metadata": {
        "id": "aa6b29e7"
      },
      "source": [
        "A ideia é simples, vamos dividir o conjunto de treino em um **novo conjunto de treino** e um conjunto de validação. Podemos fazer isso utilizando a função `train_test_split`."
      ]
    },
    {
      "cell_type": "code",
      "execution_count": null,
      "id": "009cd580",
      "metadata": {
        "id": "009cd580"
      },
      "outputs": [],
      "source": [
        "X_train, X_val, y_train, y_val = train_test_split(treino.iloc[:, :-1], treino.iloc[:, -1],\n",
        "                                                    random_state=42, test_size=0.3, stratify=treino.iloc[:, -1])"
      ]
    },
    {
      "cell_type": "markdown",
      "id": "3d3e38b2",
      "metadata": {
        "id": "3d3e38b2"
      },
      "source": [
        "#### Árvore de Decisão"
      ]
    },
    {
      "cell_type": "markdown",
      "id": "6f46d544",
      "metadata": {
        "id": "6f46d544"
      },
      "source": [
        "Teste diferentes configurações da árvore de decisão com o conjunto de validação.\n",
        "\n",
        "1) Verifique se o desempenho do modelo usa quando o critério é alterado para `criterion='entropy'`."
      ]
    },
    {
      "cell_type": "code",
      "execution_count": null,
      "id": "87d81e87",
      "metadata": {
        "id": "87d81e87"
      },
      "outputs": [],
      "source": [
        "clf = DecisionTreeClassifier(criterion='entropy')\n",
        "\n",
        "# Continue o código para treinar a árvore com (X_train, y_train) e testar a árvore com (X_val, y_val)"
      ]
    },
    {
      "cell_type": "code",
      "execution_count": null,
      "id": "eb0397ef",
      "metadata": {
        "id": "eb0397ef"
      },
      "outputs": [],
      "source": [
        "clf.fit(Xtreino,ytreino);"
      ]
    },
    {
      "cell_type": "code",
      "execution_count": null,
      "id": "bcd1604c",
      "metadata": {
        "id": "bcd1604c",
        "outputId": "c75b6c03-a06c-402a-f921-d22c743feac2"
      },
      "outputs": [
        {
          "data": {
            "text/plain": [
              "<Figure size 576x432 with 0 Axes>"
            ]
          },
          "execution_count": 102,
          "metadata": {},
          "output_type": "execute_result"
        },
        {
          "data": {
            "text/plain": [
              "<Figure size 576x432 with 0 Axes>"
            ]
          },
          "metadata": {},
          "output_type": "display_data"
        }
      ],
      "source": [
        "plt.figure(figsize=(8,6))"
      ]
    },
    {
      "cell_type": "code",
      "execution_count": null,
      "id": "79236e01",
      "metadata": {
        "id": "79236e01",
        "outputId": "7de426f1-f5aa-4237-cf8f-129fac8261a3"
      },
      "outputs": [
        {
          "data": {
            "image/png": "[encoded data removed]",
            "text/plain": [
              "<Figure size 432x288 with 1 Axes>"
            ]
          },
          "metadata": {
            "needs_background": "light"
          },
          "output_type": "display_data"
        }
      ],
      "source": [
        "sklearn.tree.plot_tree(clf);"
      ]
    },
    {
      "cell_type": "markdown",
      "id": "bf2ca304",
      "metadata": {
        "id": "bf2ca304"
      },
      "source": [
        "2) Verifique se o desempenho do modelo usa quando especificamos uma altura máxima para a árvore. Para especificar a altura máxima da árvore, use o argumento `max_depth=ALTURA` quando for instanciar o objeto da classe `DecisionTreeClassifier`."
      ]
    },
    {
      "cell_type": "code",
      "execution_count": null,
      "id": "2be1eac4",
      "metadata": {
        "id": "2be1eac4",
        "outputId": "e7684af5-486c-4d37-aa54-885a75204a03"
      },
      "outputs": [
        {
          "name": "stderr",
          "output_type": "stream",
          "text": [
            "C:\\Users\\anacs\\anaconda3\\envs\\orange3\\lib\\site-packages\\sklearn\\base.py:445: UserWarning: X does not have valid feature names, but DecisionTreeClassifier was fitted with feature names\n",
            "  warnings.warn(\n"
          ]
        }
      ],
      "source": [
        "ypred=clf.predict(Xtest)"
      ]
    },
    {
      "cell_type": "code",
      "execution_count": null,
      "id": "8d98587f",
      "metadata": {
        "id": "8d98587f",
        "outputId": "5e1bfddb-d3ca-489c-f866-35ea5cb90829"
      },
      "outputs": [
        {
          "data": {
            "text/plain": [
              "array([2, 2, 2, 1, 1, 2, 2, 1, 0, 1, 2, 1, 0, 0, 2, 1, 1, 0, 1, 0, 2, 2,\n",
              "       2, 0, 0, 2, 1, 1, 2, 2, 1, 1, 2, 1, 0, 0, 2, 1, 2, 1, 2, 2, 1, 0,\n",
              "       2, 0, 1, 2, 2, 0, 0, 1, 0, 0, 1, 1, 1, 2, 0, 2, 0, 0, 1, 1, 0, 0,\n",
              "       0, 2, 2, 0, 1, 0, 1, 0, 0, 2, 1, 2, 1, 2, 2, 1, 1, 2, 2, 2])"
            ]
          },
          "execution_count": 105,
          "metadata": {},
          "output_type": "execute_result"
        }
      ],
      "source": [
        "ypred"
      ]
    },
    {
      "cell_type": "code",
      "execution_count": null,
      "id": "d4804a93",
      "metadata": {
        "id": "d4804a93",
        "outputId": "062a3ddb-eb8d-4126-a381-2b439d73693f"
      },
      "outputs": [
        {
          "data": {
            "text/html": [
              "<div>\n",
              "<style scoped>\n",
              "    .dataframe tbody tr th:only-of-type {\n",
              "        vertical-align: middle;\n",
              "    }\n",
              "\n",
              "    .dataframe tbody tr th {\n",
              "        vertical-align: top;\n",
              "    }\n",
              "\n",
              "    .dataframe thead th {\n",
              "        text-align: right;\n",
              "    }\n",
              "</style>\n",
              "<table border=\"1\" class=\"dataframe\">\n",
              "  <thead>\n",
              "    <tr style=\"text-align: right;\">\n",
              "      <th></th>\n",
              "      <th>Classe verdadeira</th>\n",
              "      <th>Classe predita</th>\n",
              "    </tr>\n",
              "  </thead>\n",
              "  <tbody>\n",
              "    <tr>\n",
              "      <th>0</th>\n",
              "      <td>2</td>\n",
              "      <td>virginica</td>\n",
              "    </tr>\n",
              "    <tr>\n",
              "      <th>1</th>\n",
              "      <td>2</td>\n",
              "      <td>virginica</td>\n",
              "    </tr>\n",
              "    <tr>\n",
              "      <th>2</th>\n",
              "      <td>2</td>\n",
              "      <td>virginica</td>\n",
              "    </tr>\n",
              "    <tr>\n",
              "      <th>3</th>\n",
              "      <td>1</td>\n",
              "      <td>versicolor</td>\n",
              "    </tr>\n",
              "    <tr>\n",
              "      <th>4</th>\n",
              "      <td>1</td>\n",
              "      <td>versicolor</td>\n",
              "    </tr>\n",
              "    <tr>\n",
              "      <th>...</th>\n",
              "      <td>...</td>\n",
              "      <td>...</td>\n",
              "    </tr>\n",
              "    <tr>\n",
              "      <th>81</th>\n",
              "      <td>1</td>\n",
              "      <td>versicolor</td>\n",
              "    </tr>\n",
              "    <tr>\n",
              "      <th>82</th>\n",
              "      <td>2</td>\n",
              "      <td>versicolor</td>\n",
              "    </tr>\n",
              "    <tr>\n",
              "      <th>83</th>\n",
              "      <td>2</td>\n",
              "      <td>virginica</td>\n",
              "    </tr>\n",
              "    <tr>\n",
              "      <th>84</th>\n",
              "      <td>2</td>\n",
              "      <td>virginica</td>\n",
              "    </tr>\n",
              "    <tr>\n",
              "      <th>85</th>\n",
              "      <td>2</td>\n",
              "      <td>virginica</td>\n",
              "    </tr>\n",
              "  </tbody>\n",
              "</table>\n",
              "<p>86 rows × 2 columns</p>\n",
              "</div>"
            ],
            "text/plain": [
              "    Classe verdadeira Classe predita\n",
              "0                   2      virginica\n",
              "1                   2      virginica\n",
              "2                   2      virginica\n",
              "3                   1     versicolor\n",
              "4                   1     versicolor\n",
              "..                ...            ...\n",
              "81                  1     versicolor\n",
              "82                  2     versicolor\n",
              "83                  2      virginica\n",
              "84                  2      virginica\n",
              "85                  2      virginica\n",
              "\n",
              "[86 rows x 2 columns]"
            ]
          },
          "execution_count": 106,
          "metadata": {},
          "output_type": "execute_result"
        }
      ],
      "source": [
        "tabela = pd.DataFrame(columns=['Classe verdadeira', 'Classe predita'])\n",
        "tabela.iloc[:,0] = teste['species']\n",
        "tabela.iloc[:,1] = teste_le.inverse_transform(ypred)\n",
        "tabela"
      ]
    },
    {
      "cell_type": "code",
      "execution_count": null,
      "id": "a5de6caa",
      "metadata": {
        "id": "a5de6caa",
        "outputId": "71bd6d49-b2ef-4ff8-9384-d036f97dfde6"
      },
      "outputs": [
        {
          "data": {
            "text/html": [
              "<div>\n",
              "<style scoped>\n",
              "    .dataframe tbody tr th:only-of-type {\n",
              "        vertical-align: middle;\n",
              "    }\n",
              "\n",
              "    .dataframe tbody tr th {\n",
              "        vertical-align: top;\n",
              "    }\n",
              "\n",
              "    .dataframe thead th {\n",
              "        text-align: right;\n",
              "    }\n",
              "</style>\n",
              "<table border=\"1\" class=\"dataframe\">\n",
              "  <thead>\n",
              "    <tr style=\"text-align: right;\">\n",
              "      <th></th>\n",
              "      <th>Classe verdadeira</th>\n",
              "      <th>Classe predita</th>\n",
              "    </tr>\n",
              "  </thead>\n",
              "  <tbody>\n",
              "    <tr>\n",
              "      <th>0</th>\n",
              "      <td>2</td>\n",
              "      <td>virginica</td>\n",
              "    </tr>\n",
              "    <tr>\n",
              "      <th>1</th>\n",
              "      <td>2</td>\n",
              "      <td>virginica</td>\n",
              "    </tr>\n",
              "    <tr>\n",
              "      <th>2</th>\n",
              "      <td>2</td>\n",
              "      <td>virginica</td>\n",
              "    </tr>\n",
              "    <tr>\n",
              "      <th>3</th>\n",
              "      <td>1</td>\n",
              "      <td>versicolor</td>\n",
              "    </tr>\n",
              "    <tr>\n",
              "      <th>4</th>\n",
              "      <td>1</td>\n",
              "      <td>versicolor</td>\n",
              "    </tr>\n",
              "    <tr>\n",
              "      <th>...</th>\n",
              "      <td>...</td>\n",
              "      <td>...</td>\n",
              "    </tr>\n",
              "    <tr>\n",
              "      <th>81</th>\n",
              "      <td>1</td>\n",
              "      <td>versicolor</td>\n",
              "    </tr>\n",
              "    <tr>\n",
              "      <th>82</th>\n",
              "      <td>2</td>\n",
              "      <td>versicolor</td>\n",
              "    </tr>\n",
              "    <tr>\n",
              "      <th>83</th>\n",
              "      <td>2</td>\n",
              "      <td>virginica</td>\n",
              "    </tr>\n",
              "    <tr>\n",
              "      <th>84</th>\n",
              "      <td>2</td>\n",
              "      <td>virginica</td>\n",
              "    </tr>\n",
              "    <tr>\n",
              "      <th>85</th>\n",
              "      <td>2</td>\n",
              "      <td>virginica</td>\n",
              "    </tr>\n",
              "  </tbody>\n",
              "</table>\n",
              "<p>86 rows × 2 columns</p>\n",
              "</div>"
            ],
            "text/plain": [
              "    Classe verdadeira Classe predita\n",
              "0                   2      virginica\n",
              "1                   2      virginica\n",
              "2                   2      virginica\n",
              "3                   1     versicolor\n",
              "4                   1     versicolor\n",
              "..                ...            ...\n",
              "81                  1     versicolor\n",
              "82                  2     versicolor\n",
              "83                  2      virginica\n",
              "84                  2      virginica\n",
              "85                  2      virginica\n",
              "\n",
              "[86 rows x 2 columns]"
            ]
          },
          "execution_count": 107,
          "metadata": {},
          "output_type": "execute_result"
        }
      ],
      "source": [
        "tabela[tabela.iloc[:,0] != tabela.iloc[:,1]]"
      ]
    },
    {
      "cell_type": "code",
      "execution_count": null,
      "id": "f8f86fbd",
      "metadata": {
        "id": "f8f86fbd"
      },
      "outputs": [],
      "source": [
        "from sklearn.metrics import accuracy_score"
      ]
    },
    {
      "cell_type": "code",
      "execution_count": null,
      "id": "d874799c",
      "metadata": {
        "id": "d874799c",
        "outputId": "2680859b-e24a-4cbe-81a6-a54d9e433bc2"
      },
      "outputs": [
        {
          "data": {
            "text/plain": [
              "0.9534883720930233"
            ]
          },
          "execution_count": 99,
          "metadata": {},
          "output_type": "execute_result"
        }
      ],
      "source": [
        "accuracy_score(ytest,ypred)"
      ]
    },
    {
      "cell_type": "markdown",
      "id": "6bb55254",
      "metadata": {
        "id": "6bb55254"
      },
      "source": [
        "#### Naive Bayes"
      ]
    },
    {
      "cell_type": "markdown",
      "id": "7c18e637",
      "metadata": {
        "id": "7c18e637"
      },
      "source": [
        "O Naive Bayes gaussiano não tem nenhum hiperparâmetro para ajustarmos neste momento.\n",
        "\n",
        "Apenas verifique o desempenho do modelo no conjunto de validação."
      ]
    },
    {
      "cell_type": "code",
      "execution_count": null,
      "id": "906cf3bd",
      "metadata": {
        "id": "906cf3bd"
      },
      "outputs": [],
      "source": [
        "GNB=GaussianNB()"
      ]
    },
    {
      "cell_type": "code",
      "execution_count": null,
      "id": "ed42fe0c",
      "metadata": {
        "id": "ed42fe0c",
        "outputId": "2454cf76-0038-4d4b-c0b7-2898b8e4eded"
      },
      "outputs": [
        {
          "data": {
            "text/plain": [
              "GaussianNB()"
            ]
          },
          "execution_count": 129,
          "metadata": {},
          "output_type": "execute_result"
        }
      ],
      "source": [
        "GNB.fit(Xtreino,ytreino)"
      ]
    },
    {
      "cell_type": "code",
      "execution_count": null,
      "id": "56c7a9f1",
      "metadata": {
        "id": "56c7a9f1",
        "outputId": "f0836445-4da4-42fe-a1f1-70db7c534376"
      },
      "outputs": [
        {
          "name": "stderr",
          "output_type": "stream",
          "text": [
            "C:\\Users\\anacs\\anaconda3\\envs\\orange3\\lib\\site-packages\\sklearn\\base.py:445: UserWarning: X does not have valid feature names, but GaussianNB was fitted with feature names\n",
            "  warnings.warn(\n"
          ]
        }
      ],
      "source": [
        "ypredNB=GNB.predict(Xtest)"
      ]
    },
    {
      "cell_type": "code",
      "execution_count": null,
      "id": "e509b348",
      "metadata": {
        "id": "e509b348",
        "outputId": "7feff4b4-7da6-406f-faa7-6738451b8b47"
      },
      "outputs": [
        {
          "data": {
            "text/plain": [
              "array([2, 2, 2, 1, 1, 2, 2, 1, 0, 1, 2, 1, 0, 0, 2, 1, 1, 0, 1, 0, 2, 2,\n",
              "       2, 0, 0, 2, 2, 1, 2, 2, 1, 1, 2, 1, 0, 0, 1, 1, 2, 1, 2, 2, 1, 0,\n",
              "       2, 0, 1, 2, 2, 0, 0, 1, 0, 0, 1, 1, 1, 2, 0, 2, 0, 0, 1, 1, 0, 0,\n",
              "       0, 2, 2, 0, 1, 0, 1, 0, 0, 2, 1, 2, 1, 2, 2, 1, 1, 2, 2, 2])"
            ]
          },
          "execution_count": 131,
          "metadata": {},
          "output_type": "execute_result"
        }
      ],
      "source": [
        "ypredNB"
      ]
    },
    {
      "cell_type": "code",
      "execution_count": null,
      "id": "a96fac63",
      "metadata": {
        "id": "a96fac63",
        "outputId": "f1992cc1-78d6-4831-e347-3a3495de6d40"
      },
      "outputs": [
        {
          "data": {
            "text/plain": [
              "0.9534883720930233"
            ]
          },
          "execution_count": 132,
          "metadata": {},
          "output_type": "execute_result"
        }
      ],
      "source": [
        "accuracy_score(ytest,ypredNB)"
      ]
    },
    {
      "cell_type": "code",
      "execution_count": null,
      "id": "47fbd67c",
      "metadata": {
        "id": "47fbd67c"
      },
      "outputs": [],
      "source": []
    },
    {
      "cell_type": "markdown",
      "id": "8281b38d",
      "metadata": {
        "id": "8281b38d"
      },
      "source": [
        "#### k-NN"
      ]
    },
    {
      "cell_type": "markdown",
      "id": "076093c4",
      "metadata": {
        "id": "076093c4"
      },
      "source": [
        "Teste diferentes configurações do modelo de vizinhança com o conjunto de validação.\n"
      ]
    },
    {
      "cell_type": "markdown",
      "id": "9c049603",
      "metadata": {
        "id": "9c049603"
      },
      "source": [
        "1) Experimente trocar a função de distância. Para isso, especifique um valor para o parâmetro `metric`. Por exemplo, `metric='euclidean'` utiliza a distância euclidiana, enquanto `metric='manhattan'` utiliza a distância Manhattan. Veja a documentação para uma lista de nomes de métricas: https://scikit-learn.org/stable/modules/generated/sklearn.metrics.pairwise.distance_metrics.html#sklearn.metrics.pairwise.distance_metrics"
      ]
    },
    {
      "cell_type": "markdown",
      "id": "9e754c89",
      "metadata": {
        "id": "9e754c89"
      },
      "source": [
        "### Teste com metric='euclidean'"
      ]
    },
    {
      "cell_type": "code",
      "execution_count": null,
      "id": "da6abf5c",
      "metadata": {
        "id": "da6abf5c"
      },
      "outputs": [],
      "source": [
        "knn_treino=KNeighborsClassifier(n_neighbors=5, metric='euclidean',p=2)"
      ]
    },
    {
      "cell_type": "code",
      "execution_count": null,
      "id": "3219b68a",
      "metadata": {
        "id": "3219b68a",
        "outputId": "60691a2c-885c-4663-b757-6299349233af"
      },
      "outputs": [
        {
          "data": {
            "text/plain": [
              "KNeighborsClassifier(metric='euclidean')"
            ]
          },
          "execution_count": 140,
          "metadata": {},
          "output_type": "execute_result"
        }
      ],
      "source": [
        "knn_treino.fit(Xtreino,ytreino)"
      ]
    },
    {
      "cell_type": "code",
      "execution_count": null,
      "id": "3a57a537",
      "metadata": {
        "id": "3a57a537",
        "outputId": "ca1c7718-8dd5-45d7-9bb5-eb554dde3284"
      },
      "outputs": [
        {
          "name": "stderr",
          "output_type": "stream",
          "text": [
            "C:\\Users\\anacs\\anaconda3\\envs\\orange3\\lib\\site-packages\\sklearn\\base.py:445: UserWarning: X does not have valid feature names, but KNeighborsClassifier was fitted with feature names\n",
            "  warnings.warn(\n"
          ]
        }
      ],
      "source": [
        "ypredKNN=knn_treino.predict(Xtest)"
      ]
    },
    {
      "cell_type": "code",
      "execution_count": null,
      "id": "00683271",
      "metadata": {
        "id": "00683271",
        "outputId": "8509f4af-10de-4c4c-a46e-9ef5b9c2c0a8"
      },
      "outputs": [
        {
          "data": {
            "text/plain": [
              "array([2, 2, 2, 1, 1, 2, 1, 1, 0, 1, 2, 1, 0, 0, 2, 1, 1, 0, 1, 0, 2, 2,\n",
              "       2, 0, 0, 2, 2, 1, 2, 2, 1, 1, 2, 1, 0, 0, 2, 1, 2, 1, 2, 2, 2, 0,\n",
              "       2, 0, 1, 2, 2, 0, 0, 1, 0, 0, 1, 1, 1, 2, 0, 2, 0, 0, 1, 1, 0, 0,\n",
              "       0, 2, 2, 0, 1, 0, 1, 0, 0, 2, 1, 1, 1, 2, 2, 1, 2, 2, 2, 2])"
            ]
          },
          "execution_count": 143,
          "metadata": {},
          "output_type": "execute_result"
        }
      ],
      "source": [
        "ypredKNN"
      ]
    },
    {
      "cell_type": "code",
      "execution_count": null,
      "id": "91fdde4a",
      "metadata": {
        "id": "91fdde4a",
        "outputId": "b1b2e4b8-bff8-4a5b-d223-23f6fa1c8661"
      },
      "outputs": [
        {
          "data": {
            "text/plain": [
              "0.9651162790697675"
            ]
          },
          "execution_count": 144,
          "metadata": {},
          "output_type": "execute_result"
        }
      ],
      "source": [
        "accuracy_score(ytest,ypredKNN)"
      ]
    },
    {
      "cell_type": "markdown",
      "id": "bf846044",
      "metadata": {
        "id": "bf846044"
      },
      "source": [
        "### Teste com metric='manhattan'"
      ]
    },
    {
      "cell_type": "code",
      "execution_count": null,
      "id": "1d1f5ad3",
      "metadata": {
        "id": "1d1f5ad3"
      },
      "outputs": [],
      "source": [
        "knn_treino1=KNeighborsClassifier(n_neighbors=5, metric='manhattan',p=1)"
      ]
    },
    {
      "cell_type": "code",
      "execution_count": null,
      "id": "bbe51132",
      "metadata": {
        "id": "bbe51132",
        "outputId": "98378e0c-4b58-4bc5-81f0-fe4a97fe404e"
      },
      "outputs": [
        {
          "data": {
            "text/plain": [
              "KNeighborsClassifier(metric='manhattan', p=1)"
            ]
          },
          "execution_count": 164,
          "metadata": {},
          "output_type": "execute_result"
        }
      ],
      "source": [
        "knn_treino1.fit(Xtreino,ytreino)"
      ]
    },
    {
      "cell_type": "code",
      "execution_count": null,
      "id": "41bb5f17",
      "metadata": {
        "id": "41bb5f17",
        "outputId": "de06c3f7-856e-4342-ac04-7b0cbdf79cbf"
      },
      "outputs": [
        {
          "name": "stderr",
          "output_type": "stream",
          "text": [
            "C:\\Users\\anacs\\anaconda3\\envs\\orange3\\lib\\site-packages\\sklearn\\base.py:445: UserWarning: X does not have valid feature names, but KNeighborsClassifier was fitted with feature names\n",
            "  warnings.warn(\n"
          ]
        }
      ],
      "source": [
        "ypredKNN1=knn_treino1.predict(Xtest)"
      ]
    },
    {
      "cell_type": "code",
      "execution_count": null,
      "id": "de5f6036",
      "metadata": {
        "id": "de5f6036",
        "outputId": "18a46be8-4faf-4ccc-9879-498cfe640c04"
      },
      "outputs": [
        {
          "data": {
            "text/plain": [
              "array([2, 2, 2, 1, 1, 2, 1, 1, 0, 1, 2, 1, 0, 0, 2, 1, 1, 0, 1, 0, 2, 2,\n",
              "       2, 0, 0, 2, 2, 1, 2, 2, 1, 1, 2, 1, 0, 0, 2, 1, 2, 1, 2, 2, 2, 0,\n",
              "       2, 0, 1, 2, 2, 0, 0, 1, 0, 0, 1, 1, 1, 2, 0, 2, 0, 0, 1, 1, 0, 0,\n",
              "       0, 2, 2, 0, 1, 0, 1, 0, 0, 2, 1, 1, 1, 2, 2, 1, 1, 2, 2, 2])"
            ]
          },
          "execution_count": 166,
          "metadata": {},
          "output_type": "execute_result"
        }
      ],
      "source": [
        "ypredKNN1"
      ]
    },
    {
      "cell_type": "code",
      "execution_count": null,
      "id": "40472bef",
      "metadata": {
        "id": "40472bef",
        "outputId": "dcd266d4-3102-4f3d-e0b2-c3ce21e6f034"
      },
      "outputs": [
        {
          "data": {
            "text/plain": [
              "0.9534883720930233"
            ]
          },
          "execution_count": 167,
          "metadata": {},
          "output_type": "execute_result"
        }
      ],
      "source": [
        "accuracy_score(ytest,ypredKNN1)"
      ]
    },
    {
      "cell_type": "markdown",
      "id": "302457dd",
      "metadata": {
        "id": "302457dd"
      },
      "source": [
        "2. Verifique o desempenho do modelo com diferentes números de vizinhos. Utilize o parâmetro `n_neighbors=NUMERO`. Você pode fazer um laço de repetição de 1 até 10, por exemplo, para facilmente verificar a quantidade de vizinhos."
      ]
    },
    {
      "cell_type": "code",
      "execution_count": null,
      "id": "c026e9ee",
      "metadata": {
        "id": "c026e9ee"
      },
      "outputs": [],
      "source": []
    },
    {
      "cell_type": "code",
      "execution_count": null,
      "id": "c3dc2b4b",
      "metadata": {
        "id": "c3dc2b4b"
      },
      "outputs": [],
      "source": []
    },
    {
      "cell_type": "code",
      "execution_count": null,
      "id": "debdcc69",
      "metadata": {
        "id": "debdcc69"
      },
      "outputs": [],
      "source": []
    },
    {
      "cell_type": "markdown",
      "id": "1ffa95d3",
      "metadata": {
        "id": "1ffa95d3"
      },
      "source": [
        "### Passo 5: Considerações"
      ]
    },
    {
      "cell_type": "markdown",
      "id": "cbb73df4",
      "metadata": {
        "id": "cbb73df4"
      },
      "source": [
        "1) Qual foi a melhor configuração para a árvore de decisão que você entrou no passo 4? Isto é, quais foram os valores de `criterion` e `max_depth` que produziram o melhor resultado no conjunto de validação?"
      ]
    },
    {
      "cell_type": "markdown",
      "id": "d30658fc",
      "metadata": {
        "id": "d30658fc"
      },
      "source": [
        "**Edite esta célula e escreva sua resposta aqui**"
      ]
    },
    {
      "cell_type": "markdown",
      "id": "248401b0",
      "metadata": {
        "id": "248401b0"
      },
      "source": [
        "2) Qual foi a melhor configuração para o k-NN que você entrou no passo 4? Isto é, quais foram os valores de `metric` e `n_neighbors` que produziram o melhor resultado no conjunto de validação?"
      ]
    },
    {
      "cell_type": "markdown",
      "id": "553f5615",
      "metadata": {
        "id": "553f5615"
      },
      "source": [
        "**Edite esta célula e escreva sua resposta aqui**"
      ]
    },
    {
      "cell_type": "markdown",
      "id": "f4fc65ce",
      "metadata": {
        "id": "f4fc65ce"
      },
      "source": [
        "3) Dentre os 3 modelos que você refinou no passo 4, qual teve melhor desempenho no conjunto de validação?"
      ]
    },
    {
      "cell_type": "markdown",
      "id": "0536ae55",
      "metadata": {
        "id": "0536ae55"
      },
      "source": [
        "**Edite esta célula e escreva sua resposta aqui**"
      ]
    },
    {
      "cell_type": "markdown",
      "id": "02e623e5",
      "metadata": {
        "id": "02e623e5"
      },
      "source": [
        "### Passo 6: Treino final"
      ]
    },
    {
      "cell_type": "markdown",
      "id": "7983b172",
      "metadata": {
        "id": "7983b172"
      },
      "source": [
        "Agora que você encontrou a melhor configuração de cada modelo, faça o treinamento usando todos os exemplos de treino. A linha célula abaixo irá obter para você as matrizes de treino e teste."
      ]
    },
    {
      "cell_type": "code",
      "execution_count": null,
      "id": "1c7a460a",
      "metadata": {
        "id": "1c7a460a"
      },
      "outputs": [],
      "source": [
        "X_train, y_train = treino.iloc[:, :-1], treino.iloc[:, -1]\n",
        "X_test, y_test = teste.iloc[:, :-1], teste.iloc[:, -1]"
      ]
    },
    {
      "cell_type": "markdown",
      "id": "3237a105",
      "metadata": {
        "id": "3237a105"
      },
      "source": [
        "1) Treine e teste a melhor configuração de árvore de decisão que você encontrou no passo 4"
      ]
    },
    {
      "cell_type": "code",
      "execution_count": null,
      "id": "73240df9",
      "metadata": {
        "id": "73240df9"
      },
      "outputs": [],
      "source": []
    },
    {
      "cell_type": "code",
      "execution_count": null,
      "id": "94fc94ef",
      "metadata": {
        "id": "94fc94ef"
      },
      "outputs": [],
      "source": []
    },
    {
      "cell_type": "markdown",
      "id": "d94b5fbf",
      "metadata": {
        "id": "d94b5fbf"
      },
      "source": [
        "2) Treine e teste novamente o Naive Bayes, do mesmo jeito que você fez no passo 3 (pode copiar e colar a célula anterior)"
      ]
    },
    {
      "cell_type": "code",
      "execution_count": null,
      "id": "58b8a44a",
      "metadata": {
        "id": "58b8a44a"
      },
      "outputs": [],
      "source": []
    },
    {
      "cell_type": "code",
      "execution_count": null,
      "id": "1c9ac390",
      "metadata": {
        "id": "1c9ac390"
      },
      "outputs": [],
      "source": []
    },
    {
      "cell_type": "markdown",
      "id": "c75ce2bd",
      "metadata": {
        "id": "c75ce2bd"
      },
      "source": [
        "3) Treine e tete a melhor configuração de k-NN que você encontrou no passo 4"
      ]
    },
    {
      "cell_type": "code",
      "execution_count": null,
      "id": "ae43476c",
      "metadata": {
        "id": "ae43476c"
      },
      "outputs": [],
      "source": []
    },
    {
      "cell_type": "code",
      "execution_count": null,
      "id": "3b067cab",
      "metadata": {
        "id": "3b067cab"
      },
      "outputs": [],
      "source": []
    },
    {
      "cell_type": "markdown",
      "id": "55fe7943",
      "metadata": {
        "id": "55fe7943"
      },
      "source": [
        "### Passo 7: Conclusões"
      ]
    },
    {
      "cell_type": "markdown",
      "id": "9f2892c2",
      "metadata": {
        "id": "9f2892c2"
      },
      "source": [
        "O modelo que parecia o melhor no conjunto de validaç? E qual seria a melhor configuração de hiperparâmetros? Houve diferença significativa no ajuste de hiperparâmetros? Escreva aqui o que você aprendeu com este exercício.\n",
        "\n",
        "Observe que, como o conjunto `iris` é pequeno, pode ser que muitas configurações tenham desempenho parecido ou que a configuração padrão seja a ideal. Mas o procedimento que você aprendeu aqui será o mesmo para seus experimentos futuros!"
      ]
    },
    {
      "cell_type": "markdown",
      "id": "e3d6cdcd",
      "metadata": {
        "id": "e3d6cdcd"
      },
      "source": [
        "**Edite esta célula e escreva suas conclusões aqui**"
      ]
    }
  ],
  "metadata": {
    "kernelspec": {
      "display_name": "Python 3 (ipykernel)",
      "language": "python",
      "name": "python3"
    },
    "language_info": {
      "codemirror_mode": {
        "name": "ipython",
        "version": 3
      },
      "file_extension": ".py",
      "mimetype": "text/x-python",
      "name": "python",
      "nbconvert_exporter": "python",
      "pygments_lexer": "ipython3",
      "version": "3.8.12"
    },
    "colab": {
      "provenance": [],
      "include_colab_link": true
    }
  },
  "nbformat": 4,
  "nbformat_minor": 5
}