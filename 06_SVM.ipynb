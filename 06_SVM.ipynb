{
  "cells": [
    {
      "cell_type": "markdown",
      "metadata": {
        "id": "view-in-github",
        "colab_type": "text"
      },
      "source": [
        "<a href=\"https://colab.research.google.com/github/AnaCristina1972/projett/blob/master/06_SVM.ipynb\" target=\"_parent\"><img src=\"https://colab.research.google.com/assets/colab-badge.svg\" alt=\"Open In Colab\"/></a>"
      ]
    },
    {
      "cell_type": "markdown",
      "id": "a099d7c2",
      "metadata": {
        "id": "a099d7c2"
      },
      "source": [
        "# Máquina de Vetores de Suporte"
      ]
    },
    {
      "cell_type": "code",
      "execution_count": 1,
      "id": "3089960f",
      "metadata": {
        "id": "3089960f"
      },
      "outputs": [],
      "source": [
        "import numpy as np\n",
        "import pandas as pd"
      ]
    },
    {
      "cell_type": "markdown",
      "id": "45553e44",
      "metadata": {
        "id": "45553e44"
      },
      "source": [
        "### Carregando os dados"
      ]
    },
    {
      "cell_type": "markdown",
      "id": "2e7c72cf",
      "metadata": {
        "id": "2e7c72cf"
      },
      "source": [
        "https://archive.ics.uci.edu/ml/datasets/breast+cancer"
      ]
    },
    {
      "cell_type": "code",
      "execution_count": 2,
      "id": "9956747f",
      "metadata": {
        "id": "9956747f"
      },
      "outputs": [],
      "source": [
        "from sklearn import datasets"
      ]
    },
    {
      "cell_type": "code",
      "execution_count": 4,
      "id": "78ba4324",
      "metadata": {
        "id": "78ba4324"
      },
      "outputs": [],
      "source": [
        "breast = datasets.load_breast_cancer()"
      ]
    },
    {
      "cell_type": "code",
      "execution_count": 5,
      "id": "6ee20665",
      "metadata": {
        "colab": {
          "base_uri": "https://localhost:8080/"
        },
        "id": "6ee20665",
        "outputId": "09d0bfd9-ebd2-44f3-db57-5701d5e30fef"
      },
      "outputs": [
        {
          "output_type": "execute_result",
          "data": {
            "text/plain": [
              "sklearn.utils._bunch.Bunch"
            ]
          },
          "metadata": {},
          "execution_count": 5
        }
      ],
      "source": [
        "type(breast)"
      ]
    },
    {
      "cell_type": "code",
      "execution_count": 10,
      "id": "c37ba7d2",
      "metadata": {
        "colab": {
          "base_uri": "https://localhost:8080/"
        },
        "id": "c37ba7d2",
        "outputId": "37c82b9e-9a59-41d7-e9d3-ab98f52de2f4"
      },
      "outputs": [
        {
          "output_type": "execute_result",
          "data": {
            "text/plain": [
              "array([[1.799e+01, 1.038e+01, 1.228e+02, ..., 2.654e-01, 4.601e-01,\n",
              "        1.189e-01],\n",
              "       [2.057e+01, 1.777e+01, 1.329e+02, ..., 1.860e-01, 2.750e-01,\n",
              "        8.902e-02],\n",
              "       [1.969e+01, 2.125e+01, 1.300e+02, ..., 2.430e-01, 3.613e-01,\n",
              "        8.758e-02],\n",
              "       ...,\n",
              "       [1.660e+01, 2.808e+01, 1.083e+02, ..., 1.418e-01, 2.218e-01,\n",
              "        7.820e-02],\n",
              "       [2.060e+01, 2.933e+01, 1.401e+02, ..., 2.650e-01, 4.087e-01,\n",
              "        1.240e-01],\n",
              "       [7.760e+00, 2.454e+01, 4.792e+01, ..., 0.000e+00, 2.871e-01,\n",
              "        7.039e-02]])"
            ]
          },
          "metadata": {},
          "execution_count": 10
        }
      ],
      "source": [
        "breast.data"
      ]
    },
    {
      "cell_type": "code",
      "execution_count": 6,
      "id": "d62bec5a",
      "metadata": {
        "colab": {
          "base_uri": "https://localhost:8080/"
        },
        "id": "d62bec5a",
        "outputId": "8bc78a99-1172-486a-c014-ee40e8e173c6"
      },
      "outputs": [
        {
          "output_type": "execute_result",
          "data": {
            "text/plain": [
              "(569, 30)"
            ]
          },
          "metadata": {},
          "execution_count": 6
        }
      ],
      "source": [
        "breast.data.shape"
      ]
    },
    {
      "cell_type": "code",
      "execution_count": 16,
      "id": "eb845b87",
      "metadata": {
        "id": "eb845b87"
      },
      "outputs": [],
      "source": [
        "breast"
      ]
    },
    {
      "cell_type": "code",
      "source": [],
      "metadata": {
        "id": "sZBeaGL8Cmmv"
      },
      "id": "sZBeaGL8Cmmv",
      "execution_count": null,
      "outputs": []
    },
    {
      "cell_type": "code",
      "execution_count": 13,
      "id": "392bcf0d",
      "metadata": {
        "id": "392bcf0d"
      },
      "outputs": [],
      "source": [
        "from sklearn.svm import SVC"
      ]
    },
    {
      "cell_type": "code",
      "execution_count": 14,
      "id": "0a66baba",
      "metadata": {
        "id": "0a66baba"
      },
      "outputs": [],
      "source": [
        "svc = SVC(kernel='linear', C=0.01)"
      ]
    },
    {
      "cell_type": "code",
      "execution_count": 17,
      "id": "d5a2783c",
      "metadata": {
        "colab": {
          "base_uri": "https://localhost:8080/",
          "height": 75
        },
        "id": "d5a2783c",
        "outputId": "5e69a92d-ef23-4e0e-fcfe-40b5fb9f6bf5"
      },
      "outputs": [
        {
          "output_type": "execute_result",
          "data": {
            "text/plain": [
              "SVC(C=0.01, kernel='linear')"
            ],
            "text/html": [
              "<style>#sk-container-id-1 {color: black;background-color: white;}#sk-container-id-1 pre{padding: 0;}#sk-container-id-1 div.sk-toggleable {background-color: white;}#sk-container-id-1 label.sk-toggleable__label {cursor: pointer;display: block;width: 100%;margin-bottom: 0;padding: 0.3em;box-sizing: border-box;text-align: center;}#sk-container-id-1 label.sk-toggleable__label-arrow:before {content: \"▸\";float: left;margin-right: 0.25em;color: #696969;}#sk-container-id-1 label.sk-toggleable__label-arrow:hover:before {color: black;}#sk-container-id-1 div.sk-estimator:hover label.sk-toggleable__label-arrow:before {color: black;}#sk-container-id-1 div.sk-toggleable__content {max-height: 0;max-width: 0;overflow: hidden;text-align: left;background-color: #f0f8ff;}#sk-container-id-1 div.sk-toggleable__content pre {margin: 0.2em;color: black;border-radius: 0.25em;background-color: #f0f8ff;}#sk-container-id-1 input.sk-toggleable__control:checked~div.sk-toggleable__content {max-height: 200px;max-width: 100%;overflow: auto;}#sk-container-id-1 input.sk-toggleable__control:checked~label.sk-toggleable__label-arrow:before {content: \"▾\";}#sk-container-id-1 div.sk-estimator input.sk-toggleable__control:checked~label.sk-toggleable__label {background-color: #d4ebff;}#sk-container-id-1 div.sk-label input.sk-toggleable__control:checked~label.sk-toggleable__label {background-color: #d4ebff;}#sk-container-id-1 input.sk-hidden--visually {border: 0;clip: rect(1px 1px 1px 1px);clip: rect(1px, 1px, 1px, 1px);height: 1px;margin: -1px;overflow: hidden;padding: 0;position: absolute;width: 1px;}#sk-container-id-1 div.sk-estimator {font-family: monospace;background-color: #f0f8ff;border: 1px dotted black;border-radius: 0.25em;box-sizing: border-box;margin-bottom: 0.5em;}#sk-container-id-1 div.sk-estimator:hover {background-color: #d4ebff;}#sk-container-id-1 div.sk-parallel-item::after {content: \"\";width: 100%;border-bottom: 1px solid gray;flex-grow: 1;}#sk-container-id-1 div.sk-label:hover label.sk-toggleable__label {background-color: #d4ebff;}#sk-container-id-1 div.sk-serial::before {content: \"\";position: absolute;border-left: 1px solid gray;box-sizing: border-box;top: 0;bottom: 0;left: 50%;z-index: 0;}#sk-container-id-1 div.sk-serial {display: flex;flex-direction: column;align-items: center;background-color: white;padding-right: 0.2em;padding-left: 0.2em;position: relative;}#sk-container-id-1 div.sk-item {position: relative;z-index: 1;}#sk-container-id-1 div.sk-parallel {display: flex;align-items: stretch;justify-content: center;background-color: white;position: relative;}#sk-container-id-1 div.sk-item::before, #sk-container-id-1 div.sk-parallel-item::before {content: \"\";position: absolute;border-left: 1px solid gray;box-sizing: border-box;top: 0;bottom: 0;left: 50%;z-index: -1;}#sk-container-id-1 div.sk-parallel-item {display: flex;flex-direction: column;z-index: 1;position: relative;background-color: white;}#sk-container-id-1 div.sk-parallel-item:first-child::after {align-self: flex-end;width: 50%;}#sk-container-id-1 div.sk-parallel-item:last-child::after {align-self: flex-start;width: 50%;}#sk-container-id-1 div.sk-parallel-item:only-child::after {width: 0;}#sk-container-id-1 div.sk-dashed-wrapped {border: 1px dashed gray;margin: 0 0.4em 0.5em 0.4em;box-sizing: border-box;padding-bottom: 0.4em;background-color: white;}#sk-container-id-1 div.sk-label label {font-family: monospace;font-weight: bold;display: inline-block;line-height: 1.2em;}#sk-container-id-1 div.sk-label-container {text-align: center;}#sk-container-id-1 div.sk-container {/* jupyter's `normalize.less` sets `[hidden] { display: none; }` but bootstrap.min.css set `[hidden] { display: none !important; }` so we also need the `!important` here to be able to override the default hidden behavior on the sphinx rendered scikit-learn.org. See: https://github.com/scikit-learn/scikit-learn/issues/21755 */display: inline-block !important;position: relative;}#sk-container-id-1 div.sk-text-repr-fallback {display: none;}</style><div id=\"sk-container-id-1\" class=\"sk-top-container\"><div class=\"sk-text-repr-fallback\"><pre>SVC(C=0.01, kernel=&#x27;linear&#x27;)</pre><b>In a Jupyter environment, please rerun this cell to show the HTML representation or trust the notebook. <br />On GitHub, the HTML representation is unable to render, please try loading this page with nbviewer.org.</b></div><div class=\"sk-container\" hidden><div class=\"sk-item\"><div class=\"sk-estimator sk-toggleable\"><input class=\"sk-toggleable__control sk-hidden--visually\" id=\"sk-estimator-id-1\" type=\"checkbox\" checked><label for=\"sk-estimator-id-1\" class=\"sk-toggleable__label sk-toggleable__label-arrow\">SVC</label><div class=\"sk-toggleable__content\"><pre>SVC(C=0.01, kernel=&#x27;linear&#x27;)</pre></div></div></div></div></div>"
            ]
          },
          "metadata": {},
          "execution_count": 17
        }
      ],
      "source": [
        "svc.fit(breast.data,breast.target)"
      ]
    },
    {
      "cell_type": "code",
      "execution_count": 22,
      "id": "b4456f8b",
      "metadata": {
        "id": "b4456f8b"
      },
      "outputs": [],
      "source": [
        "ypred = svc.predict(breast.data)\n"
      ]
    },
    {
      "cell_type": "code",
      "execution_count": 18,
      "id": "fd1801d0",
      "metadata": {
        "id": "fd1801d0"
      },
      "outputs": [],
      "source": [
        "from sklearn.metrics import accuracy_score"
      ]
    },
    {
      "cell_type": "code",
      "source": [
        "accuracy_score(breast.target,ypred)"
      ],
      "metadata": {
        "colab": {
          "base_uri": "https://localhost:8080/"
        },
        "id": "SFbwvBF4Fgqd",
        "outputId": "88ea472b-0cc7-40ac-9cf2-fc71610234fe"
      },
      "id": "SFbwvBF4Fgqd",
      "execution_count": 26,
      "outputs": [
        {
          "output_type": "execute_result",
          "data": {
            "text/plain": [
              "0.9525483304042179"
            ]
          },
          "metadata": {},
          "execution_count": 26
        }
      ]
    },
    {
      "cell_type": "code",
      "execution_count": 25,
      "id": "8270d5d1",
      "metadata": {
        "colab": {
          "base_uri": "https://localhost:8080/"
        },
        "id": "8270d5d1",
        "outputId": "f458aa2f-0410-42a8-fe61-8222da8056ed"
      },
      "outputs": [
        {
          "output_type": "execute_result",
          "data": {
            "text/plain": [
              "0.047451669595782064"
            ]
          },
          "metadata": {},
          "execution_count": 25
        }
      ],
      "source": [
        "1 - accuracy_score(breast.target,ypred)"
      ]
    },
    {
      "cell_type": "code",
      "execution_count": null,
      "id": "a6275c65",
      "metadata": {
        "id": "a6275c65"
      },
      "outputs": [],
      "source": []
    },
    {
      "cell_type": "markdown",
      "id": "9b743e8d",
      "metadata": {
        "id": "9b743e8d"
      },
      "source": [
        "### Seleção e Validação"
      ]
    },
    {
      "cell_type": "markdown",
      "id": "b924862f",
      "metadata": {
        "id": "b924862f"
      },
      "source": [
        "### Treino e Teste"
      ]
    },
    {
      "cell_type": "markdown",
      "id": "6e90e268",
      "metadata": {
        "id": "6e90e268"
      },
      "source": [
        "Use `train_test_split` para dividir a amostra em dois subconjutos. Um conjuto de treino e um conjunto de teste.\n",
        "\n",
        "Use isso para calcular o erro de *hold-out*."
      ]
    },
    {
      "cell_type": "code",
      "execution_count": 29,
      "id": "7b592047",
      "metadata": {
        "id": "7b592047"
      },
      "outputs": [],
      "source": [
        "from sklearn.model_selection import train_test_split"
      ]
    },
    {
      "cell_type": "code",
      "execution_count": 33,
      "id": "1c915a11",
      "metadata": {
        "id": "1c915a11"
      },
      "outputs": [],
      "source": [
        "Xtreino,Xteste,ytreino,yteste=train_test_split(breast.data,breast.target,test_size=0.4, stratify = breast.target)"
      ]
    },
    {
      "cell_type": "code",
      "execution_count": 39,
      "id": "115b4471",
      "metadata": {
        "colab": {
          "base_uri": "https://localhost:8080/"
        },
        "id": "115b4471",
        "outputId": "1d08c7da-6332-4451-e431-bc7314ee1fda"
      },
      "outputs": [
        {
          "output_type": "execute_result",
          "data": {
            "text/plain": [
              "1    0.627193\n",
              "0    0.372807\n",
              "dtype: float64"
            ]
          },
          "metadata": {},
          "execution_count": 39
        }
      ],
      "source": [
        "pd.Series(yteste).value_counts() / len(yteste)"
      ]
    },
    {
      "cell_type": "code",
      "execution_count": 41,
      "id": "5d8c0e5b",
      "metadata": {
        "colab": {
          "base_uri": "https://localhost:8080/"
        },
        "id": "5d8c0e5b",
        "outputId": "17cab915-bb42-46d5-fde5-97e88d1af4b6"
      },
      "outputs": [
        {
          "output_type": "execute_result",
          "data": {
            "text/plain": [
              "1    0.627566\n",
              "0    0.372434\n",
              "dtype: float64"
            ]
          },
          "metadata": {},
          "execution_count": 41
        }
      ],
      "source": [
        "pd.Series(ytreino).value_counts() / len(ytreino)"
      ]
    },
    {
      "cell_type": "code",
      "source": [],
      "metadata": {
        "id": "Zl-rK3DpJAxI"
      },
      "id": "Zl-rK3DpJAxI",
      "execution_count": null,
      "outputs": []
    },
    {
      "cell_type": "markdown",
      "id": "fca3cd88",
      "metadata": {
        "id": "fca3cd88"
      },
      "source": [
        "### Treino, Teste e Validação"
      ]
    },
    {
      "cell_type": "markdown",
      "id": "c17b74bf",
      "metadata": {
        "id": "c17b74bf"
      },
      "source": [
        "![image.png](attachment:image.png)"
      ]
    },
    {
      "cell_type": "code",
      "execution_count": null,
      "id": "356c8940",
      "metadata": {
        "id": "356c8940"
      },
      "outputs": [],
      "source": []
    },
    {
      "cell_type": "code",
      "execution_count": null,
      "id": "12e4b226",
      "metadata": {
        "id": "12e4b226"
      },
      "outputs": [],
      "source": [
        "X_test.shape"
      ]
    },
    {
      "cell_type": "markdown",
      "id": "3057747f",
      "metadata": {
        "id": "3057747f"
      },
      "source": [
        "## Ajuste de hiperparâmetros"
      ]
    },
    {
      "cell_type": "code",
      "execution_count": 42,
      "id": "02aac8b7",
      "metadata": {
        "id": "02aac8b7"
      },
      "outputs": [],
      "source": [
        "C = [0.1, 1, 10, 100, 1000]\n",
        "gamma = [0.001, 0.005, 0.01, 0.05, 0.1, 0.5, 1, 5]"
      ]
    },
    {
      "cell_type": "code",
      "execution_count": 43,
      "id": "0b1e118c",
      "metadata": {
        "id": "0b1e118c"
      },
      "outputs": [],
      "source": [
        "resultados = {}"
      ]
    },
    {
      "cell_type": "code",
      "execution_count": 44,
      "id": "824610c2",
      "metadata": {
        "colab": {
          "base_uri": "https://localhost:8080/",
          "height": 262
        },
        "id": "824610c2",
        "outputId": "1e2d7899-dc25-4ece-d0c5-7188a04e6f84"
      },
      "outputs": [
        {
          "output_type": "stream",
          "name": "stdout",
          "text": [
            "Treinando com C=0.1\n"
          ]
        },
        {
          "output_type": "error",
          "ename": "NameError",
          "evalue": "name 'X_train' is not defined",
          "traceback": [
            "\u001b[0;31m---------------------------------------------------------------------------\u001b[0m",
            "\u001b[0;31mNameError\u001b[0m                                 Traceback (most recent call last)",
            "\u001b[0;32m<ipython-input-44-6e41fb3f9394>\u001b[0m in \u001b[0;36m<cell line: 1>\u001b[0;34m()\u001b[0m\n\u001b[1;32m      5\u001b[0m         \u001b[0msvm\u001b[0m \u001b[0;34m=\u001b[0m \u001b[0mSVC\u001b[0m\u001b[0;34m(\u001b[0m\u001b[0mkernel\u001b[0m\u001b[0;34m=\u001b[0m\u001b[0;34m'rbf'\u001b[0m\u001b[0;34m,\u001b[0m \u001b[0mC\u001b[0m\u001b[0;34m=\u001b[0m\u001b[0mc\u001b[0m\u001b[0;34m,\u001b[0m \u001b[0mgamma\u001b[0m\u001b[0;34m=\u001b[0m\u001b[0mg\u001b[0m\u001b[0;34m)\u001b[0m\u001b[0;34m;\u001b[0m\u001b[0;34m\u001b[0m\u001b[0;34m\u001b[0m\u001b[0m\n\u001b[1;32m      6\u001b[0m \u001b[0;34m\u001b[0m\u001b[0m\n\u001b[0;32m----> 7\u001b[0;31m         \u001b[0msvm\u001b[0m\u001b[0;34m.\u001b[0m\u001b[0mfit\u001b[0m\u001b[0;34m(\u001b[0m\u001b[0mX_train\u001b[0m\u001b[0;34m,\u001b[0m \u001b[0my_train\u001b[0m\u001b[0;34m)\u001b[0m\u001b[0;34m\u001b[0m\u001b[0;34m\u001b[0m\u001b[0m\n\u001b[0m\u001b[1;32m      8\u001b[0m         \u001b[0mypred\u001b[0m \u001b[0;34m=\u001b[0m \u001b[0msvm\u001b[0m\u001b[0;34m.\u001b[0m\u001b[0mpredict\u001b[0m\u001b[0;34m(\u001b[0m\u001b[0mX_val\u001b[0m\u001b[0;34m)\u001b[0m\u001b[0;34m\u001b[0m\u001b[0;34m\u001b[0m\u001b[0m\n\u001b[1;32m      9\u001b[0m \u001b[0;34m\u001b[0m\u001b[0m\n",
            "\u001b[0;31mNameError\u001b[0m: name 'X_train' is not defined"
          ]
        }
      ],
      "source": [
        "for c in C:\n",
        "    print(f\"Treinando com C={c}\")\n",
        "\n",
        "    for g in gamma:\n",
        "        svm = SVC(kernel='rbf', C=c, gamma=g);\n",
        "\n",
        "        svm.fit(X_train, y_train)\n",
        "        ypred = svm.predict(X_val)\n",
        "\n",
        "        acc = accuracy_score(y_val, ypred)\n",
        "\n",
        "        resultados[(c, g)] = acc"
      ]
    },
    {
      "cell_type": "code",
      "execution_count": null,
      "id": "44b65719",
      "metadata": {
        "id": "44b65719"
      },
      "outputs": [],
      "source": [
        "resultados"
      ]
    },
    {
      "cell_type": "code",
      "execution_count": null,
      "id": "23ae6d68",
      "metadata": {
        "id": "23ae6d68"
      },
      "outputs": [],
      "source": [
        "melhor_acc = 0\n",
        "melhor_chave = None\n",
        "\n",
        "for chave in resultados:\n",
        "    if resultados[chave] > melhor_acc:\n",
        "        melhor_chave = chave\n",
        "        melhor_acc = resultados[chave]"
      ]
    },
    {
      "cell_type": "code",
      "execution_count": null,
      "id": "e260e04a",
      "metadata": {
        "id": "e260e04a"
      },
      "outputs": [],
      "source": [
        "melhor_chave"
      ]
    },
    {
      "cell_type": "code",
      "execution_count": null,
      "id": "681d8150",
      "metadata": {
        "id": "681d8150"
      },
      "outputs": [],
      "source": [
        "melhor_acc"
      ]
    },
    {
      "cell_type": "code",
      "execution_count": null,
      "id": "13a01757",
      "metadata": {
        "id": "13a01757"
      },
      "outputs": [],
      "source": [
        "svm_test = SVC(kernel='rbf', C=1, gamma=0.001)"
      ]
    },
    {
      "cell_type": "code",
      "execution_count": null,
      "id": "3a18f55a",
      "metadata": {
        "id": "3a18f55a"
      },
      "outputs": [],
      "source": [
        "svm_test.fit(X_aux, y_aux)"
      ]
    },
    {
      "cell_type": "code",
      "execution_count": null,
      "id": "4c3cc935",
      "metadata": {
        "id": "4c3cc935"
      },
      "outputs": [],
      "source": [
        "ypred = svm_test.predict(X_test)"
      ]
    },
    {
      "cell_type": "code",
      "execution_count": null,
      "id": "0a8d7ea4",
      "metadata": {
        "id": "0a8d7ea4"
      },
      "outputs": [],
      "source": [
        "accuracy_score(y_test, ypred)"
      ]
    },
    {
      "cell_type": "code",
      "execution_count": null,
      "id": "8b086fad",
      "metadata": {
        "id": "8b086fad"
      },
      "outputs": [],
      "source": [
        "svm_final = SVC(kernel='rbf', C=1, gamma=0.001)"
      ]
    },
    {
      "cell_type": "code",
      "execution_count": null,
      "id": "bf30f9fd",
      "metadata": {
        "id": "bf30f9fd"
      },
      "outputs": [],
      "source": [
        "svm_final.fit(breast.data, breast.target)"
      ]
    },
    {
      "cell_type": "code",
      "execution_count": null,
      "id": "68089b47",
      "metadata": {
        "id": "68089b47"
      },
      "outputs": [],
      "source": [
        "svm.support_vectors_.shape"
      ]
    }
  ],
  "metadata": {
    "kernelspec": {
      "display_name": "Python 3 (ipykernel)",
      "language": "python",
      "name": "python3"
    },
    "language_info": {
      "codemirror_mode": {
        "name": "ipython",
        "version": 3
      },
      "file_extension": ".py",
      "mimetype": "text/x-python",
      "name": "python",
      "nbconvert_exporter": "python",
      "pygments_lexer": "ipython3",
      "version": "3.11.2"
    },
    "colab": {
      "provenance": [],
      "include_colab_link": true
    }
  },
  "nbformat": 4,
  "nbformat_minor": 5
}